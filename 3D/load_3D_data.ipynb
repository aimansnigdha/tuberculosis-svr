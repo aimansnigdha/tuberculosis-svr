{
 "cells": [
  {
   "cell_type": "markdown",
   "metadata": {},
   "source": [
    "### Load 3D data, preprocess and save as numpy array"
   ]
  },
  {
   "cell_type": "code",
   "execution_count": 9,
   "metadata": {},
   "outputs": [
    {
     "name": "stdout",
     "output_type": "stream",
     "text": [
      "218\n"
     ]
    }
   ],
   "source": [
    "import os, glob\n",
    "import cv2\n",
    "import numpy as np\n",
    "import matplotlib.pyplot as plt\n",
    "import h5py\n",
    "import helpers as H\n",
    "from tqdm import tqdm\n",
    "\n",
    "#Root directory of the project\n",
    "ROOT_DIR = os.path.abspath(\".\")\n",
    "TRAIN_DATASET_PATH = os.path.join(ROOT_DIR, \"dataset\")\n",
    "train_data_paths = os.listdir(os.path.join(TRAIN_DATASET_PATH, \"img_datas_1\"))\n",
    "print(len(train_data_paths))"
   ]
  },
  {
   "cell_type": "code",
   "execution_count": 10,
   "metadata": {},
   "outputs": [],
   "source": [
    "def dir_test(path):\n",
    "    return len(os.listdir(path))\n",
    "\n",
    "w, h = 128, 128\n",
    "def rs_img(img):\n",
    "    '''W and H is 128 now\n",
    "    '''\n",
    "    #H.normalize\n",
    "    flatten = [cv2.resize(img[:,:,i], (w, h), interpolation=cv2.INTER_CUBIC) for i in range(img.shape[-1])]\n",
    "    img = np.array(np.dstack(flatten)) \n",
    "    return img\n",
    "\n",
    "def change_depth(img):\n",
    "    '''Depth is 32 now\n",
    "    '''\n",
    "    #img_start = img[:,:,:8]\n",
    "    \n",
    "    mid = int(img.shape[-1]/2)\n",
    "    img_middle = img[:,:,mid-16:mid+16]\n",
    "    \n",
    "    #img_end = img[:,:,-8:]\n",
    "    #img = np.concatenate((img_start, img_middle, img_end), axis=2)\n",
    "    img = img_middle\n",
    "    \n",
    "    return img\n",
    "\n",
    "def get_number(filename):\n",
    "    return int(filename[:filename.find('.')])\n",
    "\n",
    "def sort_paths(paths):\n",
    "    paths.sort(key = get_number)\n",
    "    return paths\n",
    "\n",
    "def load_numpy(path):\n",
    "    val = np.load(path)\n",
    "    print(val.shape)\n",
    "    return val\n",
    "\n",
    "def expand_dims(val):\n",
    "    val_exp = np.expand_dims(val, axis=4)\n",
    "    return val_exp\n",
    "\n",
    "def plot_slice(img, sl_num):\n",
    "    plt.imshow(img[:,:,sl_num])\n",
    "\n",
    "\n",
    "def to_3D(arr, resize_dim=None):\n",
    "    '''Stack 2D slice to add dummy 3-channel dimension'''\n",
    "    img = np.asarray(np.dstack((arr, arr, arr)), dtype=np.float64)\n",
    "    if resize_dim is not None:\n",
    "        img=cv2.resize(img,(resize_dim, resize_dim),interpolation=cv2.INTER_AREA)    \n",
    "    else:\n",
    "        pass\n",
    "    return img"
   ]
  },
  {
   "cell_type": "code",
   "execution_count": 11,
   "metadata": {},
   "outputs": [
    {
     "data": {
      "text/plain": [
       "['1.npy', '10.npy', '100.npy', '101.npy']"
      ]
     },
     "execution_count": 11,
     "metadata": {},
     "output_type": "execute_result"
    }
   ],
   "source": [
    "train_data_paths[:4]"
   ]
  },
  {
   "cell_type": "code",
   "execution_count": 12,
   "metadata": {},
   "outputs": [
    {
     "data": {
      "text/plain": [
       "['1.npy', '2.npy', '3.npy', '4.npy', '5.npy']"
      ]
     },
     "execution_count": 12,
     "metadata": {},
     "output_type": "execute_result"
    }
   ],
   "source": [
    "sort_paths(train_data_paths)[:5]"
   ]
  },
  {
   "cell_type": "code",
   "execution_count": 13,
   "metadata": {},
   "outputs": [
    {
     "data": {
      "text/plain": [
       "'E:\\\\ECIR_2020\\\\ecir2020\\\\3D\\\\dataset\\\\3D_images_normalized'"
      ]
     },
     "execution_count": 13,
     "metadata": {},
     "output_type": "execute_result"
    }
   ],
   "source": [
    "norm_path = os.path.join(TRAIN_DATASET_PATH, \"3D_images_normalized\")\n",
    "norm_path"
   ]
  },
  {
   "cell_type": "code",
   "execution_count": 14,
   "metadata": {},
   "outputs": [],
   "source": [
    "H.create_directory(os.path.join(norm_path))"
   ]
  },
  {
   "cell_type": "code",
   "execution_count": 17,
   "metadata": {},
   "outputs": [
    {
     "name": "stdout",
     "output_type": "stream",
     "text": [
      "1 -- 1.npy ----- (512, 512, 128) ------- (128, 128, 32)\n",
      "2 -- 2.npy ----- (512, 512, 122) ------- (128, 128, 32)\n",
      "3 -- 3.npy ----- (512, 512, 113) ------- (128, 128, 32)\n",
      "4 -- 4.npy ----- (512, 512, 120) ------- (128, 128, 32)\n",
      "5 -- 5.npy ----- (512, 512, 116) ------- (128, 128, 32)\n",
      "6 -- 6.npy ----- (512, 512, 131) ------- (128, 128, 32)\n",
      "7 -- 7.npy ----- (512, 512, 123) ------- (128, 128, 32)\n",
      "8 -- 8.npy ----- (512, 512, 132) ------- (128, 128, 32)\n",
      "9 -- 9.npy ----- (512, 512, 144) ------- (128, 128, 32)\n",
      "10 -- 10.npy ----- (512, 512, 131) ------- (128, 128, 32)\n",
      "11 -- 11.npy ----- (512, 512, 133) ------- (128, 128, 32)\n",
      "12 -- 12.npy ----- (512, 512, 132) ------- (128, 128, 32)\n",
      "13 -- 13.npy ----- (512, 512, 129) ------- (128, 128, 32)\n",
      "14 -- 14.npy ----- (512, 512, 116) ------- (128, 128, 32)\n",
      "15 -- 15.npy ----- (512, 512, 130) ------- (128, 128, 32)\n",
      "16 -- 16.npy ----- (512, 512, 125) ------- (128, 128, 32)\n",
      "17 -- 17.npy ----- (512, 512, 104) ------- (128, 128, 32)\n",
      "18 -- 18.npy ----- (512, 512, 114) ------- (128, 128, 32)\n",
      "19 -- 19.npy ----- (512, 512, 132) ------- (128, 128, 32)\n",
      "20 -- 20.npy ----- (512, 512, 112) ------- (128, 128, 32)\n",
      "21 -- 21.npy ----- (512, 512, 112) ------- (128, 128, 32)\n",
      "22 -- 22.npy ----- (512, 512, 133) ------- (128, 128, 32)\n",
      "23 -- 23.npy ----- (512, 512, 104) ------- (128, 128, 32)\n",
      "24 -- 24.npy ----- (512, 512, 122) ------- (128, 128, 32)\n",
      "25 -- 25.npy ----- (512, 512, 129) ------- (128, 128, 32)\n",
      "26 -- 26.npy ----- (512, 512, 100) ------- (128, 128, 32)\n",
      "27 -- 27.npy ----- (512, 512, 131) ------- (128, 128, 32)\n",
      "28 -- 28.npy ----- (512, 512, 129) ------- (128, 128, 32)\n",
      "29 -- 29.npy ----- (512, 512, 102) ------- (128, 128, 32)\n",
      "30 -- 30.npy ----- (512, 512, 123) ------- (128, 128, 32)\n",
      "31 -- 31.npy ----- (512, 512, 114) ------- (128, 128, 32)\n",
      "32 -- 32.npy ----- (512, 512, 119) ------- (128, 128, 32)\n",
      "33 -- 33.npy ----- (512, 512, 103) ------- (128, 128, 32)\n",
      "34 -- 34.npy ----- (512, 512, 127) ------- (128, 128, 32)\n",
      "35 -- 35.npy ----- (512, 512, 112) ------- (128, 128, 32)\n",
      "36 -- 36.npy ----- (512, 512, 125) ------- (128, 128, 32)\n",
      "37 -- 37.npy ----- (512, 512, 124) ------- (128, 128, 32)\n",
      "38 -- 38.npy ----- (512, 512, 155) ------- (128, 128, 32)\n",
      "39 -- 39.npy ----- (512, 512, 119) ------- (128, 128, 32)\n",
      "40 -- 40.npy ----- (512, 512, 123) ------- (128, 128, 32)\n",
      "41 -- 41.npy ----- (512, 512, 127) ------- (128, 128, 32)\n",
      "42 -- 42.npy ----- (512, 512, 106) ------- (128, 128, 32)\n",
      "43 -- 43.npy ----- (512, 512, 126) ------- (128, 128, 32)\n",
      "44 -- 44.npy ----- (512, 512, 132) ------- (128, 128, 32)\n",
      "45 -- 45.npy ----- (512, 512, 133) ------- (128, 128, 32)\n",
      "46 -- 46.npy ----- (512, 512, 135) ------- (128, 128, 32)\n",
      "47 -- 47.npy ----- (512, 512, 114) ------- (128, 128, 32)\n",
      "48 -- 48.npy ----- (512, 512, 134) ------- (128, 128, 32)\n",
      "49 -- 49.npy ----- (512, 512, 126) ------- (128, 128, 32)\n",
      "50 -- 50.npy ----- (512, 512, 114) ------- (128, 128, 32)\n",
      "51 -- 51.npy ----- (512, 512, 115) ------- (128, 128, 32)\n",
      "52 -- 52.npy ----- (512, 512, 138) ------- (128, 128, 32)\n",
      "53 -- 53.npy ----- (512, 512, 121) ------- (128, 128, 32)\n",
      "54 -- 54.npy ----- (512, 512, 110) ------- (128, 128, 32)\n",
      "55 -- 55.npy ----- (512, 512, 125) ------- (128, 128, 32)\n",
      "56 -- 56.npy ----- (512, 512, 239) ------- (128, 128, 32)\n",
      "57 -- 57.npy ----- (512, 512, 118) ------- (128, 128, 32)\n",
      "58 -- 58.npy ----- (512, 512, 115) ------- (128, 128, 32)\n",
      "59 -- 59.npy ----- (512, 512, 61) ------- (128, 128, 32)\n",
      "60 -- 60.npy ----- (512, 512, 135) ------- (128, 128, 32)\n",
      "61 -- 61.npy ----- (512, 512, 136) ------- (128, 128, 32)\n",
      "62 -- 62.npy ----- (512, 512, 139) ------- (128, 128, 32)\n",
      "63 -- 63.npy ----- (512, 512, 104) ------- (128, 128, 32)\n",
      "64 -- 64.npy ----- (512, 512, 123) ------- (128, 128, 32)\n",
      "65 -- 65.npy ----- (512, 512, 61) ------- (128, 128, 32)\n",
      "66 -- 66.npy ----- (512, 512, 126) ------- (128, 128, 32)\n",
      "67 -- 67.npy ----- (512, 512, 259) ------- (128, 128, 32)\n",
      "68 -- 68.npy ----- (512, 512, 131) ------- (128, 128, 32)\n",
      "69 -- 69.npy ----- (512, 512, 128) ------- (128, 128, 32)\n",
      "70 -- 70.npy ----- (512, 512, 135) ------- (128, 128, 32)\n",
      "71 -- 71.npy ----- (512, 512, 108) ------- (128, 128, 32)\n",
      "72 -- 72.npy ----- (512, 512, 53) ------- (128, 128, 32)\n",
      "73 -- 73.npy ----- (512, 512, 122) ------- (128, 128, 32)\n",
      "74 -- 74.npy ----- (512, 512, 116) ------- (128, 128, 32)\n",
      "75 -- 75.npy ----- (512, 512, 122) ------- (128, 128, 32)\n",
      "76 -- 76.npy ----- (512, 512, 130) ------- (128, 128, 32)\n",
      "77 -- 77.npy ----- (512, 512, 135) ------- (128, 128, 32)\n",
      "78 -- 78.npy ----- (512, 512, 118) ------- (128, 128, 32)\n",
      "79 -- 79.npy ----- (512, 512, 263) ------- (128, 128, 32)\n",
      "80 -- 80.npy ----- (512, 512, 126) ------- (128, 128, 32)\n",
      "81 -- 81.npy ----- (512, 512, 119) ------- (128, 128, 32)\n",
      "82 -- 82.npy ----- (512, 512, 125) ------- (128, 128, 32)\n",
      "83 -- 83.npy ----- (512, 512, 131) ------- (128, 128, 32)\n",
      "84 -- 84.npy ----- (512, 512, 103) ------- (128, 128, 32)\n",
      "85 -- 85.npy ----- (512, 512, 116) ------- (128, 128, 32)\n",
      "86 -- 86.npy ----- (512, 512, 131) ------- (128, 128, 32)\n",
      "87 -- 87.npy ----- (512, 512, 214) ------- (128, 128, 32)\n",
      "88 -- 88.npy ----- (512, 512, 120) ------- (128, 128, 32)\n",
      "89 -- 89.npy ----- (512, 512, 125) ------- (128, 128, 32)\n",
      "90 -- 90.npy ----- (512, 512, 128) ------- (128, 128, 32)\n",
      "91 -- 91.npy ----- (512, 512, 115) ------- (128, 128, 32)\n",
      "92 -- 92.npy ----- (512, 512, 133) ------- (128, 128, 32)\n",
      "93 -- 93.npy ----- (512, 512, 128) ------- (128, 128, 32)\n",
      "94 -- 94.npy ----- (512, 512, 153) ------- (128, 128, 32)\n",
      "95 -- 95.npy ----- (512, 512, 135) ------- (128, 128, 32)\n",
      "96 -- 96.npy ----- (512, 512, 124) ------- (128, 128, 32)\n",
      "97 -- 97.npy ----- (512, 512, 123) ------- (128, 128, 32)\n",
      "98 -- 98.npy ----- (512, 512, 116) ------- (128, 128, 32)\n",
      "99 -- 99.npy ----- (512, 512, 149) ------- (128, 128, 32)\n",
      "100 -- 100.npy ----- (512, 512, 118) ------- (128, 128, 32)\n",
      "101 -- 101.npy ----- (512, 512, 84) ------- (128, 128, 32)\n",
      "102 -- 102.npy ----- (512, 512, 121) ------- (128, 128, 32)\n",
      "103 -- 103.npy ----- (512, 512, 133) ------- (128, 128, 32)\n",
      "104 -- 104.npy ----- (512, 512, 114) ------- (128, 128, 32)\n",
      "105 -- 105.npy ----- (512, 512, 136) ------- (128, 128, 32)\n",
      "106 -- 106.npy ----- (512, 512, 69) ------- (128, 128, 32)\n",
      "107 -- 107.npy ----- (512, 512, 139) ------- (128, 128, 32)\n",
      "108 -- 108.npy ----- (512, 512, 132) ------- (128, 128, 32)\n",
      "109 -- 109.npy ----- (512, 512, 136) ------- (128, 128, 32)\n",
      "110 -- 110.npy ----- (512, 512, 133) ------- (128, 128, 32)\n",
      "111 -- 111.npy ----- (512, 512, 136) ------- (128, 128, 32)\n",
      "112 -- 112.npy ----- (512, 512, 134) ------- (128, 128, 32)\n",
      "113 -- 113.npy ----- (512, 512, 134) ------- (128, 128, 32)\n",
      "114 -- 114.npy ----- (512, 512, 132) ------- (128, 128, 32)\n",
      "115 -- 115.npy ----- (512, 512, 137) ------- (128, 128, 32)\n",
      "116 -- 116.npy ----- (512, 512, 71) ------- (128, 128, 32)\n",
      "117 -- 117.npy ----- (512, 512, 127) ------- (128, 128, 32)\n",
      "118 -- 118.npy ----- (512, 512, 103) ------- (128, 128, 32)\n",
      "119 -- 119.npy ----- (512, 512, 150) ------- (128, 128, 32)\n",
      "120 -- 120.npy ----- (512, 512, 122) ------- (128, 128, 32)\n",
      "121 -- 121.npy ----- (512, 512, 108) ------- (128, 128, 32)\n",
      "122 -- 122.npy ----- (512, 512, 116) ------- (128, 128, 32)\n",
      "123 -- 123.npy ----- (512, 512, 125) ------- (128, 128, 32)\n",
      "124 -- 124.npy ----- (512, 512, 137) ------- (128, 128, 32)\n",
      "125 -- 125.npy ----- (512, 512, 151) ------- (128, 128, 32)\n",
      "126 -- 126.npy ----- (512, 512, 130) ------- (128, 128, 32)\n",
      "127 -- 127.npy ----- (512, 512, 140) ------- (128, 128, 32)\n",
      "128 -- 128.npy ----- (512, 512, 110) ------- (128, 128, 32)\n",
      "129 -- 129.npy ----- (512, 512, 123) ------- (128, 128, 32)\n",
      "130 -- 130.npy ----- (512, 512, 134) ------- (128, 128, 32)\n",
      "131 -- 131.npy ----- (512, 512, 131) ------- (128, 128, 32)\n",
      "132 -- 132.npy ----- (512, 512, 120) ------- (128, 128, 32)\n",
      "133 -- 133.npy ----- (512, 512, 115) ------- (128, 128, 32)\n",
      "134 -- 134.npy ----- (512, 512, 129) ------- (128, 128, 32)\n",
      "135 -- 135.npy ----- (512, 512, 132) ------- (128, 128, 32)\n",
      "136 -- 136.npy ----- (512, 512, 141) ------- (128, 128, 32)\n",
      "137 -- 137.npy ----- (512, 512, 121) ------- (128, 128, 32)\n",
      "138 -- 138.npy ----- (512, 512, 140) ------- (128, 128, 32)\n",
      "139 -- 139.npy ----- (512, 512, 121) ------- (128, 128, 32)\n",
      "140 -- 140.npy ----- (512, 512, 137) ------- (128, 128, 32)\n",
      "141 -- 141.npy ----- (512, 512, 137) ------- (128, 128, 32)\n",
      "142 -- 142.npy ----- (512, 512, 132) ------- (128, 128, 32)\n",
      "143 -- 143.npy ----- (512, 512, 119) ------- (128, 128, 32)\n",
      "144 -- 144.npy ----- (512, 512, 138) ------- (128, 128, 32)\n",
      "145 -- 145.npy ----- (512, 512, 124) ------- (128, 128, 32)\n",
      "146 -- 146.npy ----- (512, 512, 138) ------- (128, 128, 32)\n",
      "147 -- 147.npy ----- (512, 512, 136) ------- (128, 128, 32)\n",
      "148 -- 148.npy ----- (512, 512, 119) ------- (128, 128, 32)\n",
      "149 -- 149.npy ----- (512, 512, 134) ------- (128, 128, 32)\n",
      "150 -- 150.npy ----- (512, 512, 134) ------- (128, 128, 32)\n",
      "151 -- 151.npy ----- (512, 512, 139) ------- (128, 128, 32)\n",
      "152 -- 152.npy ----- (512, 512, 125) ------- (128, 128, 32)\n",
      "153 -- 153.npy ----- (512, 512, 134) ------- (128, 128, 32)\n",
      "154 -- 154.npy ----- (512, 512, 121) ------- (128, 128, 32)\n",
      "155 -- 155.npy ----- (512, 512, 127) ------- (128, 128, 32)\n",
      "156 -- 156.npy ----- (512, 512, 121) ------- (128, 128, 32)\n",
      "157 -- 157.npy ----- (512, 512, 120) ------- (128, 128, 32)\n",
      "158 -- 158.npy ----- (512, 512, 123) ------- (128, 128, 32)\n",
      "159 -- 159.npy ----- (512, 512, 115) ------- (128, 128, 32)\n",
      "160 -- 160.npy ----- (512, 512, 141) ------- (128, 128, 32)\n",
      "161 -- 161.npy ----- (512, 512, 125) ------- (128, 128, 32)\n",
      "162 -- 162.npy ----- (512, 512, 130) ------- (128, 128, 32)\n",
      "163 -- 163.npy ----- (512, 512, 142) ------- (128, 128, 32)\n",
      "164 -- 164.npy ----- (512, 512, 132) ------- (128, 128, 32)\n",
      "165 -- 165.npy ----- (512, 512, 128) ------- (128, 128, 32)\n",
      "166 -- 166.npy ----- (512, 512, 138) ------- (128, 128, 32)\n",
      "167 -- 167.npy ----- (512, 512, 126) ------- (128, 128, 32)\n",
      "168 -- 168.npy ----- (512, 512, 125) ------- (128, 128, 32)\n",
      "169 -- 169.npy ----- (512, 512, 122) ------- (128, 128, 32)\n",
      "170 -- 170.npy ----- (512, 512, 134) ------- (128, 128, 32)\n",
      "171 -- 171.npy ----- (512, 512, 144) ------- (128, 128, 32)\n",
      "172 -- 172.npy ----- (512, 512, 86) ------- (128, 128, 32)\n",
      "173 -- 173.npy ----- (512, 512, 124) ------- (128, 128, 32)\n",
      "174 -- 174.npy ----- (512, 512, 130) ------- (128, 128, 32)\n",
      "175 -- 175.npy ----- (512, 512, 141) ------- (128, 128, 32)\n",
      "176 -- 176.npy ----- (512, 512, 126) ------- (128, 128, 32)\n",
      "177 -- 177.npy ----- (512, 512, 130) ------- (128, 128, 32)\n",
      "178 -- 178.npy ----- (512, 512, 126) ------- (128, 128, 32)\n",
      "179 -- 179.npy ----- (512, 512, 111) ------- (128, 128, 32)\n",
      "180 -- 180.npy ----- (512, 512, 137) ------- (128, 128, 32)\n",
      "181 -- 181.npy ----- (512, 512, 136) ------- (128, 128, 32)\n",
      "182 -- 182.npy ----- (512, 512, 146) ------- (128, 128, 32)\n",
      "183 -- 183.npy ----- (512, 512, 136) ------- (128, 128, 32)\n",
      "184 -- 184.npy ----- (512, 512, 142) ------- (128, 128, 32)\n",
      "185 -- 185.npy ----- (512, 512, 142) ------- (128, 128, 32)\n",
      "186 -- 186.npy ----- (512, 512, 130) ------- (128, 128, 32)\n",
      "187 -- 187.npy ----- (512, 512, 131) ------- (128, 128, 32)\n",
      "188 -- 188.npy ----- (512, 512, 144) ------- (128, 128, 32)\n",
      "189 -- 189.npy ----- (512, 512, 120) ------- (128, 128, 32)\n",
      "190 -- 190.npy ----- (512, 512, 102) ------- (128, 128, 32)\n",
      "191 -- 191.npy ----- (512, 512, 141) ------- (128, 128, 32)\n",
      "192 -- 192.npy ----- (512, 512, 153) ------- (128, 128, 32)\n",
      "193 -- 193.npy ----- (512, 512, 119) ------- (128, 128, 32)\n",
      "194 -- 194.npy ----- (512, 512, 114) ------- (128, 128, 32)\n",
      "195 -- 195.npy ----- (512, 512, 124) ------- (128, 128, 32)\n",
      "196 -- 196.npy ----- (512, 512, 140) ------- (128, 128, 32)\n",
      "197 -- 197.npy ----- (512, 512, 124) ------- (128, 128, 32)\n",
      "198 -- 198.npy ----- (512, 512, 135) ------- (128, 128, 32)\n",
      "199 -- 199.npy ----- (512, 512, 127) ------- (128, 128, 32)\n",
      "200 -- 200.npy ----- (512, 512, 174) ------- (128, 128, 32)\n",
      "201 -- 201.npy ----- (512, 512, 142) ------- (128, 128, 32)\n",
      "202 -- 202.npy ----- (512, 512, 139) ------- (128, 128, 32)\n",
      "203 -- 203.npy ----- (512, 512, 47) ------- (128, 128, 32)\n",
      "204 -- 204.npy ----- (512, 512, 131) ------- (128, 128, 32)\n",
      "205 -- 205.npy ----- (512, 512, 136) ------- (128, 128, 32)\n",
      "206 -- 206.npy ----- (512, 512, 136) ------- (128, 128, 32)\n",
      "207 -- 207.npy ----- (512, 512, 128) ------- (128, 128, 32)\n",
      "208 -- 208.npy ----- (512, 512, 135) ------- (128, 128, 32)\n",
      "209 -- 209.npy ----- (512, 512, 143) ------- (128, 128, 32)\n",
      "210 -- 210.npy ----- (512, 512, 127) ------- (128, 128, 32)\n",
      "211 -- 211.npy ----- (512, 512, 118) ------- (128, 128, 32)\n",
      "212 -- 212.npy ----- (512, 512, 133) ------- (128, 128, 32)\n",
      "213 -- 213.npy ----- (512, 512, 132) ------- (128, 128, 32)\n",
      "214 -- 214.npy ----- (512, 512, 130) ------- (128, 128, 32)\n",
      "215 -- 215.npy ----- (512, 512, 118) ------- (128, 128, 32)\n",
      "216 -- 216.npy ----- (512, 512, 112) ------- (128, 128, 32)\n",
      "217 -- 217.npy ----- (512, 512, 129) ------- (128, 128, 32)\n",
      "218 -- 218.npy ----- (512, 512, 140) ------- (128, 128, 32)\n",
      "Done\n"
     ]
    }
   ],
   "source": [
    "c = 0\n",
    "for path in train_data_paths[:]:\n",
    "    \n",
    "    # Load data\n",
    "    img = np.load(TRAIN_DATASET_PATH + \"{}/{}\".format(\"/img_datas_1/\", path))\n",
    "    \n",
    "    # Segment lung and normalize\n",
    "    img_rs = np.transpose(img, (2, 0, 1)) # CHW\n",
    "    \n",
    "    # Lung segmentation, padding if needed, threshold -1100 to 700, divide all vals with 1100 to bring to -1 to 1\n",
    "    img_rs = H.seperate_lungs_and_pad(img_rs)\n",
    "    img_rs = H.threshold_and_normalize_scan(img_rs)\n",
    "    \n",
    "    img_rs = np.transpose(img_rs, (1, 2, 0)) # HWC\n",
    "\n",
    "    # Resize w, h \n",
    "    img_rs = rs_img(img_rs)\n",
    "    \n",
    "    # Resize depth\n",
    "    img_rs = change_depth(img_rs)\n",
    "    \n",
    "    \n",
    "    c+=1\n",
    "    print(c, \"--\", path, \"-----\", img.shape, \"-------\", img_rs.shape)\n",
    "    # Save\n",
    "    np.save(norm_path + \"/{}.npy\".format(c), img_rs)\n",
    "    img = None\n",
    "    \n",
    "print(\"Done\")"
   ]
  },
  {
   "cell_type": "code",
   "execution_count": 19,
   "metadata": {},
   "outputs": [
    {
     "data": {
      "text/plain": [
       "218"
      ]
     },
     "execution_count": 19,
     "metadata": {},
     "output_type": "execute_result"
    }
   ],
   "source": [
    "len(os.listdir(norm_path))"
   ]
  },
  {
   "cell_type": "markdown",
   "metadata": {},
   "source": [
    "### Check saved image distribution"
   ]
  },
  {
   "cell_type": "code",
   "execution_count": 20,
   "metadata": {},
   "outputs": [
    {
     "data": {
      "text/plain": [
       "(128, 128, 32)"
      ]
     },
     "execution_count": 20,
     "metadata": {},
     "output_type": "execute_result"
    }
   ],
   "source": [
    "img = np.load(norm_path + \"/1.npy\")\n",
    "img.shape"
   ]
  },
  {
   "cell_type": "code",
   "execution_count": 21,
   "metadata": {},
   "outputs": [
    {
     "name": "stdout",
     "output_type": "stream",
     "text": [
      "-1.1153808 0.82402873\n"
     ]
    },
    {
     "data": {
      "image/png": "[encoded data removed]",
      "text/plain": [
       "<Figure size 432x288 with 1 Axes>"
      ]
     },
     "metadata": {
      "needs_background": "light"
     },
     "output_type": "display_data"
    }
   ],
   "source": [
    "img_flat = img.flatten()\n",
    "print(min(img_flat), max(img_flat))\n",
    "plt.hist(img_flat, bins=20, color='c')\n",
    "plt.title(\"After normalization\")\n",
    "plt.xlabel(\"Hounsfield Units (HU)\")\n",
    "plt.grid(True)\n",
    "plt.ylabel(\"Frequency\")\n",
    "plt.show()"
   ]
  },
  {
   "cell_type": "code",
   "execution_count": 28,
   "metadata": {},
   "outputs": [
    {
     "data": {
      "text/plain": [
       "<matplotlib.image.AxesImage at 0x1eaa428fac8>"
      ]
     },
     "execution_count": 28,
     "metadata": {},
     "output_type": "execute_result"
    },
    {
     "data": {
      "image/png": "[encoded data removed]",
      "text/plain": [
       "<Figure size 432x288 with 1 Axes>"
      ]
     },
     "metadata": {
      "needs_background": "light"
     },
     "output_type": "display_data"
    }
   ],
   "source": [
    "plt.imshow(img[:,:,22], cmap='gray')"
   ]
  },
  {
   "cell_type": "code",
   "execution_count": 23,
   "metadata": {},
   "outputs": [
    {
     "data": {
      "text/plain": [
       "'E:\\\\ECIR_2020\\\\ecir2020\\\\3D\\\\dataset\\\\3D_images_normalized'"
      ]
     },
     "execution_count": 23,
     "metadata": {},
     "output_type": "execute_result"
    }
   ],
   "source": [
    "norm_path"
   ]
  },
  {
   "cell_type": "code",
   "execution_count": 24,
   "metadata": {},
   "outputs": [
    {
     "data": {
      "text/plain": [
       "['1.npy', '2.npy', '3.npy', '4.npy']"
      ]
     },
     "execution_count": 24,
     "metadata": {},
     "output_type": "execute_result"
    }
   ],
   "source": [
    "sort_paths(os.listdir(norm_path))[:4]"
   ]
  },
  {
   "cell_type": "code",
   "execution_count": 15,
   "metadata": {},
   "outputs": [
    {
     "name": "stdout",
     "output_type": "stream",
     "text": [
      "1 ---- E:\\ECIR_2020\\ecir2020\\3D\\dataset\\3D_images_normalized/1.npy (128, 128, 32)\n",
      "2 ---- E:\\ECIR_2020\\ecir2020\\3D\\dataset\\3D_images_normalized/2.npy (128, 128, 32)\n",
      "3 ---- E:\\ECIR_2020\\ecir2020\\3D\\dataset\\3D_images_normalized/3.npy (128, 128, 32)\n",
      "4 ---- E:\\ECIR_2020\\ecir2020\\3D\\dataset\\3D_images_normalized/4.npy (128, 128, 32)\n",
      "5 ---- E:\\ECIR_2020\\ecir2020\\3D\\dataset\\3D_images_normalized/5.npy (128, 128, 32)\n",
      "6 ---- E:\\ECIR_2020\\ecir2020\\3D\\dataset\\3D_images_normalized/6.npy (128, 128, 32)\n",
      "7 ---- E:\\ECIR_2020\\ecir2020\\3D\\dataset\\3D_images_normalized/7.npy (128, 128, 32)\n",
      "8 ---- E:\\ECIR_2020\\ecir2020\\3D\\dataset\\3D_images_normalized/8.npy (128, 128, 32)\n",
      "9 ---- E:\\ECIR_2020\\ecir2020\\3D\\dataset\\3D_images_normalized/9.npy (128, 128, 32)\n",
      "10 ---- E:\\ECIR_2020\\ecir2020\\3D\\dataset\\3D_images_normalized/10.npy (128, 128, 32)\n",
      "11 ---- E:\\ECIR_2020\\ecir2020\\3D\\dataset\\3D_images_normalized/11.npy (128, 128, 32)\n",
      "12 ---- E:\\ECIR_2020\\ecir2020\\3D\\dataset\\3D_images_normalized/12.npy (128, 128, 32)\n",
      "13 ---- E:\\ECIR_2020\\ecir2020\\3D\\dataset\\3D_images_normalized/13.npy (128, 128, 32)\n",
      "14 ---- E:\\ECIR_2020\\ecir2020\\3D\\dataset\\3D_images_normalized/14.npy (128, 128, 32)\n",
      "15 ---- E:\\ECIR_2020\\ecir2020\\3D\\dataset\\3D_images_normalized/15.npy (128, 128, 32)\n",
      "16 ---- E:\\ECIR_2020\\ecir2020\\3D\\dataset\\3D_images_normalized/16.npy (128, 128, 32)\n",
      "17 ---- E:\\ECIR_2020\\ecir2020\\3D\\dataset\\3D_images_normalized/17.npy (128, 128, 32)\n",
      "18 ---- E:\\ECIR_2020\\ecir2020\\3D\\dataset\\3D_images_normalized/18.npy (128, 128, 32)\n",
      "19 ---- E:\\ECIR_2020\\ecir2020\\3D\\dataset\\3D_images_normalized/19.npy (128, 128, 32)\n",
      "20 ---- E:\\ECIR_2020\\ecir2020\\3D\\dataset\\3D_images_normalized/20.npy (128, 128, 32)\n",
      "21 ---- E:\\ECIR_2020\\ecir2020\\3D\\dataset\\3D_images_normalized/21.npy (128, 128, 32)\n",
      "22 ---- E:\\ECIR_2020\\ecir2020\\3D\\dataset\\3D_images_normalized/22.npy (128, 128, 32)\n",
      "23 ---- E:\\ECIR_2020\\ecir2020\\3D\\dataset\\3D_images_normalized/23.npy (128, 128, 32)\n",
      "24 ---- E:\\ECIR_2020\\ecir2020\\3D\\dataset\\3D_images_normalized/24.npy (128, 128, 32)\n",
      "25 ---- E:\\ECIR_2020\\ecir2020\\3D\\dataset\\3D_images_normalized/25.npy (128, 128, 32)\n",
      "26 ---- E:\\ECIR_2020\\ecir2020\\3D\\dataset\\3D_images_normalized/26.npy (128, 128, 32)\n",
      "27 ---- E:\\ECIR_2020\\ecir2020\\3D\\dataset\\3D_images_normalized/27.npy (128, 128, 32)\n",
      "28 ---- E:\\ECIR_2020\\ecir2020\\3D\\dataset\\3D_images_normalized/28.npy (128, 128, 32)\n",
      "29 ---- E:\\ECIR_2020\\ecir2020\\3D\\dataset\\3D_images_normalized/29.npy (128, 128, 32)\n",
      "30 ---- E:\\ECIR_2020\\ecir2020\\3D\\dataset\\3D_images_normalized/30.npy (128, 128, 32)\n",
      "31 ---- E:\\ECIR_2020\\ecir2020\\3D\\dataset\\3D_images_normalized/31.npy (128, 128, 32)\n",
      "32 ---- E:\\ECIR_2020\\ecir2020\\3D\\dataset\\3D_images_normalized/32.npy (128, 128, 32)\n",
      "33 ---- E:\\ECIR_2020\\ecir2020\\3D\\dataset\\3D_images_normalized/33.npy (128, 128, 32)\n",
      "34 ---- E:\\ECIR_2020\\ecir2020\\3D\\dataset\\3D_images_normalized/34.npy (128, 128, 32)\n",
      "35 ---- E:\\ECIR_2020\\ecir2020\\3D\\dataset\\3D_images_normalized/35.npy (128, 128, 32)\n",
      "36 ---- E:\\ECIR_2020\\ecir2020\\3D\\dataset\\3D_images_normalized/36.npy (128, 128, 32)\n",
      "37 ---- E:\\ECIR_2020\\ecir2020\\3D\\dataset\\3D_images_normalized/37.npy (128, 128, 32)\n",
      "38 ---- E:\\ECIR_2020\\ecir2020\\3D\\dataset\\3D_images_normalized/38.npy (128, 128, 32)\n",
      "39 ---- E:\\ECIR_2020\\ecir2020\\3D\\dataset\\3D_images_normalized/39.npy (128, 128, 32)\n",
      "40 ---- E:\\ECIR_2020\\ecir2020\\3D\\dataset\\3D_images_normalized/40.npy (128, 128, 32)\n",
      "41 ---- E:\\ECIR_2020\\ecir2020\\3D\\dataset\\3D_images_normalized/41.npy (128, 128, 32)\n",
      "42 ---- E:\\ECIR_2020\\ecir2020\\3D\\dataset\\3D_images_normalized/42.npy (128, 128, 32)\n",
      "43 ---- E:\\ECIR_2020\\ecir2020\\3D\\dataset\\3D_images_normalized/43.npy (128, 128, 32)\n",
      "44 ---- E:\\ECIR_2020\\ecir2020\\3D\\dataset\\3D_images_normalized/44.npy (128, 128, 32)\n",
      "45 ---- E:\\ECIR_2020\\ecir2020\\3D\\dataset\\3D_images_normalized/45.npy (128, 128, 32)\n",
      "46 ---- E:\\ECIR_2020\\ecir2020\\3D\\dataset\\3D_images_normalized/46.npy (128, 128, 32)\n",
      "47 ---- E:\\ECIR_2020\\ecir2020\\3D\\dataset\\3D_images_normalized/47.npy (128, 128, 32)\n",
      "48 ---- E:\\ECIR_2020\\ecir2020\\3D\\dataset\\3D_images_normalized/48.npy (128, 128, 32)\n",
      "49 ---- E:\\ECIR_2020\\ecir2020\\3D\\dataset\\3D_images_normalized/49.npy (128, 128, 32)\n",
      "50 ---- E:\\ECIR_2020\\ecir2020\\3D\\dataset\\3D_images_normalized/50.npy (128, 128, 32)\n",
      "51 ---- E:\\ECIR_2020\\ecir2020\\3D\\dataset\\3D_images_normalized/51.npy (128, 128, 32)\n",
      "52 ---- E:\\ECIR_2020\\ecir2020\\3D\\dataset\\3D_images_normalized/52.npy (128, 128, 32)\n",
      "53 ---- E:\\ECIR_2020\\ecir2020\\3D\\dataset\\3D_images_normalized/53.npy (128, 128, 32)\n",
      "54 ---- E:\\ECIR_2020\\ecir2020\\3D\\dataset\\3D_images_normalized/54.npy (128, 128, 32)\n",
      "55 ---- E:\\ECIR_2020\\ecir2020\\3D\\dataset\\3D_images_normalized/55.npy (128, 128, 32)\n",
      "56 ---- E:\\ECIR_2020\\ecir2020\\3D\\dataset\\3D_images_normalized/56.npy (128, 128, 32)\n",
      "57 ---- E:\\ECIR_2020\\ecir2020\\3D\\dataset\\3D_images_normalized/57.npy (128, 128, 32)\n",
      "58 ---- E:\\ECIR_2020\\ecir2020\\3D\\dataset\\3D_images_normalized/58.npy (128, 128, 32)\n",
      "59 ---- E:\\ECIR_2020\\ecir2020\\3D\\dataset\\3D_images_normalized/59.npy (128, 128, 32)\n",
      "60 ---- E:\\ECIR_2020\\ecir2020\\3D\\dataset\\3D_images_normalized/60.npy (128, 128, 32)\n",
      "61 ---- E:\\ECIR_2020\\ecir2020\\3D\\dataset\\3D_images_normalized/61.npy (128, 128, 32)\n",
      "62 ---- E:\\ECIR_2020\\ecir2020\\3D\\dataset\\3D_images_normalized/62.npy (128, 128, 32)\n",
      "63 ---- E:\\ECIR_2020\\ecir2020\\3D\\dataset\\3D_images_normalized/63.npy (128, 128, 32)\n",
      "64 ---- E:\\ECIR_2020\\ecir2020\\3D\\dataset\\3D_images_normalized/64.npy (128, 128, 32)\n",
      "65 ---- E:\\ECIR_2020\\ecir2020\\3D\\dataset\\3D_images_normalized/65.npy (128, 128, 32)\n",
      "66 ---- E:\\ECIR_2020\\ecir2020\\3D\\dataset\\3D_images_normalized/66.npy (128, 128, 32)\n",
      "67 ---- E:\\ECIR_2020\\ecir2020\\3D\\dataset\\3D_images_normalized/67.npy (128, 128, 32)\n",
      "68 ---- E:\\ECIR_2020\\ecir2020\\3D\\dataset\\3D_images_normalized/68.npy (128, 128, 32)\n",
      "69 ---- E:\\ECIR_2020\\ecir2020\\3D\\dataset\\3D_images_normalized/69.npy (128, 128, 32)\n",
      "70 ---- E:\\ECIR_2020\\ecir2020\\3D\\dataset\\3D_images_normalized/70.npy (128, 128, 32)\n",
      "71 ---- E:\\ECIR_2020\\ecir2020\\3D\\dataset\\3D_images_normalized/71.npy (128, 128, 32)\n",
      "72 ---- E:\\ECIR_2020\\ecir2020\\3D\\dataset\\3D_images_normalized/72.npy (128, 128, 32)\n",
      "73 ---- E:\\ECIR_2020\\ecir2020\\3D\\dataset\\3D_images_normalized/73.npy (128, 128, 32)\n",
      "74 ---- E:\\ECIR_2020\\ecir2020\\3D\\dataset\\3D_images_normalized/74.npy (128, 128, 32)\n",
      "75 ---- E:\\ECIR_2020\\ecir2020\\3D\\dataset\\3D_images_normalized/75.npy (128, 128, 32)\n",
      "76 ---- E:\\ECIR_2020\\ecir2020\\3D\\dataset\\3D_images_normalized/76.npy (128, 128, 32)\n",
      "77 ---- E:\\ECIR_2020\\ecir2020\\3D\\dataset\\3D_images_normalized/77.npy (128, 128, 32)\n",
      "78 ---- E:\\ECIR_2020\\ecir2020\\3D\\dataset\\3D_images_normalized/78.npy (128, 128, 32)\n",
      "79 ---- E:\\ECIR_2020\\ecir2020\\3D\\dataset\\3D_images_normalized/79.npy (128, 128, 32)\n",
      "80 ---- E:\\ECIR_2020\\ecir2020\\3D\\dataset\\3D_images_normalized/80.npy (128, 128, 32)\n",
      "81 ---- E:\\ECIR_2020\\ecir2020\\3D\\dataset\\3D_images_normalized/81.npy (128, 128, 32)\n",
      "82 ---- E:\\ECIR_2020\\ecir2020\\3D\\dataset\\3D_images_normalized/82.npy (128, 128, 32)\n",
      "83 ---- E:\\ECIR_2020\\ecir2020\\3D\\dataset\\3D_images_normalized/83.npy (128, 128, 32)\n",
      "84 ---- E:\\ECIR_2020\\ecir2020\\3D\\dataset\\3D_images_normalized/84.npy (128, 128, 32)\n",
      "85 ---- E:\\ECIR_2020\\ecir2020\\3D\\dataset\\3D_images_normalized/85.npy (128, 128, 32)\n",
      "86 ---- E:\\ECIR_2020\\ecir2020\\3D\\dataset\\3D_images_normalized/86.npy (128, 128, 32)\n",
      "87 ---- E:\\ECIR_2020\\ecir2020\\3D\\dataset\\3D_images_normalized/87.npy (128, 128, 32)\n",
      "88 ---- E:\\ECIR_2020\\ecir2020\\3D\\dataset\\3D_images_normalized/88.npy (128, 128, 32)\n",
      "89 ---- E:\\ECIR_2020\\ecir2020\\3D\\dataset\\3D_images_normalized/89.npy (128, 128, 32)\n",
      "90 ---- E:\\ECIR_2020\\ecir2020\\3D\\dataset\\3D_images_normalized/90.npy (128, 128, 32)\n",
      "91 ---- E:\\ECIR_2020\\ecir2020\\3D\\dataset\\3D_images_normalized/91.npy (128, 128, 32)\n",
      "92 ---- E:\\ECIR_2020\\ecir2020\\3D\\dataset\\3D_images_normalized/92.npy (128, 128, 32)\n",
      "93 ---- E:\\ECIR_2020\\ecir2020\\3D\\dataset\\3D_images_normalized/93.npy (128, 128, 32)\n",
      "94 ---- E:\\ECIR_2020\\ecir2020\\3D\\dataset\\3D_images_normalized/94.npy (128, 128, 32)\n",
      "95 ---- E:\\ECIR_2020\\ecir2020\\3D\\dataset\\3D_images_normalized/95.npy (128, 128, 32)\n",
      "96 ---- E:\\ECIR_2020\\ecir2020\\3D\\dataset\\3D_images_normalized/96.npy (128, 128, 32)\n",
      "97 ---- E:\\ECIR_2020\\ecir2020\\3D\\dataset\\3D_images_normalized/97.npy (128, 128, 32)\n",
      "98 ---- E:\\ECIR_2020\\ecir2020\\3D\\dataset\\3D_images_normalized/98.npy (128, 128, 32)\n",
      "99 ---- E:\\ECIR_2020\\ecir2020\\3D\\dataset\\3D_images_normalized/99.npy (128, 128, 32)\n",
      "100 ---- E:\\ECIR_2020\\ecir2020\\3D\\dataset\\3D_images_normalized/100.npy (128, 128, 32)\n",
      "101 ---- E:\\ECIR_2020\\ecir2020\\3D\\dataset\\3D_images_normalized/101.npy (128, 128, 32)\n",
      "102 ---- E:\\ECIR_2020\\ecir2020\\3D\\dataset\\3D_images_normalized/102.npy (128, 128, 32)\n",
      "103 ---- E:\\ECIR_2020\\ecir2020\\3D\\dataset\\3D_images_normalized/103.npy (128, 128, 32)\n",
      "104 ---- E:\\ECIR_2020\\ecir2020\\3D\\dataset\\3D_images_normalized/104.npy (128, 128, 32)\n",
      "105 ---- E:\\ECIR_2020\\ecir2020\\3D\\dataset\\3D_images_normalized/105.npy (128, 128, 32)\n",
      "106 ---- E:\\ECIR_2020\\ecir2020\\3D\\dataset\\3D_images_normalized/106.npy (128, 128, 32)\n",
      "107 ---- E:\\ECIR_2020\\ecir2020\\3D\\dataset\\3D_images_normalized/107.npy (128, 128, 32)\n",
      "108 ---- E:\\ECIR_2020\\ecir2020\\3D\\dataset\\3D_images_normalized/108.npy (128, 128, 32)\n",
      "109 ---- E:\\ECIR_2020\\ecir2020\\3D\\dataset\\3D_images_normalized/109.npy (128, 128, 32)\n",
      "110 ---- E:\\ECIR_2020\\ecir2020\\3D\\dataset\\3D_images_normalized/110.npy (128, 128, 32)\n",
      "111 ---- E:\\ECIR_2020\\ecir2020\\3D\\dataset\\3D_images_normalized/111.npy (128, 128, 32)\n",
      "112 ---- E:\\ECIR_2020\\ecir2020\\3D\\dataset\\3D_images_normalized/112.npy (128, 128, 32)\n",
      "113 ---- E:\\ECIR_2020\\ecir2020\\3D\\dataset\\3D_images_normalized/113.npy (128, 128, 32)\n",
      "114 ---- E:\\ECIR_2020\\ecir2020\\3D\\dataset\\3D_images_normalized/114.npy (128, 128, 32)\n",
      "115 ---- E:\\ECIR_2020\\ecir2020\\3D\\dataset\\3D_images_normalized/115.npy (128, 128, 32)\n",
      "116 ---- E:\\ECIR_2020\\ecir2020\\3D\\dataset\\3D_images_normalized/116.npy (128, 128, 32)\n",
      "117 ---- E:\\ECIR_2020\\ecir2020\\3D\\dataset\\3D_images_normalized/117.npy (128, 128, 32)\n",
      "118 ---- E:\\ECIR_2020\\ecir2020\\3D\\dataset\\3D_images_normalized/118.npy (128, 128, 32)\n",
      "119 ---- E:\\ECIR_2020\\ecir2020\\3D\\dataset\\3D_images_normalized/119.npy (128, 128, 32)\n",
      "120 ---- E:\\ECIR_2020\\ecir2020\\3D\\dataset\\3D_images_normalized/120.npy (128, 128, 32)\n",
      "121 ---- E:\\ECIR_2020\\ecir2020\\3D\\dataset\\3D_images_normalized/121.npy (128, 128, 32)\n",
      "122 ---- E:\\ECIR_2020\\ecir2020\\3D\\dataset\\3D_images_normalized/122.npy (128, 128, 32)\n",
      "123 ---- E:\\ECIR_2020\\ecir2020\\3D\\dataset\\3D_images_normalized/123.npy (128, 128, 32)\n",
      "124 ---- E:\\ECIR_2020\\ecir2020\\3D\\dataset\\3D_images_normalized/124.npy (128, 128, 32)\n",
      "125 ---- E:\\ECIR_2020\\ecir2020\\3D\\dataset\\3D_images_normalized/125.npy (128, 128, 32)\n",
      "126 ---- E:\\ECIR_2020\\ecir2020\\3D\\dataset\\3D_images_normalized/126.npy (128, 128, 32)\n",
      "127 ---- E:\\ECIR_2020\\ecir2020\\3D\\dataset\\3D_images_normalized/127.npy (128, 128, 32)\n",
      "128 ---- E:\\ECIR_2020\\ecir2020\\3D\\dataset\\3D_images_normalized/128.npy (128, 128, 32)\n",
      "129 ---- E:\\ECIR_2020\\ecir2020\\3D\\dataset\\3D_images_normalized/129.npy (128, 128, 32)\n",
      "130 ---- E:\\ECIR_2020\\ecir2020\\3D\\dataset\\3D_images_normalized/130.npy (128, 128, 32)\n",
      "131 ---- E:\\ECIR_2020\\ecir2020\\3D\\dataset\\3D_images_normalized/131.npy (128, 128, 32)\n",
      "132 ---- E:\\ECIR_2020\\ecir2020\\3D\\dataset\\3D_images_normalized/132.npy (128, 128, 32)\n",
      "133 ---- E:\\ECIR_2020\\ecir2020\\3D\\dataset\\3D_images_normalized/133.npy (128, 128, 32)\n",
      "134 ---- E:\\ECIR_2020\\ecir2020\\3D\\dataset\\3D_images_normalized/134.npy (128, 128, 32)\n",
      "135 ---- E:\\ECIR_2020\\ecir2020\\3D\\dataset\\3D_images_normalized/135.npy (128, 128, 32)\n",
      "136 ---- E:\\ECIR_2020\\ecir2020\\3D\\dataset\\3D_images_normalized/136.npy (128, 128, 32)\n",
      "137 ---- E:\\ECIR_2020\\ecir2020\\3D\\dataset\\3D_images_normalized/137.npy (128, 128, 32)\n",
      "138 ---- E:\\ECIR_2020\\ecir2020\\3D\\dataset\\3D_images_normalized/138.npy (128, 128, 32)\n",
      "139 ---- E:\\ECIR_2020\\ecir2020\\3D\\dataset\\3D_images_normalized/139.npy (128, 128, 32)\n",
      "140 ---- E:\\ECIR_2020\\ecir2020\\3D\\dataset\\3D_images_normalized/140.npy (128, 128, 32)\n",
      "141 ---- E:\\ECIR_2020\\ecir2020\\3D\\dataset\\3D_images_normalized/141.npy (128, 128, 32)\n",
      "142 ---- E:\\ECIR_2020\\ecir2020\\3D\\dataset\\3D_images_normalized/142.npy (128, 128, 32)\n",
      "143 ---- E:\\ECIR_2020\\ecir2020\\3D\\dataset\\3D_images_normalized/143.npy (128, 128, 32)\n",
      "144 ---- E:\\ECIR_2020\\ecir2020\\3D\\dataset\\3D_images_normalized/144.npy (128, 128, 32)\n",
      "145 ---- E:\\ECIR_2020\\ecir2020\\3D\\dataset\\3D_images_normalized/145.npy (128, 128, 32)\n",
      "146 ---- E:\\ECIR_2020\\ecir2020\\3D\\dataset\\3D_images_normalized/146.npy (128, 128, 32)\n",
      "147 ---- E:\\ECIR_2020\\ecir2020\\3D\\dataset\\3D_images_normalized/147.npy (128, 128, 32)\n",
      "148 ---- E:\\ECIR_2020\\ecir2020\\3D\\dataset\\3D_images_normalized/148.npy (128, 128, 32)\n",
      "149 ---- E:\\ECIR_2020\\ecir2020\\3D\\dataset\\3D_images_normalized/149.npy (128, 128, 32)\n",
      "150 ---- E:\\ECIR_2020\\ecir2020\\3D\\dataset\\3D_images_normalized/150.npy (128, 128, 32)\n",
      "151 ---- E:\\ECIR_2020\\ecir2020\\3D\\dataset\\3D_images_normalized/151.npy (128, 128, 32)\n",
      "152 ---- E:\\ECIR_2020\\ecir2020\\3D\\dataset\\3D_images_normalized/152.npy (128, 128, 32)\n",
      "153 ---- E:\\ECIR_2020\\ecir2020\\3D\\dataset\\3D_images_normalized/153.npy (128, 128, 32)\n",
      "154 ---- E:\\ECIR_2020\\ecir2020\\3D\\dataset\\3D_images_normalized/154.npy (128, 128, 32)\n",
      "155 ---- E:\\ECIR_2020\\ecir2020\\3D\\dataset\\3D_images_normalized/155.npy (128, 128, 32)\n",
      "156 ---- E:\\ECIR_2020\\ecir2020\\3D\\dataset\\3D_images_normalized/156.npy (128, 128, 32)\n",
      "157 ---- E:\\ECIR_2020\\ecir2020\\3D\\dataset\\3D_images_normalized/157.npy (128, 128, 32)\n",
      "158 ---- E:\\ECIR_2020\\ecir2020\\3D\\dataset\\3D_images_normalized/158.npy (128, 128, 32)\n",
      "159 ---- E:\\ECIR_2020\\ecir2020\\3D\\dataset\\3D_images_normalized/159.npy (128, 128, 32)\n",
      "160 ---- E:\\ECIR_2020\\ecir2020\\3D\\dataset\\3D_images_normalized/160.npy (128, 128, 32)\n",
      "161 ---- E:\\ECIR_2020\\ecir2020\\3D\\dataset\\3D_images_normalized/161.npy (128, 128, 32)\n",
      "162 ---- E:\\ECIR_2020\\ecir2020\\3D\\dataset\\3D_images_normalized/162.npy (128, 128, 32)\n",
      "163 ---- E:\\ECIR_2020\\ecir2020\\3D\\dataset\\3D_images_normalized/163.npy (128, 128, 32)\n",
      "164 ---- E:\\ECIR_2020\\ecir2020\\3D\\dataset\\3D_images_normalized/164.npy (128, 128, 32)\n",
      "165 ---- E:\\ECIR_2020\\ecir2020\\3D\\dataset\\3D_images_normalized/165.npy (128, 128, 32)\n",
      "166 ---- E:\\ECIR_2020\\ecir2020\\3D\\dataset\\3D_images_normalized/166.npy (128, 128, 32)\n",
      "167 ---- E:\\ECIR_2020\\ecir2020\\3D\\dataset\\3D_images_normalized/167.npy (128, 128, 32)\n",
      "168 ---- E:\\ECIR_2020\\ecir2020\\3D\\dataset\\3D_images_normalized/168.npy (128, 128, 32)\n",
      "169 ---- E:\\ECIR_2020\\ecir2020\\3D\\dataset\\3D_images_normalized/169.npy (128, 128, 32)\n",
      "170 ---- E:\\ECIR_2020\\ecir2020\\3D\\dataset\\3D_images_normalized/170.npy (128, 128, 32)\n",
      "171 ---- E:\\ECIR_2020\\ecir2020\\3D\\dataset\\3D_images_normalized/171.npy (128, 128, 32)\n",
      "172 ---- E:\\ECIR_2020\\ecir2020\\3D\\dataset\\3D_images_normalized/172.npy (128, 128, 32)\n",
      "173 ---- E:\\ECIR_2020\\ecir2020\\3D\\dataset\\3D_images_normalized/173.npy (128, 128, 32)\n",
      "174 ---- E:\\ECIR_2020\\ecir2020\\3D\\dataset\\3D_images_normalized/174.npy (128, 128, 32)\n",
      "175 ---- E:\\ECIR_2020\\ecir2020\\3D\\dataset\\3D_images_normalized/175.npy (128, 128, 32)\n",
      "176 ---- E:\\ECIR_2020\\ecir2020\\3D\\dataset\\3D_images_normalized/176.npy (128, 128, 32)\n",
      "177 ---- E:\\ECIR_2020\\ecir2020\\3D\\dataset\\3D_images_normalized/177.npy (128, 128, 32)\n",
      "178 ---- E:\\ECIR_2020\\ecir2020\\3D\\dataset\\3D_images_normalized/178.npy (128, 128, 32)\n",
      "179 ---- E:\\ECIR_2020\\ecir2020\\3D\\dataset\\3D_images_normalized/179.npy (128, 128, 32)\n",
      "180 ---- E:\\ECIR_2020\\ecir2020\\3D\\dataset\\3D_images_normalized/180.npy (128, 128, 32)\n",
      "181 ---- E:\\ECIR_2020\\ecir2020\\3D\\dataset\\3D_images_normalized/181.npy (128, 128, 32)\n",
      "182 ---- E:\\ECIR_2020\\ecir2020\\3D\\dataset\\3D_images_normalized/182.npy (128, 128, 32)\n",
      "183 ---- E:\\ECIR_2020\\ecir2020\\3D\\dataset\\3D_images_normalized/183.npy (128, 128, 32)\n",
      "184 ---- E:\\ECIR_2020\\ecir2020\\3D\\dataset\\3D_images_normalized/184.npy (128, 128, 32)\n",
      "185 ---- E:\\ECIR_2020\\ecir2020\\3D\\dataset\\3D_images_normalized/185.npy (128, 128, 32)\n",
      "186 ---- E:\\ECIR_2020\\ecir2020\\3D\\dataset\\3D_images_normalized/186.npy (128, 128, 32)\n",
      "187 ---- E:\\ECIR_2020\\ecir2020\\3D\\dataset\\3D_images_normalized/187.npy (128, 128, 32)\n",
      "188 ---- E:\\ECIR_2020\\ecir2020\\3D\\dataset\\3D_images_normalized/188.npy (128, 128, 32)\n",
      "189 ---- E:\\ECIR_2020\\ecir2020\\3D\\dataset\\3D_images_normalized/189.npy (128, 128, 32)\n",
      "190 ---- E:\\ECIR_2020\\ecir2020\\3D\\dataset\\3D_images_normalized/190.npy (128, 128, 32)\n",
      "191 ---- E:\\ECIR_2020\\ecir2020\\3D\\dataset\\3D_images_normalized/191.npy (128, 128, 32)\n",
      "192 ---- E:\\ECIR_2020\\ecir2020\\3D\\dataset\\3D_images_normalized/192.npy (128, 128, 32)\n",
      "193 ---- E:\\ECIR_2020\\ecir2020\\3D\\dataset\\3D_images_normalized/193.npy (128, 128, 32)\n",
      "194 ---- E:\\ECIR_2020\\ecir2020\\3D\\dataset\\3D_images_normalized/194.npy (128, 128, 32)\n",
      "195 ---- E:\\ECIR_2020\\ecir2020\\3D\\dataset\\3D_images_normalized/195.npy (128, 128, 32)\n",
      "196 ---- E:\\ECIR_2020\\ecir2020\\3D\\dataset\\3D_images_normalized/196.npy (128, 128, 32)\n",
      "197 ---- E:\\ECIR_2020\\ecir2020\\3D\\dataset\\3D_images_normalized/197.npy (128, 128, 32)\n",
      "198 ---- E:\\ECIR_2020\\ecir2020\\3D\\dataset\\3D_images_normalized/198.npy (128, 128, 32)\n",
      "199 ---- E:\\ECIR_2020\\ecir2020\\3D\\dataset\\3D_images_normalized/199.npy (128, 128, 32)\n",
      "200 ---- E:\\ECIR_2020\\ecir2020\\3D\\dataset\\3D_images_normalized/200.npy (128, 128, 32)\n",
      "201 ---- E:\\ECIR_2020\\ecir2020\\3D\\dataset\\3D_images_normalized/201.npy (128, 128, 32)\n",
      "202 ---- E:\\ECIR_2020\\ecir2020\\3D\\dataset\\3D_images_normalized/202.npy (128, 128, 32)\n",
      "203 ---- E:\\ECIR_2020\\ecir2020\\3D\\dataset\\3D_images_normalized/203.npy (128, 128, 32)\n",
      "204 ---- E:\\ECIR_2020\\ecir2020\\3D\\dataset\\3D_images_normalized/204.npy (128, 128, 32)\n",
      "205 ---- E:\\ECIR_2020\\ecir2020\\3D\\dataset\\3D_images_normalized/205.npy (128, 128, 32)\n",
      "206 ---- E:\\ECIR_2020\\ecir2020\\3D\\dataset\\3D_images_normalized/206.npy (128, 128, 32)\n",
      "207 ---- E:\\ECIR_2020\\ecir2020\\3D\\dataset\\3D_images_normalized/207.npy (128, 128, 32)\n",
      "208 ---- E:\\ECIR_2020\\ecir2020\\3D\\dataset\\3D_images_normalized/208.npy (128, 128, 32)\n",
      "209 ---- E:\\ECIR_2020\\ecir2020\\3D\\dataset\\3D_images_normalized/209.npy (128, 128, 32)\n",
      "210 ---- E:\\ECIR_2020\\ecir2020\\3D\\dataset\\3D_images_normalized/210.npy (128, 128, 32)\n",
      "211 ---- E:\\ECIR_2020\\ecir2020\\3D\\dataset\\3D_images_normalized/211.npy (128, 128, 32)\n",
      "212 ---- E:\\ECIR_2020\\ecir2020\\3D\\dataset\\3D_images_normalized/212.npy (128, 128, 32)\n",
      "213 ---- E:\\ECIR_2020\\ecir2020\\3D\\dataset\\3D_images_normalized/213.npy (128, 128, 32)\n",
      "214 ---- E:\\ECIR_2020\\ecir2020\\3D\\dataset\\3D_images_normalized/214.npy (128, 128, 32)\n",
      "215 ---- E:\\ECIR_2020\\ecir2020\\3D\\dataset\\3D_images_normalized/215.npy (128, 128, 32)\n",
      "216 ---- E:\\ECIR_2020\\ecir2020\\3D\\dataset\\3D_images_normalized/216.npy (128, 128, 32)\n",
      "217 ---- E:\\ECIR_2020\\ecir2020\\3D\\dataset\\3D_images_normalized/217.npy (128, 128, 32)\n",
      "218 ---- E:\\ECIR_2020\\ecir2020\\3D\\dataset\\3D_images_normalized/218.npy (128, 128, 32)\n"
     ]
    },
    {
     "data": {
      "text/plain": [
       "(218, 128, 128, 32)"
      ]
     },
     "execution_count": 15,
     "metadata": {},
     "output_type": "execute_result"
    }
   ],
   "source": [
    "x_train = []\n",
    "c = 0\n",
    "for path in sort_paths(os.listdir(norm_path))[:]:\n",
    "    img = None\n",
    "    img = np.load(norm_path+ \"/{}\".format(path))\n",
    "    \n",
    "    # slice and dice\n",
    "    x_train.append(img)\n",
    "    c+=1\n",
    "    print(c, \"----\", norm_path + \"/\" + path, img.shape)\n",
    "\n",
    "x_train = np.array(x_train)\n",
    "x_train.shape"
   ]
  },
  {
   "cell_type": "code",
   "execution_count": 16,
   "metadata": {},
   "outputs": [
    {
     "data": {
      "text/plain": [
       "(218, 128, 128, 32, 1)"
      ]
     },
     "execution_count": 16,
     "metadata": {},
     "output_type": "execute_result"
    }
   ],
   "source": [
    "x_train = expand_dims(x_train)\n",
    "x_train.shape"
   ]
  },
  {
   "cell_type": "code",
   "execution_count": 18,
   "metadata": {},
   "outputs": [],
   "source": [
    "np.save(\"x_train_3D.npy\", x_train)"
   ]
  },
  {
   "cell_type": "code",
   "execution_count": 19,
   "metadata": {},
   "outputs": [
    {
     "name": "stdout",
     "output_type": "stream",
     "text": [
      "Done!\n"
     ]
    }
   ],
   "source": [
    "print(\"Done!\")"
   ]
  },
  {
   "cell_type": "code",
   "execution_count": null,
   "metadata": {},
   "outputs": [],
   "source": []
  }
 ],
 "metadata": {
  "kernelspec": {
   "display_name": "Python 3",
   "language": "python",
   "name": "python3"
  },
  "language_info": {
   "codemirror_mode": {
    "name": "ipython",
    "version": 3
   },
   "file_extension": ".py",
   "mimetype": "text/x-python",
   "name": "python",
   "nbconvert_exporter": "python",
   "pygments_lexer": "ipython3",
   "version": "3.6.8"
  }
 },
 "nbformat": 4,
 "nbformat_minor": 2
}
