{
 "cells": [
  {
   "cell_type": "code",
   "execution_count": 1,
   "metadata": {
    "colab": {
     "base_uri": "https://localhost:8080/",
     "height": 35
    },
    "colab_type": "code",
    "id": "tiEV3cHhSQ5u",
    "outputId": "a30a42d0-7c46-44a1-8afe-a0656f6cf1ca"
   },
   "outputs": [
    {
     "name": "stderr",
     "output_type": "stream",
     "text": [
      "Using TensorFlow backend.\n"
     ]
    }
   ],
   "source": [
    "import numpy as np\n",
    "import os\n",
    "import glob\n",
    "import cv2\n",
    "import random\n",
    "import matplotlib.pyplot as plt\n",
    "\n",
    "import tensorflow as tf\n",
    "from keras.models import Sequential\n",
    "from keras.optimizers import RMSprop\n",
    "from keras.layers import Conv2D, MaxPooling2D\n",
    "from keras.layers import Activation, Dropout, Flatten, Dense\n",
    "from sklearn.utils import shuffle\n",
    "from sklearn.model_selection import train_test_split\n",
    "from keras import optimizers\n",
    "from keras.utils import to_categorical, plot_model\n",
    "from keras.layers import Dense, Input, Conv2D, Flatten, MaxPooling2D, Activation\n",
    "from keras.models import Model, Sequential\n",
    "from keras.layers import Activation, Dropout, Flatten, Dense\n",
    "from keras.callbacks import ModelCheckpoint\n",
    "from keras.optimizers import Adam\n",
    "from keras.applications.vgg16 import VGG16\n",
    "from keras.models import load_model\n",
    "from keras.utils import np_utils\n",
    "from keras import backend as K\n",
    "\n",
    "np.random.seed(1)"
   ]
  },
  {
   "cell_type": "code",
   "execution_count": 3,
   "metadata": {
    "colab": {
     "base_uri": "https://localhost:8080/",
     "height": 35
    },
    "colab_type": "code",
    "id": "_dzt_Lr-KB8u",
    "outputId": "947f9528-20fc-45ae-d11b-9aceba8e4b66"
   },
   "outputs": [
    {
     "data": {
      "text/plain": [
       "(512, 512, 3)"
      ]
     },
     "execution_count": 3,
     "metadata": {},
     "output_type": "execute_result"
    }
   ],
   "source": [
    "img = (512,512,3)\n",
    "img"
   ]
  },
  {
   "cell_type": "code",
   "execution_count": 7,
   "metadata": {
    "colab": {
     "base_uri": "https://localhost:8080/",
     "height": 54
    },
    "colab_type": "code",
    "id": "PHebp2hWcRKp",
    "outputId": "7406e8bd-8795-4630-9aa3-4b3f64c9e920"
   },
   "outputs": [
    {
     "name": "stdout",
     "output_type": "stream",
     "text": [
      "(22046, 200, 200, 3) (22046, 2)\n",
      "(2756, 200, 200, 3) (2756, 200, 200, 3) (2756, 2) (2756, 2)\n"
     ]
    }
   ],
   "source": [
    "print(x_train.shape, y_train.shape)\n",
    "print(x_val.shape, x_test.shape, y_val.shape, y_test.shape)"
   ]
  },
  {
   "cell_type": "code",
   "execution_count": 4,
   "metadata": {
    "colab": {
     "base_uri": "https://localhost:8080/",
     "height": 35
    },
    "colab_type": "code",
    "id": "gHYInTAGqb11",
    "outputId": "7ecf0995-0938-4adb-9331-3448fb1163ef"
   },
   "outputs": [
    {
     "data": {
      "text/plain": [
       "512"
      ]
     },
     "execution_count": 4,
     "metadata": {},
     "output_type": "execute_result"
    }
   ],
   "source": [
    "IMAGE_SIZE = 512\n",
    "IMAGE_SIZE"
   ]
  },
  {
   "cell_type": "code",
   "execution_count": 7,
   "metadata": {
    "colab": {
     "base_uri": "https://localhost:8080/",
     "height": 1146
    },
    "colab_type": "code",
    "id": "gTiAb2ucfhF8",
    "outputId": "a850ce62-2fe5-4189-e3b4-0ad6b1022ce3"
   },
   "outputs": [
    {
     "name": "stdout",
     "output_type": "stream",
     "text": [
      "_________________________________________________________________\n",
      "Layer (type)                 Output Shape              Param #   \n",
      "=================================================================\n",
      "input_3 (InputLayer)         (None, 512, 512, 3)       0         \n",
      "_________________________________________________________________\n",
      "block1_conv1 (Conv2D)        (None, 512, 512, 64)      1792      \n",
      "_________________________________________________________________\n",
      "block1_conv2 (Conv2D)        (None, 512, 512, 64)      36928     \n",
      "_________________________________________________________________\n",
      "block1_pool (MaxPooling2D)   (None, 256, 256, 64)      0         \n",
      "_________________________________________________________________\n",
      "block2_conv1 (Conv2D)        (None, 256, 256, 128)     73856     \n",
      "_________________________________________________________________\n",
      "block2_conv2 (Conv2D)        (None, 256, 256, 128)     147584    \n",
      "_________________________________________________________________\n",
      "block2_pool (MaxPooling2D)   (None, 128, 128, 128)     0         \n",
      "_________________________________________________________________\n",
      "block3_conv1 (Conv2D)        (None, 128, 128, 256)     295168    \n",
      "_________________________________________________________________\n",
      "block3_conv2 (Conv2D)        (None, 128, 128, 256)     590080    \n",
      "_________________________________________________________________\n",
      "block3_conv3 (Conv2D)        (None, 128, 128, 256)     590080    \n",
      "_________________________________________________________________\n",
      "block3_pool (MaxPooling2D)   (None, 64, 64, 256)       0         \n",
      "_________________________________________________________________\n",
      "block4_conv1 (Conv2D)        (None, 64, 64, 512)       1180160   \n",
      "_________________________________________________________________\n",
      "block4_conv2 (Conv2D)        (None, 64, 64, 512)       2359808   \n",
      "_________________________________________________________________\n",
      "block4_conv3 (Conv2D)        (None, 64, 64, 512)       2359808   \n",
      "_________________________________________________________________\n",
      "block4_pool (MaxPooling2D)   (None, 32, 32, 512)       0         \n",
      "_________________________________________________________________\n",
      "block5_conv1 (Conv2D)        (None, 32, 32, 512)       2359808   \n",
      "_________________________________________________________________\n",
      "block5_conv2 (Conv2D)        (None, 32, 32, 512)       2359808   \n",
      "_________________________________________________________________\n",
      "block5_conv3 (Conv2D)        (None, 32, 32, 512)       2359808   \n",
      "_________________________________________________________________\n",
      "block5_pool (MaxPooling2D)   (None, 16, 16, 512)       0         \n",
      "_________________________________________________________________\n",
      "global_average_pooling2d_3 ( (None, 512)               0         \n",
      "_________________________________________________________________\n",
      "dense_5 (Dense)              (None, 1024)              525312    \n",
      "_________________________________________________________________\n",
      "dropout_3 (Dropout)          (None, 1024)              0         \n",
      "_________________________________________________________________\n",
      "dense_6 (Dense)              (None, 2)                 2050      \n",
      "=================================================================\n",
      "Total params: 15,242,050\n",
      "Trainable params: 527,362\n",
      "Non-trainable params: 14,714,688\n",
      "_________________________________________________________________\n"
     ]
    }
   ],
   "source": [
    "def vgg_2D():\n",
    "    base_model = VGG16(weights='imagenet',include_top=False,pooling='avg',input_shape=(IMAGE_SIZE, IMAGE_SIZE, 3))\n",
    "    base_model.trainable = False\n",
    "    X = base_model.output\n",
    "    X.trainable = False\n",
    "    \n",
    "    X = Dense(1024, activation='relu')(X)\n",
    "    X = Dropout(0.5)(X)\n",
    "    predictions = Dense(2, activation='softmax', trainable=True)(X)\n",
    "    \n",
    "    for layer in base_model.layers[:]:\n",
    "        layer.trainable=False\n",
    "    \n",
    "    model = Model(inputs=base_model.input, outputs=predictions)\n",
    "    model.compile(optimizer='adadelta', loss='binary_crossentropy', metrics=['accuracy'])\n",
    "    return model\n",
    "\n",
    "model = None\n",
    "model=vgg_2D()\n",
    "model.summary()"
   ]
  },
  {
   "cell_type": "code",
   "execution_count": 11,
   "metadata": {
    "colab": {
     "base_uri": "https://localhost:8080/",
     "height": 35
    },
    "colab_type": "code",
    "id": "4ZqXHwe37gRF",
    "outputId": "fc7e5da8-d90e-4859-ab09-8faaea7590b1"
   },
   "outputs": [
    {
     "name": "stdout",
     "output_type": "stream",
     "text": [
      "(22046, 200, 200, 3) (22046, 2) (2756, 200, 200, 3) (2756, 2) (2756, 200, 200, 3) (2756, 2)\n"
     ]
    }
   ],
   "source": [
    "# check input\n",
    "print(x_train.shape, y_train.shape, x_val.shape, y_val.shape, x_test.shape, y_test.shape)"
   ]
  },
  {
   "cell_type": "code",
   "execution_count": 12,
   "metadata": {
    "scrolled": true
   },
   "outputs": [
    {
     "name": "stdout",
     "output_type": "stream",
     "text": [
      "Epoch 1/100\n",
      "345/344 [==============================] - 342s 990ms/step - loss: 0.2719 - acc: 0.9018 - precision: 0.9318 - recall: 0.8704 - f1: 0.8982 - matthews_correlation: 0.8061 - auc: 0.9152 - val_loss: 0.1366 - val_acc: 0.9528 - val_precision: 0.9568 - val_recall: 0.9477 - val_f1: 0.9505 - val_matthews_correlation: 0.9053 - val_auc: 0.9578\n",
      "Epoch 2/100\n",
      "345/344 [==============================] - 330s 956ms/step - loss: 0.1875 - acc: 0.9341 - precision: 0.9608 - recall: 0.9053 - f1: 0.9312 - matthews_correlation: 0.8696 - auc: 0.9652 - val_loss: 0.1139 - val_acc: 0.9568 - val_precision: 0.9700 - val_recall: 0.9423 - val_f1: 0.9544 - val_matthews_correlation: 0.9130 - val_auc: 0.9696\n",
      "Epoch 3/100\n",
      "345/344 [==============================] - 328s 952ms/step - loss: 0.1735 - acc: 0.9365 - precision: 0.9615 - recall: 0.9093 - f1: 0.9336 - matthews_correlation: 0.8741 - auc: 0.9723 - val_loss: 0.1150 - val_acc: 0.9568 - val_precision: 0.9781 - val_recall: 0.9355 - val_f1: 0.9546 - val_matthews_correlation: 0.9141 - val_auc: 0.9742\n",
      "Epoch 4/100\n",
      "345/344 [==============================] - 329s 955ms/step - loss: 0.1668 - acc: 0.9403 - precision: 0.9658 - recall: 0.9129 - f1: 0.9375 - matthews_correlation: 0.8820 - auc: 0.9756 - val_loss: 0.1080 - val_acc: 0.9590 - val_precision: 0.9739 - val_recall: 0.9427 - val_f1: 0.9565 - val_matthews_correlation: 0.9183 - val_auc: 0.9767\n",
      "Epoch 5/100\n",
      "345/344 [==============================] - 329s 955ms/step - loss: 0.1596 - acc: 0.9420 - precision: 0.9665 - recall: 0.9156 - f1: 0.9393 - matthews_correlation: 0.8850 - auc: 0.9777 - val_loss: 0.1087 - val_acc: 0.9612 - val_precision: 0.9756 - val_recall: 0.9449 - val_f1: 0.9586 - val_matthews_correlation: 0.9228 - val_auc: 0.9784\n",
      "Epoch 6/100\n",
      "345/344 [==============================] - 328s 950ms/step - loss: 0.1551 - acc: 0.9426 - precision: 0.9660 - recall: 0.9193 - f1: 0.9410 - matthews_correlation: 0.8866 - auc: 0.9792 - val_loss: 0.1194 - val_acc: 0.9604 - val_precision: 0.9670 - val_recall: 0.9531 - val_f1: 0.9586 - val_matthews_correlation: 0.9212 - val_auc: 0.9796\n",
      "Epoch 7/100\n",
      "345/344 [==============================] - 330s 957ms/step - loss: 0.1464 - acc: 0.9457 - precision: 0.9679 - recall: 0.9231 - f1: 0.9441 - matthews_correlation: 0.8926 - auc: 0.9802 - val_loss: 0.1015 - val_acc: 0.9630 - val_precision: 0.9817 - val_recall: 0.9435 - val_f1: 0.9608 - val_matthews_correlation: 0.9267 - val_auc: 0.9808\n",
      "Epoch 8/100\n",
      "345/344 [==============================] - 331s 959ms/step - loss: 0.1456 - acc: 0.9475 - precision: 0.9701 - recall: 0.9240 - f1: 0.9456 - matthews_correlation: 0.8962 - auc: 0.9812 - val_loss: 0.1028 - val_acc: 0.9637 - val_precision: 0.9746 - val_recall: 0.9524 - val_f1: 0.9622 - val_matthews_correlation: 0.9277 - val_auc: 0.9816\n",
      "Epoch 9/100\n",
      "345/344 [==============================] - 330s 957ms/step - loss: 0.1360 - acc: 0.9511 - precision: 0.9729 - recall: 0.9291 - f1: 0.9496 - matthews_correlation: 0.9034 - auc: 0.9821 - val_loss: 0.1044 - val_acc: 0.9630 - val_precision: 0.9781 - val_recall: 0.9465 - val_f1: 0.9607 - val_matthews_correlation: 0.9260 - val_auc: 0.9825\n",
      "Epoch 10/100\n",
      "345/344 [==============================] - 330s 955ms/step - loss: 0.1354 - acc: 0.9515 - precision: 0.9724 - recall: 0.9295 - f1: 0.9496 - matthews_correlation: 0.9042 - auc: 0.9828 - val_loss: 0.1000 - val_acc: 0.9655 - val_precision: 0.9777 - val_recall: 0.9518 - val_f1: 0.9633 - val_matthews_correlation: 0.9314 - val_auc: 0.9831\n",
      "Epoch 11/100\n",
      "345/344 [==============================] - 330s 957ms/step - loss: 0.1315 - acc: 0.9504 - precision: 0.9709 - recall: 0.9292 - f1: 0.9488 - matthews_correlation: 0.9017 - auc: 0.9835 - val_loss: 0.0999 - val_acc: 0.9663 - val_precision: 0.9733 - val_recall: 0.9575 - val_f1: 0.9641 - val_matthews_correlation: 0.9324 - val_auc: 0.9837\n",
      "Epoch 12/100\n",
      "345/344 [==============================] - 329s 954ms/step - loss: 0.1306 - acc: 0.9511 - precision: 0.9700 - recall: 0.9315 - f1: 0.9495 - matthews_correlation: 0.9031 - auc: 0.9840 - val_loss: 0.1006 - val_acc: 0.9673 - val_precision: 0.9779 - val_recall: 0.9562 - val_f1: 0.9659 - val_matthews_correlation: 0.9347 - val_auc: 0.9843\n",
      "Epoch 13/100\n",
      "345/344 [==============================] - 329s 954ms/step - loss: 0.1301 - acc: 0.9519 - precision: 0.9711 - recall: 0.9321 - f1: 0.9505 - matthews_correlation: 0.9047 - auc: 0.9845 - val_loss: 0.0909 - val_acc: 0.9659 - val_precision: 0.9800 - val_recall: 0.9503 - val_f1: 0.9638 - val_matthews_correlation: 0.9320 - val_auc: 0.9847\n",
      "Epoch 14/100\n",
      "345/344 [==============================] - 328s 951ms/step - loss: 0.1220 - acc: 0.9551 - precision: 0.9727 - recall: 0.9370 - f1: 0.9537 - matthews_correlation: 0.9109 - auc: 0.9850 - val_loss: 0.0947 - val_acc: 0.9655 - val_precision: 0.9801 - val_recall: 0.9505 - val_f1: 0.9638 - val_matthews_correlation: 0.9316 - val_auc: 0.9852\n",
      "Epoch 15/100\n",
      "345/344 [==============================] - 329s 953ms/step - loss: 0.1243 - acc: 0.9540 - precision: 0.9718 - recall: 0.9348 - f1: 0.9521 - matthews_correlation: 0.9085 - auc: 0.9854 - val_loss: 0.0952 - val_acc: 0.9706 - val_precision: 0.9738 - val_recall: 0.9689 - val_f1: 0.9704 - val_matthews_correlation: 0.9413 - val_auc: 0.9856\n",
      "Epoch 16/100\n",
      "345/344 [==============================] - 328s 952ms/step - loss: 0.1199 - acc: 0.9553 - precision: 0.9713 - recall: 0.9386 - f1: 0.9539 - matthews_correlation: 0.9113 - auc: 0.9858 - val_loss: 0.0943 - val_acc: 0.9644 - val_precision: 0.9807 - val_recall: 0.9475 - val_f1: 0.9625 - val_matthews_correlation: 0.9295 - val_auc: 0.9860\n",
      "Epoch 17/100\n",
      "345/344 [==============================] - 327s 948ms/step - loss: 0.1205 - acc: 0.9553 - precision: 0.9734 - recall: 0.9371 - f1: 0.9541 - matthews_correlation: 0.9112 - auc: 0.9861 - val_loss: 0.0895 - val_acc: 0.9699 - val_precision: 0.9834 - val_recall: 0.9558 - val_f1: 0.9685 - val_matthews_correlation: 0.9400 - val_auc: 0.9863\n",
      "Epoch 18/100\n",
      "345/344 [==============================] - 328s 950ms/step - loss: 0.1177 - acc: 0.9563 - precision: 0.9754 - recall: 0.9369 - f1: 0.9550 - matthews_correlation: 0.9134 - auc: 0.9865 - val_loss: 0.0882 - val_acc: 0.9699 - val_precision: 0.9797 - val_recall: 0.9593 - val_f1: 0.9685 - val_matthews_correlation: 0.9397 - val_auc: 0.9866\n",
      "Epoch 19/100\n",
      "345/344 [==============================] - 329s 953ms/step - loss: 0.1194 - acc: 0.9559 - precision: 0.9730 - recall: 0.9376 - f1: 0.9543 - matthews_correlation: 0.9123 - auc: 0.9867 - val_loss: 0.0919 - val_acc: 0.9710 - val_precision: 0.9703 - val_recall: 0.9715 - val_f1: 0.9700 - val_matthews_correlation: 0.9419 - val_auc: 0.9869\n",
      "Epoch 20/100\n",
      "345/344 [==============================] - 329s 954ms/step - loss: 0.1117 - acc: 0.9588 - precision: 0.9746 - recall: 0.9424 - f1: 0.9576 - matthews_correlation: 0.9181 - auc: 0.9870 - val_loss: 0.0891 - val_acc: 0.9684 - val_precision: 0.9794 - val_recall: 0.9568 - val_f1: 0.9668 - val_matthews_correlation: 0.9372 - val_auc: 0.9871\n",
      "Epoch 21/100\n",
      "345/344 [==============================] - 328s 951ms/step - loss: 0.1142 - acc: 0.9584 - precision: 0.9759 - recall: 0.9410 - f1: 0.9573 - matthews_correlation: 0.9175 - auc: 0.9873 - val_loss: 0.0940 - val_acc: 0.9673 - val_precision: 0.9801 - val_recall: 0.9541 - val_f1: 0.9657 - val_matthews_correlation: 0.9349 - val_auc: 0.9874\n",
      "Epoch 22/100\n",
      "345/344 [==============================] - 331s 958ms/step - loss: 0.1111 - acc: 0.9595 - precision: 0.9757 - recall: 0.9422 - f1: 0.9579 - matthews_correlation: 0.9195 - auc: 0.9875 - val_loss: 0.0905 - val_acc: 0.9710 - val_precision: 0.9750 - val_recall: 0.9670 - val_f1: 0.9701 - val_matthews_correlation: 0.9419 - val_auc: 0.9876\n",
      "Epoch 23/100\n",
      "345/344 [==============================] - 327s 949ms/step - loss: 0.1141 - acc: 0.9582 - precision: 0.9750 - recall: 0.9409 - f1: 0.9569 - matthews_correlation: 0.9169 - auc: 0.9877 - val_loss: 0.0862 - val_acc: 0.9695 - val_precision: 0.9795 - val_recall: 0.9590 - val_f1: 0.9679 - val_matthews_correlation: 0.9396 - val_auc: 0.9878\n",
      "Epoch 24/100\n",
      "345/344 [==============================] - 329s 954ms/step - loss: 0.1122 - acc: 0.9587 - precision: 0.9750 - recall: 0.9424 - f1: 0.9578 - matthews_correlation: 0.9180 - auc: 0.9879 - val_loss: 0.0840 - val_acc: 0.9728 - val_precision: 0.9827 - val_recall: 0.9623 - val_f1: 0.9716 - val_matthews_correlation: 0.9456 - val_auc: 0.9880\n",
      "Epoch 25/100\n",
      "345/344 [==============================] - 328s 950ms/step - loss: 0.1083 - acc: 0.9602 - precision: 0.9760 - recall: 0.9439 - f1: 0.9590 - matthews_correlation: 0.9211 - auc: 0.9881 - val_loss: 0.0945 - val_acc: 0.9692 - val_precision: 0.9827 - val_recall: 0.9547 - val_f1: 0.9674 - val_matthews_correlation: 0.9385 - val_auc: 0.9882\n",
      "Epoch 26/100\n",
      "345/344 [==============================] - 327s 947ms/step - loss: 0.1062 - acc: 0.9602 - precision: 0.9754 - recall: 0.9455 - f1: 0.9595 - matthews_correlation: 0.9209 - auc: 0.9883 - val_loss: 0.0881 - val_acc: 0.9713 - val_precision: 0.9806 - val_recall: 0.9606 - val_f1: 0.9694 - val_matthews_correlation: 0.9428 - val_auc: 0.9884\n",
      "Epoch 27/100\n",
      "345/344 [==============================] - 327s 948ms/step - loss: 0.1085 - acc: 0.9622 - precision: 0.9765 - recall: 0.9468 - f1: 0.9608 - matthews_correlation: 0.9249 - auc: 0.9885 - val_loss: 0.0957 - val_acc: 0.9688 - val_precision: 0.9867 - val_recall: 0.9505 - val_f1: 0.9671 - val_matthews_correlation: 0.9384 - val_auc: 0.9886\n",
      "Epoch 28/100\n",
      "345/344 [==============================] - 328s 950ms/step - loss: 0.1016 - acc: 0.9626 - precision: 0.9766 - recall: 0.9488 - f1: 0.9618 - matthews_correlation: 0.9259 - auc: 0.9886 - val_loss: 0.0898 - val_acc: 0.9717 - val_precision: 0.9785 - val_recall: 0.9638 - val_f1: 0.9701 - val_matthews_correlation: 0.9435 - val_auc: 0.9888\n",
      "Epoch 29/100\n",
      "345/344 [==============================] - 327s 949ms/step - loss: 0.1006 - acc: 0.9629 - precision: 0.9773 - recall: 0.9483 - f1: 0.9618 - matthews_correlation: 0.9266 - auc: 0.9888 - val_loss: 0.0980 - val_acc: 0.9681 - val_precision: 0.9847 - val_recall: 0.9499 - val_f1: 0.9659 - val_matthews_correlation: 0.9365 - val_auc: 0.9889\n",
      "Epoch 30/100\n",
      "345/344 [==============================] - 328s 951ms/step - loss: 0.1048 - acc: 0.9622 - precision: 0.9774 - recall: 0.9465 - f1: 0.9609 - matthews_correlation: 0.9249 - auc: 0.9890 - val_loss: 0.0852 - val_acc: 0.9710 - val_precision: 0.9842 - val_recall: 0.9566 - val_f1: 0.9691 - val_matthews_correlation: 0.9425 - val_auc: 0.9891\n",
      "Epoch 31/100\n",
      "345/344 [==============================] - 328s 952ms/step - loss: 0.1014 - acc: 0.9625 - precision: 0.9784 - recall: 0.9468 - f1: 0.9617 - matthews_correlation: 0.9257 - auc: 0.9891 - val_loss: 0.0877 - val_acc: 0.9728 - val_precision: 0.9739 - val_recall: 0.9717 - val_f1: 0.9721 - val_matthews_correlation: 0.9455 - val_auc: 0.9892\n",
      "Epoch 32/100\n",
      "345/344 [==============================] - 328s 950ms/step - loss: 0.0984 - acc: 0.9638 - precision: 0.9782 - recall: 0.9490 - f1: 0.9627 - matthews_correlation: 0.9282 - auc: 0.9893 - val_loss: 0.1007 - val_acc: 0.9673 - val_precision: 0.9859 - val_recall: 0.9475 - val_f1: 0.9650 - val_matthews_correlation: 0.9356 - val_auc: 0.9894\n",
      "Epoch 33/100\n",
      "345/344 [==============================] - 328s 951ms/step - loss: 0.0998 - acc: 0.9634 - precision: 0.9771 - recall: 0.9499 - f1: 0.9627 - matthews_correlation: 0.9274 - auc: 0.9895 - val_loss: 0.0929 - val_acc: 0.9728 - val_precision: 0.9818 - val_recall: 0.9622 - val_f1: 0.9709 - val_matthews_correlation: 0.9458 - val_auc: 0.9895\n",
      "Epoch 34/100\n",
      "345/344 [==============================] - 329s 953ms/step - loss: 0.0974 - acc: 0.9650 - precision: 0.9791 - recall: 0.9507 - f1: 0.9640 - matthews_correlation: 0.9306 - auc: 0.9896 - val_loss: 0.0934 - val_acc: 0.9724 - val_precision: 0.9690 - val_recall: 0.9747 - val_f1: 0.9710 - val_matthews_correlation: 0.9448 - val_auc: 0.9896\n",
      "Epoch 35/100\n",
      "345/344 [==============================] - 329s 953ms/step - loss: 0.0971 - acc: 0.9641 - precision: 0.9786 - recall: 0.9490 - f1: 0.9629 - matthews_correlation: 0.9288 - auc: 0.9897 - val_loss: 0.0847 - val_acc: 0.9746 - val_precision: 0.9792 - val_recall: 0.9693 - val_f1: 0.9734 - val_matthews_correlation: 0.9495 - val_auc: 0.9898\n",
      "Epoch 36/100\n",
      "345/344 [==============================] - 328s 950ms/step - loss: 0.0945 - acc: 0.9666 - precision: 0.9817 - recall: 0.9516 - f1: 0.9658 - matthews_correlation: 0.9338 - auc: 0.9898 - val_loss: 0.0858 - val_acc: 0.9724 - val_precision: 0.9756 - val_recall: 0.9686 - val_f1: 0.9712 - val_matthews_correlation: 0.9450 - val_auc: 0.9899\n",
      "Epoch 37/100\n",
      "345/344 [==============================] - 328s 951ms/step - loss: 0.0960 - acc: 0.9653 - precision: 0.9782 - recall: 0.9525 - f1: 0.9647 - matthews_correlation: 0.9310 - auc: 0.9900 - val_loss: 0.0898 - val_acc: 0.9739 - val_precision: 0.9759 - val_recall: 0.9720 - val_f1: 0.9732 - val_matthews_correlation: 0.9479 - val_auc: 0.9900\n",
      "Epoch 38/100\n",
      "345/344 [==============================] - 329s 955ms/step - loss: 0.0910 - acc: 0.9679 - precision: 0.9812 - recall: 0.9545 - f1: 0.9670 - matthews_correlation: 0.9364 - auc: 0.9901 - val_loss: 0.0915 - val_acc: 0.9695 - val_precision: 0.9835 - val_recall: 0.9539 - val_f1: 0.9672 - val_matthews_correlation: 0.9394 - val_auc: 0.9901\n",
      "Epoch 39/100\n",
      "345/344 [==============================] - 330s 956ms/step - loss: 0.0965 - acc: 0.9652 - precision: 0.9796 - recall: 0.9503 - f1: 0.9642 - matthews_correlation: 0.9307 - auc: 0.9902 - val_loss: 0.0956 - val_acc: 0.9710 - val_precision: 0.9771 - val_recall: 0.9635 - val_f1: 0.9690 - val_matthews_correlation: 0.9423 - val_auc: 0.9902\n",
      "Epoch 40/100\n",
      "345/344 [==============================] - 326s 946ms/step - loss: 0.0932 - acc: 0.9659 - precision: 0.9795 - recall: 0.9525 - f1: 0.9652 - matthews_correlation: 0.9324 - auc: 0.9903 - val_loss: 0.1040 - val_acc: 0.9688 - val_precision: 0.9886 - val_recall: 0.9471 - val_f1: 0.9665 - val_matthews_correlation: 0.9379 - val_auc: 0.9904\n",
      "Epoch 41/100\n",
      "345/344 [==============================] - 327s 949ms/step - loss: 0.0939 - acc: 0.9666 - precision: 0.9804 - recall: 0.9525 - f1: 0.9656 - matthews_correlation: 0.9336 - auc: 0.9904 - val_loss: 0.0983 - val_acc: 0.9731 - val_precision: 0.9698 - val_recall: 0.9754 - val_f1: 0.9717 - val_matthews_correlation: 0.9461 - val_auc: 0.9904\n",
      "Epoch 42/100\n",
      "345/344 [==============================] - 329s 955ms/step - loss: 0.0927 - acc: 0.9655 - precision: 0.9798 - recall: 0.9509 - f1: 0.9645 - matthews_correlation: 0.9316 - auc: 0.9905 - val_loss: 0.0851 - val_acc: 0.9713 - val_precision: 0.9843 - val_recall: 0.9572 - val_f1: 0.9695 - val_matthews_correlation: 0.9429 - val_auc: 0.9905\n",
      "Epoch 43/100\n",
      "345/344 [==============================] - 329s 953ms/step - loss: 0.0886 - acc: 0.9686 - precision: 0.9814 - recall: 0.9549 - f1: 0.9674 - matthews_correlation: 0.9377 - auc: 0.9906 - val_loss: 0.0896 - val_acc: 0.9706 - val_precision: 0.9821 - val_recall: 0.9583 - val_f1: 0.9689 - val_matthews_correlation: 0.9416 - val_auc: 0.9907\n",
      "Epoch 44/100\n",
      "345/344 [==============================] - 328s 951ms/step - loss: 0.0879 - acc: 0.9679 - precision: 0.9811 - recall: 0.9544 - f1: 0.9670 - matthews_correlation: 0.9362 - auc: 0.9907 - val_loss: 0.0897 - val_acc: 0.9728 - val_precision: 0.9829 - val_recall: 0.9611 - val_f1: 0.9710 - val_matthews_correlation: 0.9458 - val_auc: 0.9908\n",
      "Epoch 45/100\n",
      "345/344 [==============================] - 328s 949ms/step - loss: 0.0864 - acc: 0.9685 - precision: 0.9814 - recall: 0.9555 - f1: 0.9678 - matthews_correlation: 0.9373 - auc: 0.9908 - val_loss: 0.0890 - val_acc: 0.9721 - val_precision: 0.9762 - val_recall: 0.9669 - val_f1: 0.9705 - val_matthews_correlation: 0.9441 - val_auc: 0.9909\n",
      "Epoch 46/100\n",
      "345/344 [==============================] - 329s 952ms/step - loss: 0.0894 - acc: 0.9673 - precision: 0.9814 - recall: 0.9531 - f1: 0.9665 - matthews_correlation: 0.9349 - auc: 0.9909 - val_loss: 0.0923 - val_acc: 0.9717 - val_precision: 0.9821 - val_recall: 0.9608 - val_f1: 0.9701 - val_matthews_correlation: 0.9442 - val_auc: 0.9910\n",
      "Epoch 47/100\n",
      "345/344 [==============================] - 328s 951ms/step - loss: 0.0858 - acc: 0.9696 - precision: 0.9822 - recall: 0.9572 - f1: 0.9690 - matthews_correlation: 0.9396 - auc: 0.9910 - val_loss: 0.0927 - val_acc: 0.9710 - val_precision: 0.9851 - val_recall: 0.9553 - val_f1: 0.9690 - val_matthews_correlation: 0.9422 - val_auc: 0.9910\n",
      "Epoch 48/100\n",
      "345/344 [==============================] - 328s 949ms/step - loss: 0.0872 - acc: 0.9678 - precision: 0.9810 - recall: 0.9544 - f1: 0.9670 - matthews_correlation: 0.9360 - auc: 0.9911 - val_loss: 0.0968 - val_acc: 0.9724 - val_precision: 0.9722 - val_recall: 0.9707 - val_f1: 0.9706 - val_matthews_correlation: 0.9445 - val_auc: 0.9911\n",
      "Epoch 49/100\n",
      "345/344 [==============================] - 328s 949ms/step - loss: 0.0876 - acc: 0.9677 - precision: 0.9807 - recall: 0.9545 - f1: 0.9668 - matthews_correlation: 0.9358 - auc: 0.9912 - val_loss: 0.0942 - val_acc: 0.9735 - val_precision: 0.9708 - val_recall: 0.9747 - val_f1: 0.9720 - val_matthews_correlation: 0.9468 - val_auc: 0.9912\n",
      "Epoch 50/100\n",
      "345/344 [==============================] - 329s 953ms/step - loss: 0.0827 - acc: 0.9701 - precision: 0.9821 - recall: 0.9580 - f1: 0.9693 - matthews_correlation: 0.9406 - auc: 0.9913 - val_loss: 0.0897 - val_acc: 0.9731 - val_precision: 0.9800 - val_recall: 0.9638 - val_f1: 0.9711 - val_matthews_correlation: 0.9461 - val_auc: 0.9913\n",
      "Epoch 51/100\n",
      "345/344 [==============================] - 328s 950ms/step - loss: 0.0847 - acc: 0.9702 - precision: 0.9844 - recall: 0.9554 - f1: 0.9691 - matthews_correlation: 0.9410 - auc: 0.9913 - val_loss: 0.0894 - val_acc: 0.9731 - val_precision: 0.9831 - val_recall: 0.9622 - val_f1: 0.9715 - val_matthews_correlation: 0.9469 - val_auc: 0.9914\n",
      "Epoch 52/100\n",
      "345/344 [==============================] - 329s 954ms/step - loss: 0.0811 - acc: 0.9704 - precision: 0.9828 - recall: 0.9579 - f1: 0.9697 - matthews_correlation: 0.9412 - auc: 0.9914 - val_loss: 0.0962 - val_acc: 0.9724 - val_precision: 0.9816 - val_recall: 0.9615 - val_f1: 0.9704 - val_matthews_correlation: 0.9451 - val_auc: 0.9915\n",
      "Epoch 53/100\n",
      "345/344 [==============================] - 329s 952ms/step - loss: 0.0854 - acc: 0.9689 - precision: 0.9809 - recall: 0.9566 - f1: 0.9681 - matthews_correlation: 0.9380 - auc: 0.9915 - val_loss: 0.0997 - val_acc: 0.9746 - val_precision: 0.9796 - val_recall: 0.9685 - val_f1: 0.9731 - val_matthews_correlation: 0.9493 - val_auc: 0.9915\n",
      "Epoch 54/100\n",
      "345/344 [==============================] - 328s 952ms/step - loss: 0.0829 - acc: 0.9702 - precision: 0.9831 - recall: 0.9574 - f1: 0.9696 - matthews_correlation: 0.9407 - auc: 0.9916 - val_loss: 0.0961 - val_acc: 0.9706 - val_precision: 0.9659 - val_recall: 0.9745 - val_f1: 0.9692 - val_matthews_correlation: 0.9412 - val_auc: 0.9916\n",
      "Epoch 55/100\n",
      "345/344 [==============================] - 328s 952ms/step - loss: 0.0851 - acc: 0.9698 - precision: 0.9825 - recall: 0.9563 - f1: 0.9687 - matthews_correlation: 0.9397 - auc: 0.9916 - val_loss: 0.1065 - val_acc: 0.9684 - val_precision: 0.9851 - val_recall: 0.9492 - val_f1: 0.9657 - val_matthews_correlation: 0.9374 - val_auc: 0.9917\n",
      "Epoch 56/100\n",
      "345/344 [==============================] - 328s 952ms/step - loss: 0.0801 - acc: 0.9722 - precision: 0.9855 - recall: 0.9587 - f1: 0.9714 - matthews_correlation: 0.9448 - auc: 0.9917 - val_loss: 0.1148 - val_acc: 0.9652 - val_precision: 0.9905 - val_recall: 0.9382 - val_f1: 0.9624 - val_matthews_correlation: 0.9315 - val_auc: 0.9917\n",
      "Epoch 57/100\n",
      "345/344 [==============================] - 328s 951ms/step - loss: 0.0772 - acc: 0.9728 - precision: 0.9849 - recall: 0.9606 - f1: 0.9722 - matthews_correlation: 0.9460 - auc: 0.9918 - val_loss: 0.0994 - val_acc: 0.9710 - val_precision: 0.9837 - val_recall: 0.9559 - val_f1: 0.9684 - val_matthews_correlation: 0.9424 - val_auc: 0.9918\n",
      "Epoch 58/100\n",
      "345/344 [==============================] - 329s 952ms/step - loss: 0.0782 - acc: 0.9717 - precision: 0.9835 - recall: 0.9601 - f1: 0.9711 - matthews_correlation: 0.9437 - auc: 0.9918 - val_loss: 0.0931 - val_acc: 0.9735 - val_precision: 0.9773 - val_recall: 0.9695 - val_f1: 0.9723 - val_matthews_correlation: 0.9475 - val_auc: 0.9919\n",
      "Epoch 59/100\n",
      "345/344 [==============================] - 328s 952ms/step - loss: 0.0790 - acc: 0.9713 - precision: 0.9830 - recall: 0.9600 - f1: 0.9709 - matthews_correlation: 0.9429 - auc: 0.9919 - val_loss: 0.1017 - val_acc: 0.9724 - val_precision: 0.9734 - val_recall: 0.9706 - val_f1: 0.9710 - val_matthews_correlation: 0.9451 - val_auc: 0.9919\n",
      "Epoch 60/100\n",
      "345/344 [==============================] - 328s 952ms/step - loss: 0.0807 - acc: 0.9716 - precision: 0.9827 - recall: 0.9603 - f1: 0.9709 - matthews_correlation: 0.9435 - auc: 0.9920 - val_loss: 0.0954 - val_acc: 0.9713 - val_precision: 0.9829 - val_recall: 0.9593 - val_f1: 0.9699 - val_matthews_correlation: 0.9432 - val_auc: 0.9920\n",
      "Epoch 61/100\n",
      "345/344 [==============================] - 328s 950ms/step - loss: 0.0759 - acc: 0.9719 - precision: 0.9837 - recall: 0.9596 - f1: 0.9711 - matthews_correlation: 0.9439 - auc: 0.9920 - val_loss: 0.1116 - val_acc: 0.9728 - val_precision: 0.9699 - val_recall: 0.9748 - val_f1: 0.9714 - val_matthews_correlation: 0.9457 - val_auc: 0.9921\n",
      "Epoch 62/100\n",
      "345/344 [==============================] - 327s 948ms/step - loss: 0.0763 - acc: 0.9729 - precision: 0.9854 - recall: 0.9603 - f1: 0.9721 - matthews_correlation: 0.9463 - auc: 0.9921 - val_loss: 0.1061 - val_acc: 0.9735 - val_precision: 0.9771 - val_recall: 0.9703 - val_f1: 0.9729 - val_matthews_correlation: 0.9470 - val_auc: 0.9921\n",
      "Epoch 63/100\n",
      "345/344 [==============================] - 328s 951ms/step - loss: 0.0715 - acc: 0.9749 - precision: 0.9854 - recall: 0.9643 - f1: 0.9743 - matthews_correlation: 0.9501 - auc: 0.9922 - val_loss: 0.1115 - val_acc: 0.9742 - val_precision: 0.9862 - val_recall: 0.9613 - val_f1: 0.9727 - val_matthews_correlation: 0.9486 - val_auc: 0.9922\n",
      "Epoch 64/100\n",
      "345/344 [==============================] - 326s 946ms/step - loss: 0.0790 - acc: 0.9720 - precision: 0.9841 - recall: 0.9600 - f1: 0.9714 - matthews_correlation: 0.9446 - auc: 0.9922 - val_loss: 0.1092 - val_acc: 0.9702 - val_precision: 0.9631 - val_recall: 0.9770 - val_f1: 0.9689 - val_matthews_correlation: 0.9406 - val_auc: 0.9922\n",
      "Epoch 65/100\n",
      "345/344 [==============================] - 327s 949ms/step - loss: 0.0747 - acc: 0.9736 - precision: 0.9850 - recall: 0.9623 - f1: 0.9730 - matthews_correlation: 0.9476 - auc: 0.9923 - val_loss: 0.1118 - val_acc: 0.9750 - val_precision: 0.9823 - val_recall: 0.9672 - val_f1: 0.9739 - val_matthews_correlation: 0.9501 - val_auc: 0.9923\n",
      "Epoch 66/100\n",
      "345/344 [==============================] - 330s 956ms/step - loss: 0.0756 - acc: 0.9735 - precision: 0.9854 - recall: 0.9615 - f1: 0.9727 - matthews_correlation: 0.9473 - auc: 0.9923 - val_loss: 0.1022 - val_acc: 0.9728 - val_precision: 0.9823 - val_recall: 0.9619 - val_f1: 0.9710 - val_matthews_correlation: 0.9455 - val_auc: 0.9924\n",
      "Epoch 67/100\n",
      "345/344 [==============================] - 329s 954ms/step - loss: 0.0781 - acc: 0.9729 - precision: 0.9854 - recall: 0.9604 - f1: 0.9722 - matthews_correlation: 0.9462 - auc: 0.9924 - val_loss: 0.0999 - val_acc: 0.9721 - val_precision: 0.9679 - val_recall: 0.9752 - val_f1: 0.9707 - val_matthews_correlation: 0.9440 - val_auc: 0.9924\n",
      "Epoch 68/100\n",
      "345/344 [==============================] - 328s 951ms/step - loss: 0.0749 - acc: 0.9741 - precision: 0.9858 - recall: 0.9628 - f1: 0.9737 - matthews_correlation: 0.9484 - auc: 0.9924 - val_loss: 0.0968 - val_acc: 0.9717 - val_precision: 0.9838 - val_recall: 0.9580 - val_f1: 0.9698 - val_matthews_correlation: 0.9435 - val_auc: 0.9925\n",
      "Epoch 69/100\n",
      "345/344 [==============================] - 327s 947ms/step - loss: 0.0724 - acc: 0.9738 - precision: 0.9843 - recall: 0.9626 - f1: 0.9729 - matthews_correlation: 0.9478 - auc: 0.9925 - val_loss: 0.0988 - val_acc: 0.9717 - val_precision: 0.9818 - val_recall: 0.9601 - val_f1: 0.9699 - val_matthews_correlation: 0.9436 - val_auc: 0.9925\n",
      "Epoch 70/100\n",
      "345/344 [==============================] - 329s 954ms/step - loss: 0.0736 - acc: 0.9737 - precision: 0.9848 - recall: 0.9625 - f1: 0.9731 - matthews_correlation: 0.9475 - auc: 0.9925 - val_loss: 0.0971 - val_acc: 0.9761 - val_precision: 0.9776 - val_recall: 0.9738 - val_f1: 0.9748 - val_matthews_correlation: 0.9523 - val_auc: 0.9926\n",
      "Epoch 71/100\n",
      "345/344 [==============================] - 328s 950ms/step - loss: 0.0718 - acc: 0.9742 - precision: 0.9845 - recall: 0.9639 - f1: 0.9736 - matthews_correlation: 0.9488 - auc: 0.9926 - val_loss: 0.1024 - val_acc: 0.9710 - val_precision: 0.9702 - val_recall: 0.9719 - val_f1: 0.9701 - val_matthews_correlation: 0.9422 - val_auc: 0.9926\n",
      "Epoch 72/100\n",
      "345/344 [==============================] - 328s 949ms/step - loss: 0.0726 - acc: 0.9736 - precision: 0.9848 - recall: 0.9621 - f1: 0.9729 - matthews_correlation: 0.9476 - auc: 0.9926 - val_loss: 0.0998 - val_acc: 0.9735 - val_precision: 0.9768 - val_recall: 0.9685 - val_f1: 0.9718 - val_matthews_correlation: 0.9468 - val_auc: 0.9927\n",
      "Epoch 73/100\n",
      "345/344 [==============================] - 328s 952ms/step - loss: 0.0698 - acc: 0.9757 - precision: 0.9874 - recall: 0.9638 - f1: 0.9750 - matthews_correlation: 0.9517 - auc: 0.9927 - val_loss: 0.1062 - val_acc: 0.9742 - val_precision: 0.9782 - val_recall: 0.9694 - val_f1: 0.9730 - val_matthews_correlation: 0.9483 - val_auc: 0.9927\n",
      "Epoch 74/100\n",
      "345/344 [==============================] - 327s 948ms/step - loss: 0.0695 - acc: 0.9754 - precision: 0.9864 - recall: 0.9639 - f1: 0.9746 - matthews_correlation: 0.9510 - auc: 0.9928 - val_loss: 0.1094 - val_acc: 0.9742 - val_precision: 0.9742 - val_recall: 0.9736 - val_f1: 0.9730 - val_matthews_correlation: 0.9483 - val_auc: 0.9928\n",
      "Epoch 75/100\n",
      "345/344 [==============================] - 328s 952ms/step - loss: 0.0722 - acc: 0.9732 - precision: 0.9844 - recall: 0.9623 - f1: 0.9727 - matthews_correlation: 0.9469 - auc: 0.9928 - val_loss: 0.1071 - val_acc: 0.9710 - val_precision: 0.9666 - val_recall: 0.9739 - val_f1: 0.9691 - val_matthews_correlation: 0.9422 - val_auc: 0.9928\n",
      "Epoch 76/100\n",
      "345/344 [==============================] - 327s 948ms/step - loss: 0.0739 - acc: 0.9740 - precision: 0.9857 - recall: 0.9627 - f1: 0.9736 - matthews_correlation: 0.9484 - auc: 0.9928 - val_loss: 0.1045 - val_acc: 0.9724 - val_precision: 0.9716 - val_recall: 0.9722 - val_f1: 0.9710 - val_matthews_correlation: 0.9446 - val_auc: 0.9929\n",
      "Epoch 77/100\n",
      "345/344 [==============================] - 328s 950ms/step - loss: 0.0695 - acc: 0.9751 - precision: 0.9877 - recall: 0.9624 - f1: 0.9744 - matthews_correlation: 0.9506 - auc: 0.9929 - val_loss: 0.1058 - val_acc: 0.9735 - val_precision: 0.9746 - val_recall: 0.9723 - val_f1: 0.9725 - val_matthews_correlation: 0.9469 - val_auc: 0.9929\n",
      "Epoch 78/100\n",
      "345/344 [==============================] - 328s 951ms/step - loss: 0.0733 - acc: 0.9747 - precision: 0.9864 - recall: 0.9628 - f1: 0.9740 - matthews_correlation: 0.9499 - auc: 0.9929 - val_loss: 0.1046 - val_acc: 0.9735 - val_precision: 0.9784 - val_recall: 0.9674 - val_f1: 0.9720 - val_matthews_correlation: 0.9469 - val_auc: 0.9929\n",
      "Epoch 79/100\n",
      "345/344 [==============================] - 329s 954ms/step - loss: 0.0664 - acc: 0.9771 - precision: 0.9872 - recall: 0.9669 - f1: 0.9765 - matthews_correlation: 0.9545 - auc: 0.9930 - val_loss: 0.1021 - val_acc: 0.9750 - val_precision: 0.9863 - val_recall: 0.9621 - val_f1: 0.9733 - val_matthews_correlation: 0.9503 - val_auc: 0.9930\n",
      "Epoch 80/100\n",
      "345/344 [==============================] - 328s 952ms/step - loss: 0.0667 - acc: 0.9760 - precision: 0.9862 - recall: 0.9660 - f1: 0.9755 - matthews_correlation: 0.9523 - auc: 0.9930 - val_loss: 0.1019 - val_acc: 0.9746 - val_precision: 0.9775 - val_recall: 0.9707 - val_f1: 0.9733 - val_matthews_correlation: 0.9489 - val_auc: 0.9930\n",
      "Epoch 81/100\n",
      "345/344 [==============================] - 327s 947ms/step - loss: 0.0673 - acc: 0.9765 - precision: 0.9874 - recall: 0.9655 - f1: 0.9759 - matthews_correlation: 0.9533 - auc: 0.9931 - val_loss: 0.0978 - val_acc: 0.9728 - val_precision: 0.9723 - val_recall: 0.9735 - val_f1: 0.9721 - val_matthews_correlation: 0.9455 - val_auc: 0.9931\n",
      "Epoch 82/100\n",
      "345/344 [==============================] - 329s 955ms/step - loss: 0.0674 - acc: 0.9757 - precision: 0.9857 - recall: 0.9656 - f1: 0.9751 - matthews_correlation: 0.9519 - auc: 0.9931 - val_loss: 0.0977 - val_acc: 0.9728 - val_precision: 0.9867 - val_recall: 0.9589 - val_f1: 0.9717 - val_matthews_correlation: 0.9460 - val_auc: 0.9931\n",
      "Epoch 83/100\n",
      "345/344 [==============================] - 327s 948ms/step - loss: 0.0660 - acc: 0.9767 - precision: 0.9884 - recall: 0.9653 - f1: 0.9763 - matthews_correlation: 0.9537 - auc: 0.9932 - val_loss: 0.0998 - val_acc: 0.9757 - val_precision: 0.9802 - val_recall: 0.9713 - val_f1: 0.9749 - val_matthews_correlation: 0.9516 - val_auc: 0.9932\n",
      "Epoch 84/100\n",
      "345/344 [==============================] - 328s 952ms/step - loss: 0.0683 - acc: 0.9762 - precision: 0.9882 - recall: 0.9641 - f1: 0.9756 - matthews_correlation: 0.9528 - auc: 0.9932 - val_loss: 0.0977 - val_acc: 0.9753 - val_precision: 0.9842 - val_recall: 0.9658 - val_f1: 0.9741 - val_matthews_correlation: 0.9507 - val_auc: 0.9932\n",
      "Epoch 85/100\n",
      "345/344 [==============================] - 327s 948ms/step - loss: 0.0669 - acc: 0.9769 - precision: 0.9876 - recall: 0.9666 - f1: 0.9766 - matthews_correlation: 0.9541 - auc: 0.9932 - val_loss: 0.1056 - val_acc: 0.9753 - val_precision: 0.9802 - val_recall: 0.9707 - val_f1: 0.9745 - val_matthews_correlation: 0.9512 - val_auc: 0.9933\n",
      "Epoch 86/100\n",
      "345/344 [==============================] - 327s 949ms/step - loss: 0.0673 - acc: 0.9760 - precision: 0.9868 - recall: 0.9651 - f1: 0.9754 - matthews_correlation: 0.9522 - auc: 0.9933 - val_loss: 0.1130 - val_acc: 0.9731 - val_precision: 0.9821 - val_recall: 0.9639 - val_f1: 0.9720 - val_matthews_correlation: 0.9464 - val_auc: 0.9933\n",
      "Epoch 87/100\n",
      "345/344 [==============================] - 326s 945ms/step - loss: 0.0658 - acc: 0.9753 - precision: 0.9865 - recall: 0.9642 - f1: 0.9748 - matthews_correlation: 0.9510 - auc: 0.9933 - val_loss: 0.1188 - val_acc: 0.9706 - val_precision: 0.9862 - val_recall: 0.9537 - val_f1: 0.9686 - val_matthews_correlation: 0.9416 - val_auc: 0.9933\n",
      "Epoch 88/100\n",
      "345/344 [==============================] - 329s 953ms/step - loss: 0.0633 - acc: 0.9773 - precision: 0.9872 - recall: 0.9675 - f1: 0.9768 - matthews_correlation: 0.9548 - auc: 0.9934 - val_loss: 0.1288 - val_acc: 0.9728 - val_precision: 0.9675 - val_recall: 0.9768 - val_f1: 0.9713 - val_matthews_correlation: 0.9454 - val_auc: 0.9934\n",
      "Epoch 89/100\n",
      "345/344 [==============================] - 328s 952ms/step - loss: 0.0627 - acc: 0.9777 - precision: 0.9871 - recall: 0.9687 - f1: 0.9774 - matthews_correlation: 0.9556 - auc: 0.9934 - val_loss: 0.0959 - val_acc: 0.9750 - val_precision: 0.9811 - val_recall: 0.9669 - val_f1: 0.9732 - val_matthews_correlation: 0.9499 - val_auc: 0.9934\n",
      "Epoch 90/100\n",
      "345/344 [==============================] - 328s 950ms/step - loss: 0.0615 - acc: 0.9776 - precision: 0.9862 - recall: 0.9687 - f1: 0.9770 - matthews_correlation: 0.9553 - auc: 0.9934 - val_loss: 0.1178 - val_acc: 0.9728 - val_precision: 0.9662 - val_recall: 0.9792 - val_f1: 0.9716 - val_matthews_correlation: 0.9462 - val_auc: 0.9935\n",
      "Epoch 91/100\n",
      "345/344 [==============================] - 328s 952ms/step - loss: 0.0642 - acc: 0.9774 - precision: 0.9874 - recall: 0.9674 - f1: 0.9768 - matthews_correlation: 0.9551 - auc: 0.9935 - val_loss: 0.1061 - val_acc: 0.9757 - val_precision: 0.9849 - val_recall: 0.9658 - val_f1: 0.9743 - val_matthews_correlation: 0.9520 - val_auc: 0.9935\n",
      "Epoch 92/100\n",
      "345/344 [==============================] - 329s 953ms/step - loss: 0.0617 - acc: 0.9791 - precision: 0.9894 - recall: 0.9688 - f1: 0.9786 - matthews_correlation: 0.9585 - auc: 0.9935 - val_loss: 0.1100 - val_acc: 0.9735 - val_precision: 0.9776 - val_recall: 0.9687 - val_f1: 0.9722 - val_matthews_correlation: 0.9473 - val_auc: 0.9935\n",
      "Epoch 93/100\n",
      "345/344 [==============================] - 328s 951ms/step - loss: 0.0668 - acc: 0.9767 - precision: 0.9867 - recall: 0.9667 - f1: 0.9762 - matthews_correlation: 0.9537 - auc: 0.9935 - val_loss: 0.1049 - val_acc: 0.9739 - val_precision: 0.9718 - val_recall: 0.9752 - val_f1: 0.9726 - val_matthews_correlation: 0.9476 - val_auc: 0.9936\n",
      "Epoch 94/100\n",
      "345/344 [==============================] - 327s 948ms/step - loss: 0.0635 - acc: 0.9766 - precision: 0.9868 - recall: 0.9664 - f1: 0.9761 - matthews_correlation: 0.9535 - auc: 0.9936 - val_loss: 0.1242 - val_acc: 0.9724 - val_precision: 0.9748 - val_recall: 0.9683 - val_f1: 0.9706 - val_matthews_correlation: 0.9447 - val_auc: 0.9936\n",
      "Epoch 95/100\n",
      "345/344 [==============================] - 327s 949ms/step - loss: 0.0612 - acc: 0.9787 - precision: 0.9875 - recall: 0.9698 - f1: 0.9782 - matthews_correlation: 0.9578 - auc: 0.9936 - val_loss: 0.1093 - val_acc: 0.9724 - val_precision: 0.9734 - val_recall: 0.9709 - val_f1: 0.9712 - val_matthews_correlation: 0.9446 - val_auc: 0.9936\n",
      "Epoch 96/100\n",
      "345/344 [==============================] - 327s 948ms/step - loss: 0.0603 - acc: 0.9790 - precision: 0.9886 - recall: 0.9696 - f1: 0.9787 - matthews_correlation: 0.9582 - auc: 0.9936 - val_loss: 0.1104 - val_acc: 0.9731 - val_precision: 0.9758 - val_recall: 0.9688 - val_f1: 0.9714 - val_matthews_correlation: 0.9462 - val_auc: 0.9937\n",
      "Epoch 97/100\n",
      "345/344 [==============================] - 327s 948ms/step - loss: 0.0596 - acc: 0.9798 - precision: 0.9889 - recall: 0.9709 - f1: 0.9795 - matthews_correlation: 0.9598 - auc: 0.9937 - val_loss: 0.1152 - val_acc: 0.9724 - val_precision: 0.9805 - val_recall: 0.9628 - val_f1: 0.9706 - val_matthews_correlation: 0.9449 - val_auc: 0.9937\n",
      "Epoch 98/100\n",
      "345/344 [==============================] - 328s 950ms/step - loss: 0.0627 - acc: 0.9777 - precision: 0.9880 - recall: 0.9677 - f1: 0.9773 - matthews_correlation: 0.9557 - auc: 0.9937 - val_loss: 0.1122 - val_acc: 0.9724 - val_precision: 0.9716 - val_recall: 0.9729 - val_f1: 0.9714 - val_matthews_correlation: 0.9449 - val_auc: 0.9937\n",
      "Epoch 99/100\n",
      "345/344 [==============================] - 327s 948ms/step - loss: 0.0600 - acc: 0.9785 - precision: 0.9886 - recall: 0.9680 - f1: 0.9778 - matthews_correlation: 0.9571 - auc: 0.9937 - val_loss: 0.1164 - val_acc: 0.9735 - val_precision: 0.9738 - val_recall: 0.9712 - val_f1: 0.9716 - val_matthews_correlation: 0.9467 - val_auc: 0.9938\n",
      "Epoch 100/100\n",
      "345/344 [==============================] - 327s 949ms/step - loss: 0.0576 - acc: 0.9805 - precision: 0.9893 - recall: 0.9716 - f1: 0.9800 - matthews_correlation: 0.9611 - auc: 0.9938 - val_loss: 0.1123 - val_acc: 0.9721 - val_precision: 0.9719 - val_recall: 0.9720 - val_f1: 0.9709 - val_matthews_correlation: 0.9442 - val_auc: 0.9938\n"
     ]
    },
    {
     "data": {
      "text/plain": [
       "<keras.callbacks.History at 0x19c1b6adda0>"
      ]
     },
     "execution_count": 12,
     "metadata": {},
     "output_type": "execute_result"
    }
   ],
   "source": [
    "from keras.preprocessing.image import ImageDataGenerator\n",
    "\n",
    "model=get_model_exp2_b()\n",
    "path_model='vgg_sterioid.h5' \n",
    "\n",
    "\n",
    "# set the learning rate\n",
    "K.set_value(model.optimizer.lr, 0.01) \n",
    "\n",
    "\n",
    "datagen = ImageDataGenerator(\n",
    "    featurewise_center=False,\n",
    "    featurewise_std_normalization=False,\n",
    "    rotation_range=35,\n",
    "    width_shift_range=0.25,\n",
    "    height_shift_range=0.25,\n",
    "    shear_range = 20,\n",
    "    horizontal_flip=True)\n",
    "\n",
    "datagen.fit(x_train)\n",
    "\n",
    "model.fit_generator(datagen.flow(x_train, y_train, batch_size=64),\n",
    "                    steps_per_epoch=len(x_train) / 64, \n",
    "                    epochs=100, \n",
    "                    verbose=1, \n",
    "                    validation_data=(x_val,y_val),\n",
    "                    callbacks=[\n",
    "                       ModelCheckpoint(filepath=path_model, monitor='val_acc',  save_best_only=False),\n",
    "                    ]      \n",
    "                   )"
   ]
  },
  {
   "cell_type": "code",
   "execution_count": 14,
   "metadata": {
    "colab": {},
    "colab_type": "code",
    "id": "w2qN7ElfhH0y"
   },
   "outputs": [],
   "source": [
    " def plot_loss_accu(history):\n",
    "    loss = history.history['loss']\n",
    "    val_loss = history.history['val_loss']\n",
    "    epochs = range(len(loss))\n",
    "    plt.plot(epochs, loss, 'g')\n",
    "    plt.plot(epochs, val_loss, 'y')\n",
    "    plt.title('Loss')\n",
    "    plt.legend(['train', 'val'], loc='upper right')\n",
    "    plt.grid(True)\n",
    "    plt.savefig('vgg2b_loss.jpg', dpi=300)\n",
    "    plt.show()\n",
    "    \n",
    "def plot_loss(history):\n",
    "    loss = history.history['acc']\n",
    "    val_loss = history.history['val_acc']\n",
    "    epochs = range(len(loss))\n",
    "    plt.plot(epochs, loss, 'r')\n",
    "    plt.plot(epochs, val_loss, 'b')\n",
    "    plt.title('Accuracy')\n",
    "    plt.legend(['train', 'val'], loc='lower right')\n",
    "    plt.grid(True)\n",
    "    plt.savefig('vgg2b_acc.jpg', dpi=300)\n",
    "    plt.show()"
   ]
  },
  {
   "cell_type": "code",
   "execution_count": 15,
   "metadata": {
    "colab": {
     "base_uri": "https://localhost:8080/",
     "height": 708
    },
    "colab_type": "code",
    "id": "obPywb3KhH6n",
    "outputId": "dcc8048b-e748-4737-fd73-749443a19292"
   },
   "outputs": [
    {
     "data": {
      "image/png": "[encoded data removed]",
      "text/plain": [
       "<Figure size 432x288 with 1 Axes>"
      ]
     },
     "metadata": {
      "needs_background": "light"
     },
     "output_type": "display_data"
    },
    {
     "data": {
      "image/png": "[encoded data removed]",
      "text/plain": [
       "<Figure size 432x288 with 1 Axes>"
      ]
     },
     "metadata": {
      "needs_background": "light"
     },
     "output_type": "display_data"
    },
    {
     "name": "stdout",
     "output_type": "stream",
     "text": [
      "Done!\n"
     ]
    }
   ],
   "source": [
    "plot_loss_accu(model.history)\n",
    "plot_loss(model.history)\n",
    "print(\"Done!\")"
   ]
  },
  {
   "cell_type": "code",
   "execution_count": 8,
   "metadata": {
    "colab": {
     "base_uri": "https://localhost:8080/",
     "height": 70
    },
    "colab_type": "code",
    "id": "n6z-ycnmqUbv",
    "outputId": "59ebf6b0-54f6-4013-ff85-d30f936d822b"
   },
   "outputs": [],
   "source": [
    "#score = model.evaluate(x_test, y_test, verbose=1)\n",
    "#print('Test loss:', score[0])\n",
    "#print('Test accuracy:', score[1])"
   ]
  },
  {
   "cell_type": "code",
   "execution_count": 9,
   "metadata": {
    "colab": {},
    "colab_type": "code",
    "id": "S79QTd_svvU-"
   },
   "outputs": [],
   "source": [
    "#y_pred = model.predict(x_test)\n",
    "# get labels from predictions\n",
    "#pred_labels = np.array([np.argmax(pred) for pred in y_pred])\n",
    "#convert ground truths to column values\n",
    "#y_test = np.argmax(y_test, axis=1)\n",
    "#accuracy = np.mean((y_test==pred_labels))"
   ]
  },
  {
   "cell_type": "code",
   "execution_count": null,
   "metadata": {
    "colab": {},
    "colab_type": "code",
    "id": "WNtFKE4ihjzq"
   },
   "outputs": [],
   "source": []
  }
 ],
 "metadata": {
  "accelerator": "GPU",
  "colab": {
   "collapsed_sections": [],
   "name": "vgg-2b.ipynb",
   "provenance": [],
   "version": "0.3.2"
  },
  "kernelspec": {
   "display_name": "Python 3",
   "language": "python",
   "name": "python3"
  },
  "language_info": {
   "codemirror_mode": {
    "name": "ipython",
    "version": 3
   },
   "file_extension": ".py",
   "mimetype": "text/x-python",
   "name": "python",
   "nbconvert_exporter": "python",
   "pygments_lexer": "ipython3",
   "version": "3.6.8"
  }
 },
 "nbformat": 4,
 "nbformat_minor": 2
}
