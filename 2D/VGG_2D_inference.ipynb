{
 "cells": [
  {
   "cell_type": "code",
   "execution_count": 6,
   "metadata": {},
   "outputs": [],
   "source": [
    "import numpy as np\n",
    "import os\n",
    "import glob\n",
    "import cv2\n",
    "import random\n",
    "import matplotlib.pyplot as plt\n",
    "from tqdm import tqdm\n",
    "\n",
    "import tensorflow as tf\n",
    "from keras.models import Sequential\n",
    "from keras.optimizers import RMSprop\n",
    "from keras.layers import Conv2D, MaxPooling2D\n",
    "from keras.layers import Activation, Dropout, Flatten, Dense\n",
    "from sklearn.utils import shuffle\n",
    "from sklearn.model_selection import train_test_split\n",
    "from keras import optimizers\n",
    "from keras.utils import to_categorical, plot_model\n",
    "from keras.layers import Dense, Input, Conv2D, Flatten, MaxPooling2D, Activation\n",
    "from keras.models import Model, Sequential\n",
    "from keras.layers import Activation, Dropout, Flatten, Dense\n",
    "from keras.callbacks import ModelCheckpoint\n",
    "from keras.optimizers import Adam\n",
    "from keras.applications.vgg16 import VGG16\n",
    "from keras.models import load_model\n",
    "from keras.utils import np_utils\n",
    "from keras import backend as K\n",
    "import helpers as H\n",
    "\n",
    "np.random.seed(1)\n",
    "\n",
    "#Root directory of the project\n",
    "ROOT_DIR = os.path.abspath(\".\")\n",
    "TRAIN_DATASET_PATH = os.path.join(ROOT_DIR, \"dataset\")"
   ]
  },
  {
   "cell_type": "code",
   "execution_count": 2,
   "metadata": {},
   "outputs": [],
   "source": [
    "#convert 28x28 grayscale to 48x48 rgb channels\n",
    "def to_rgb(img): \n",
    "    img_rgb = np.asarray(np.dstack((img, img, img)))\n",
    "    img = cv2.resize(img_rgb, (299, 299), interpolation = cv2.INTER_AREA)\n",
    "    return img"
   ]
  },
  {
   "cell_type": "code",
   "execution_count": 3,
   "metadata": {},
   "outputs": [
    {
     "data": {
      "text/plain": [
       "117"
      ]
     },
     "execution_count": 3,
     "metadata": {},
     "output_type": "execute_result"
    }
   ],
   "source": [
    "TEST_IMAGES = os.path.join(TRAIN_DATASET_PATH, \"test_images\")\n",
    "TEST_IMAGES_PATHS = [os.path.join(TEST_IMAGES, x) for x in H.sort_paths(os.listdir(TEST_IMAGES))]\n",
    "len(TEST_IMAGES_PATHS)"
   ]
  },
  {
   "cell_type": "code",
   "execution_count": 4,
   "metadata": {},
   "outputs": [
    {
     "data": {
      "text/plain": [
       "['E:\\\\ECIR_2020\\\\ecir2020\\\\2D\\\\dataset\\\\test_images\\\\1.npy',\n",
       " 'E:\\\\ECIR_2020\\\\ecir2020\\\\2D\\\\dataset\\\\test_images\\\\2.npy',\n",
       " 'E:\\\\ECIR_2020\\\\ecir2020\\\\2D\\\\dataset\\\\test_images\\\\3.npy']"
      ]
     },
     "execution_count": 4,
     "metadata": {},
     "output_type": "execute_result"
    }
   ],
   "source": [
    "TEST_IMAGES_PATHS[:3]"
   ]
  },
  {
   "cell_type": "code",
   "execution_count": 5,
   "metadata": {},
   "outputs": [
    {
     "name": "stdout",
     "output_type": "stream",
     "text": [
      "WARNING:tensorflow:From C:\\Users\\Aiman\\Anaconda3\\envs\\sticker\\lib\\site-packages\\tensorflow\\python\\framework\\op_def_library.py:263: colocate_with (from tensorflow.python.framework.ops) is deprecated and will be removed in a future version.\n",
      "Instructions for updating:\n",
      "Colocations handled automatically by placer.\n",
      "WARNING:tensorflow:From C:\\Users\\Aiman\\Anaconda3\\envs\\sticker\\lib\\site-packages\\keras\\backend\\tensorflow_backend.py:3445: calling dropout (from tensorflow.python.ops.nn_ops) with keep_prob is deprecated and will be removed in a future version.\n",
      "Instructions for updating:\n",
      "Please use `rate` instead of `keep_prob`. Rate should be set to `rate = 1 - keep_prob`.\n",
      "WARNING:tensorflow:From C:\\Users\\Aiman\\Anaconda3\\envs\\sticker\\lib\\site-packages\\tensorflow\\python\\ops\\math_ops.py:3066: to_int32 (from tensorflow.python.ops.math_ops) is deprecated and will be removed in a future version.\n",
      "Instructions for updating:\n",
      "Use tf.cast instead.\n",
      "WARNING:tensorflow:From C:\\Users\\Aiman\\Anaconda3\\envs\\sticker\\lib\\site-packages\\tensorflow\\python\\ops\\math_grad.py:102: div (from tensorflow.python.ops.math_ops) is deprecated and will be removed in a future version.\n",
      "Instructions for updating:\n",
      "Deprecated in favor of operator or tf.math.divide.\n",
      "_________________________________________________________________\n",
      "Layer (type)                 Output Shape              Param #   \n",
      "=================================================================\n",
      "input_2 (InputLayer)         (None, 299, 299, 3)       0         \n",
      "_________________________________________________________________\n",
      "block1_conv1 (Conv2D)        (None, 299, 299, 64)      1792      \n",
      "_________________________________________________________________\n",
      "block1_conv2 (Conv2D)        (None, 299, 299, 64)      36928     \n",
      "_________________________________________________________________\n",
      "block1_pool (MaxPooling2D)   (None, 149, 149, 64)      0         \n",
      "_________________________________________________________________\n",
      "block2_conv1 (Conv2D)        (None, 149, 149, 128)     73856     \n",
      "_________________________________________________________________\n",
      "block2_conv2 (Conv2D)        (None, 149, 149, 128)     147584    \n",
      "_________________________________________________________________\n",
      "block2_pool (MaxPooling2D)   (None, 74, 74, 128)       0         \n",
      "_________________________________________________________________\n",
      "block3_conv1 (Conv2D)        (None, 74, 74, 256)       295168    \n",
      "_________________________________________________________________\n",
      "block3_conv2 (Conv2D)        (None, 74, 74, 256)       590080    \n",
      "_________________________________________________________________\n",
      "block3_conv3 (Conv2D)        (None, 74, 74, 256)       590080    \n",
      "_________________________________________________________________\n",
      "block3_pool (MaxPooling2D)   (None, 37, 37, 256)       0         \n",
      "_________________________________________________________________\n",
      "block4_conv1 (Conv2D)        (None, 37, 37, 512)       1180160   \n",
      "_________________________________________________________________\n",
      "block4_conv2 (Conv2D)        (None, 37, 37, 512)       2359808   \n",
      "_________________________________________________________________\n",
      "block4_conv3 (Conv2D)        (None, 37, 37, 512)       2359808   \n",
      "_________________________________________________________________\n",
      "block4_pool (MaxPooling2D)   (None, 18, 18, 512)       0         \n",
      "_________________________________________________________________\n",
      "block5_conv1 (Conv2D)        (None, 18, 18, 512)       2359808   \n",
      "_________________________________________________________________\n",
      "block5_conv2 (Conv2D)        (None, 18, 18, 512)       2359808   \n",
      "_________________________________________________________________\n",
      "block5_conv3 (Conv2D)        (None, 18, 18, 512)       2359808   \n",
      "_________________________________________________________________\n",
      "block5_pool (MaxPooling2D)   (None, 9, 9, 512)         0         \n",
      "_________________________________________________________________\n",
      "global_max_pooling2d_2 (Glob (None, 512)               0         \n",
      "_________________________________________________________________\n",
      "dense_3 (Dense)              (None, 1024)              525312    \n",
      "_________________________________________________________________\n",
      "dropout_2 (Dropout)          (None, 1024)              0         \n",
      "_________________________________________________________________\n",
      "dense_4 (Dense)              (None, 2)                 2050      \n",
      "=================================================================\n",
      "Total params: 15,242,050\n",
      "Trainable params: 15,242,050\n",
      "Non-trainable params: 0\n",
      "_________________________________________________________________\n"
     ]
    }
   ],
   "source": [
    "model = load_model(\"vgg_2D_exp_1.h5\")\n",
    "model.summary()"
   ]
  },
  {
   "cell_type": "code",
   "execution_count": 7,
   "metadata": {},
   "outputs": [
    {
     "data": {
      "text/plain": [
       "['E:\\\\ECIR_2020\\\\ecir2020\\\\2D\\\\dataset\\\\test_images\\\\1.npy',\n",
       " 'E:\\\\ECIR_2020\\\\ecir2020\\\\2D\\\\dataset\\\\test_images\\\\2.npy',\n",
       " 'E:\\\\ECIR_2020\\\\ecir2020\\\\2D\\\\dataset\\\\test_images\\\\3.npy']"
      ]
     },
     "execution_count": 7,
     "metadata": {},
     "output_type": "execute_result"
    }
   ],
   "source": [
    "TEST_IMAGES_PATHS[:3]"
   ]
  },
  {
   "cell_type": "code",
   "execution_count": 8,
   "metadata": {},
   "outputs": [
    {
     "data": {
      "text/plain": [
       "(512, 512, 122)"
      ]
     },
     "execution_count": 8,
     "metadata": {},
     "output_type": "execute_result"
    }
   ],
   "source": [
    "img = np.load(TEST_IMAGES_PATHS[0])\n",
    "img.shape"
   ]
  },
  {
   "cell_type": "code",
   "execution_count": 9,
   "metadata": {},
   "outputs": [
    {
     "data": {
      "text/plain": [
       "(512, 512)"
      ]
     },
     "execution_count": 9,
     "metadata": {},
     "output_type": "execute_result"
    }
   ],
   "source": [
    "a = H.normalize(img[:,:,10])\n",
    "a.shape"
   ]
  },
  {
   "cell_type": "code",
   "execution_count": 10,
   "metadata": {},
   "outputs": [
    {
     "data": {
      "text/plain": [
       "<matplotlib.image.AxesImage at 0x1f78e43ec88>"
      ]
     },
     "execution_count": 10,
     "metadata": {},
     "output_type": "execute_result"
    },
    {
     "data": {
      "image/png": "[encoded data removed]",
      "text/plain": [
       "<Figure size 432x288 with 1 Axes>"
      ]
     },
     "metadata": {
      "needs_background": "light"
     },
     "output_type": "display_data"
    }
   ],
   "source": [
    "plt.imshow(a, cmap='gray')"
   ]
  },
  {
   "cell_type": "code",
   "execution_count": 11,
   "metadata": {},
   "outputs": [
    {
     "data": {
      "text/plain": [
       "(299, 299, 3)"
      ]
     },
     "execution_count": 11,
     "metadata": {},
     "output_type": "execute_result"
    }
   ],
   "source": [
    "a = to_rgb(a)\n",
    "a.shape"
   ]
  },
  {
   "cell_type": "code",
   "execution_count": 12,
   "metadata": {},
   "outputs": [
    {
     "data": {
      "text/plain": [
       "<matplotlib.image.AxesImage at 0x1f78e4ceef0>"
      ]
     },
     "execution_count": 12,
     "metadata": {},
     "output_type": "execute_result"
    },
    {
     "data": {
      "image/png": "[encoded data removed]",
      "text/plain": [
       "<Figure size 432x288 with 1 Axes>"
      ]
     },
     "metadata": {
      "needs_background": "light"
     },
     "output_type": "display_data"
    }
   ],
   "source": [
    "plt.imshow(a)"
   ]
  },
  {
   "cell_type": "code",
   "execution_count": 32,
   "metadata": {},
   "outputs": [
    {
     "name": "stderr",
     "output_type": "stream",
     "text": [
      "  0%|                                                                                          | 0/117 [00:00<?, ?it/s]"
     ]
    },
    {
     "name": "stdout",
     "output_type": "stream",
     "text": [
      "122\n"
     ]
    },
    {
     "name": "stderr",
     "output_type": "stream",
     "text": [
      "  1%|▋                                                                                 | 1/117 [00:15<29:02, 15.02s/it]"
     ]
    },
    {
     "name": "stdout",
     "output_type": "stream",
     "text": [
      "143\n"
     ]
    },
    {
     "name": "stderr",
     "output_type": "stream",
     "text": [
      "  2%|█▍                                                                                | 2/117 [00:29<28:15, 14.74s/it]"
     ]
    },
    {
     "name": "stdout",
     "output_type": "stream",
     "text": [
      "118\n"
     ]
    },
    {
     "name": "stderr",
     "output_type": "stream",
     "text": [
      "  3%|██                                                                                | 3/117 [00:40<26:11, 13.79s/it]"
     ]
    },
    {
     "name": "stdout",
     "output_type": "stream",
     "text": [
      "122\n"
     ]
    },
    {
     "name": "stderr",
     "output_type": "stream",
     "text": [
      "  3%|██▊                                                                               | 4/117 [00:53<25:20, 13.46s/it]"
     ]
    },
    {
     "name": "stdout",
     "output_type": "stream",
     "text": [
      "138\n"
     ]
    },
    {
     "name": "stderr",
     "output_type": "stream",
     "text": [
      "  4%|███▌                                                                              | 5/117 [01:07<25:35, 13.71s/it]"
     ]
    },
    {
     "name": "stdout",
     "output_type": "stream",
     "text": [
      "137\n"
     ]
    },
    {
     "name": "stderr",
     "output_type": "stream",
     "text": [
      "  5%|████▏                                                                             | 6/117 [01:22<25:47, 13.94s/it]"
     ]
    },
    {
     "name": "stdout",
     "output_type": "stream",
     "text": [
      "151\n"
     ]
    },
    {
     "name": "stderr",
     "output_type": "stream",
     "text": [
      "  6%|████▉                                                                             | 7/117 [01:37<26:36, 14.51s/it]"
     ]
    },
    {
     "name": "stdout",
     "output_type": "stream",
     "text": [
      "121\n"
     ]
    },
    {
     "name": "stderr",
     "output_type": "stream",
     "text": [
      "  7%|█████▌                                                                            | 8/117 [01:50<25:16, 13.91s/it]"
     ]
    },
    {
     "name": "stdout",
     "output_type": "stream",
     "text": [
      "130\n"
     ]
    },
    {
     "name": "stderr",
     "output_type": "stream",
     "text": [
      "  8%|██████▎                                                                           | 9/117 [02:04<24:52, 13.82s/it]"
     ]
    },
    {
     "name": "stdout",
     "output_type": "stream",
     "text": [
      "140\n"
     ]
    },
    {
     "name": "stderr",
     "output_type": "stream",
     "text": [
      "  9%|██████▉                                                                          | 10/117 [02:18<25:07, 14.09s/it]"
     ]
    },
    {
     "name": "stdout",
     "output_type": "stream",
     "text": [
      "140\n"
     ]
    },
    {
     "name": "stderr",
     "output_type": "stream",
     "text": [
      "  9%|███████▌                                                                         | 11/117 [02:33<25:24, 14.38s/it]"
     ]
    },
    {
     "name": "stdout",
     "output_type": "stream",
     "text": [
      "116\n"
     ]
    },
    {
     "name": "stderr",
     "output_type": "stream",
     "text": [
      " 10%|████████▎                                                                        | 12/117 [02:46<24:05, 13.76s/it]"
     ]
    },
    {
     "name": "stdout",
     "output_type": "stream",
     "text": [
      "139\n"
     ]
    },
    {
     "name": "stderr",
     "output_type": "stream",
     "text": [
      " 11%|█████████                                                                        | 13/117 [03:00<24:18, 14.02s/it]"
     ]
    },
    {
     "name": "stdout",
     "output_type": "stream",
     "text": [
      "118\n"
     ]
    },
    {
     "name": "stderr",
     "output_type": "stream",
     "text": [
      " 12%|█████████▋                                                                       | 14/117 [03:13<23:18, 13.58s/it]"
     ]
    },
    {
     "name": "stdout",
     "output_type": "stream",
     "text": [
      "124\n"
     ]
    },
    {
     "name": "stderr",
     "output_type": "stream",
     "text": [
      " 13%|██████████▍                                                                      | 15/117 [03:26<22:52, 13.46s/it]"
     ]
    },
    {
     "name": "stdout",
     "output_type": "stream",
     "text": [
      "110\n"
     ]
    },
    {
     "name": "stderr",
     "output_type": "stream",
     "text": [
      " 14%|███████████                                                                      | 16/117 [03:38<21:38, 12.86s/it]"
     ]
    },
    {
     "name": "stdout",
     "output_type": "stream",
     "text": [
      "258\n"
     ]
    },
    {
     "name": "stderr",
     "output_type": "stream",
     "text": [
      " 15%|███████████▊                                                                     | 17/117 [04:05<28:37, 17.18s/it]"
     ]
    },
    {
     "name": "stdout",
     "output_type": "stream",
     "text": [
      "128\n"
     ]
    },
    {
     "name": "stderr",
     "output_type": "stream",
     "text": [
      " 15%|████████████▍                                                                    | 18/117 [04:18<26:29, 16.06s/it]"
     ]
    },
    {
     "name": "stdout",
     "output_type": "stream",
     "text": [
      "245\n"
     ]
    },
    {
     "name": "stderr",
     "output_type": "stream",
     "text": [
      " 16%|█████████████▏                                                                   | 19/117 [04:44<30:55, 18.93s/it]"
     ]
    },
    {
     "name": "stdout",
     "output_type": "stream",
     "text": [
      "131\n"
     ]
    },
    {
     "name": "stderr",
     "output_type": "stream",
     "text": [
      " 17%|█████████████▊                                                                   | 20/117 [04:58<28:03, 17.36s/it]"
     ]
    },
    {
     "name": "stdout",
     "output_type": "stream",
     "text": [
      "129\n"
     ]
    },
    {
     "name": "stderr",
     "output_type": "stream",
     "text": [
      " 18%|██████████████▌                                                                  | 21/117 [05:11<25:53, 16.18s/it]"
     ]
    },
    {
     "name": "stdout",
     "output_type": "stream",
     "text": [
      "137\n"
     ]
    },
    {
     "name": "stderr",
     "output_type": "stream",
     "text": [
      " 19%|███████████████▏                                                                 | 22/117 [05:25<24:46, 15.65s/it]"
     ]
    },
    {
     "name": "stdout",
     "output_type": "stream",
     "text": [
      "129\n"
     ]
    },
    {
     "name": "stderr",
     "output_type": "stream",
     "text": [
      " 20%|███████████████▉                                                                 | 23/117 [05:39<23:34, 15.04s/it]"
     ]
    },
    {
     "name": "stdout",
     "output_type": "stream",
     "text": [
      "138\n"
     ]
    },
    {
     "name": "stderr",
     "output_type": "stream",
     "text": [
      " 21%|████████████████▌                                                                | 24/117 [05:53<22:59, 14.83s/it]"
     ]
    },
    {
     "name": "stdout",
     "output_type": "stream",
     "text": [
      "123\n"
     ]
    },
    {
     "name": "stderr",
     "output_type": "stream",
     "text": [
      " 21%|█████████████████▎                                                               | 25/117 [06:06<21:48, 14.22s/it]"
     ]
    },
    {
     "name": "stdout",
     "output_type": "stream",
     "text": [
      "119\n"
     ]
    },
    {
     "name": "stderr",
     "output_type": "stream",
     "text": [
      " 22%|██████████████████                                                               | 26/117 [06:18<20:40, 13.64s/it]"
     ]
    },
    {
     "name": "stdout",
     "output_type": "stream",
     "text": [
      "122\n"
     ]
    },
    {
     "name": "stderr",
     "output_type": "stream",
     "text": [
      " 23%|██████████████████▋                                                              | 27/117 [06:31<20:07, 13.42s/it]"
     ]
    },
    {
     "name": "stdout",
     "output_type": "stream",
     "text": [
      "123\n"
     ]
    },
    {
     "name": "stderr",
     "output_type": "stream",
     "text": [
      " 24%|███████████████████▍                                                             | 28/117 [06:44<19:41, 13.28s/it]"
     ]
    },
    {
     "name": "stdout",
     "output_type": "stream",
     "text": [
      "129\n"
     ]
    },
    {
     "name": "stderr",
     "output_type": "stream",
     "text": [
      " 25%|████████████████████                                                             | 29/117 [06:58<19:34, 13.34s/it]"
     ]
    },
    {
     "name": "stdout",
     "output_type": "stream",
     "text": [
      "133\n"
     ]
    },
    {
     "name": "stderr",
     "output_type": "stream",
     "text": [
      " 26%|████████████████████▊                                                            | 30/117 [07:12<19:40, 13.57s/it]"
     ]
    },
    {
     "name": "stdout",
     "output_type": "stream",
     "text": [
      "117\n"
     ]
    },
    {
     "name": "stderr",
     "output_type": "stream",
     "text": [
      " 26%|█████████████████████▍                                                           | 31/117 [07:24<18:49, 13.13s/it]"
     ]
    },
    {
     "name": "stdout",
     "output_type": "stream",
     "text": [
      "131\n"
     ]
    },
    {
     "name": "stderr",
     "output_type": "stream",
     "text": [
      " 27%|██████████████████████▏                                                          | 32/117 [07:38<18:47, 13.27s/it]"
     ]
    },
    {
     "name": "stdout",
     "output_type": "stream",
     "text": [
      "145\n"
     ]
    },
    {
     "name": "stderr",
     "output_type": "stream",
     "text": [
      " 28%|██████████████████████▊                                                          | 33/117 [07:53<19:27, 13.90s/it]"
     ]
    },
    {
     "name": "stdout",
     "output_type": "stream",
     "text": [
      "136\n"
     ]
    },
    {
     "name": "stderr",
     "output_type": "stream",
     "text": [
      " 29%|███████████████████████▌                                                         | 34/117 [08:08<19:31, 14.12s/it]"
     ]
    },
    {
     "name": "stdout",
     "output_type": "stream",
     "text": [
      "138\n"
     ]
    },
    {
     "name": "stderr",
     "output_type": "stream",
     "text": [
      " 30%|████████████████████████▏                                                        | 35/117 [08:23<19:44, 14.44s/it]"
     ]
    },
    {
     "name": "stdout",
     "output_type": "stream",
     "text": [
      "113\n"
     ]
    },
    {
     "name": "stderr",
     "output_type": "stream",
     "text": [
      " 31%|████████████████████████▉                                                        | 36/117 [08:35<18:45, 13.90s/it]"
     ]
    },
    {
     "name": "stdout",
     "output_type": "stream",
     "text": [
      "146\n"
     ]
    },
    {
     "name": "stderr",
     "output_type": "stream",
     "text": [
      " 32%|█████████████████████████▌                                                       | 37/117 [08:52<19:27, 14.60s/it]"
     ]
    },
    {
     "name": "stdout",
     "output_type": "stream",
     "text": [
      "126\n"
     ]
    },
    {
     "name": "stderr",
     "output_type": "stream",
     "text": [
      " 32%|██████████████████████████▎                                                      | 38/117 [09:06<19:11, 14.58s/it]"
     ]
    },
    {
     "name": "stdout",
     "output_type": "stream",
     "text": [
      "134\n"
     ]
    },
    {
     "name": "stderr",
     "output_type": "stream",
     "text": [
      " 33%|███████████████████████████                                                      | 39/117 [09:21<18:55, 14.56s/it]"
     ]
    },
    {
     "name": "stdout",
     "output_type": "stream",
     "text": [
      "133\n"
     ]
    },
    {
     "name": "stderr",
     "output_type": "stream",
     "text": [
      " 34%|███████████████████████████▋                                                     | 40/117 [09:35<18:36, 14.50s/it]"
     ]
    },
    {
     "name": "stdout",
     "output_type": "stream",
     "text": [
      "149\n"
     ]
    },
    {
     "name": "stderr",
     "output_type": "stream",
     "text": [
      " 35%|████████████████████████████▍                                                    | 41/117 [09:51<18:56, 14.96s/it]"
     ]
    },
    {
     "name": "stdout",
     "output_type": "stream",
     "text": [
      "145\n"
     ]
    },
    {
     "name": "stderr",
     "output_type": "stream",
     "text": [
      " 36%|█████████████████████████████                                                    | 42/117 [10:07<18:53, 15.11s/it]"
     ]
    },
    {
     "name": "stdout",
     "output_type": "stream",
     "text": [
      "138\n"
     ]
    },
    {
     "name": "stderr",
     "output_type": "stream",
     "text": [
      " 37%|█████████████████████████████▊                                                   | 43/117 [10:21<18:31, 15.02s/it]"
     ]
    },
    {
     "name": "stdout",
     "output_type": "stream",
     "text": [
      "129\n"
     ]
    },
    {
     "name": "stderr",
     "output_type": "stream",
     "text": [
      " 38%|██████████████████████████████▍                                                  | 44/117 [10:35<17:47, 14.63s/it]"
     ]
    },
    {
     "name": "stdout",
     "output_type": "stream",
     "text": [
      "126\n"
     ]
    },
    {
     "name": "stderr",
     "output_type": "stream",
     "text": [
      " 38%|███████████████████████████████▏                                                 | 45/117 [10:48<17:06, 14.26s/it]"
     ]
    },
    {
     "name": "stdout",
     "output_type": "stream",
     "text": [
      "135\n"
     ]
    },
    {
     "name": "stderr",
     "output_type": "stream",
     "text": [
      " 39%|███████████████████████████████▊                                                 | 46/117 [11:03<16:51, 14.25s/it]"
     ]
    },
    {
     "name": "stdout",
     "output_type": "stream",
     "text": [
      "142\n"
     ]
    },
    {
     "name": "stderr",
     "output_type": "stream",
     "text": [
      " 40%|████████████████████████████████▌                                                | 47/117 [11:18<16:57, 14.53s/it]"
     ]
    },
    {
     "name": "stdout",
     "output_type": "stream",
     "text": [
      "137\n"
     ]
    },
    {
     "name": "stderr",
     "output_type": "stream",
     "text": [
      " 41%|█████████████████████████████████▏                                               | 48/117 [11:32<16:39, 14.49s/it]"
     ]
    },
    {
     "name": "stdout",
     "output_type": "stream",
     "text": [
      "125\n"
     ]
    },
    {
     "name": "stderr",
     "output_type": "stream",
     "text": [
      " 42%|█████████████████████████████████▉                                               | 49/117 [11:45<15:59, 14.11s/it]"
     ]
    },
    {
     "name": "stdout",
     "output_type": "stream",
     "text": [
      "146\n"
     ]
    },
    {
     "name": "stderr",
     "output_type": "stream",
     "text": [
      " 43%|██████████████████████████████████▌                                              | 50/117 [12:02<16:25, 14.71s/it]"
     ]
    },
    {
     "name": "stdout",
     "output_type": "stream",
     "text": [
      "125\n"
     ]
    },
    {
     "name": "stderr",
     "output_type": "stream",
     "text": [
      " 44%|███████████████████████████████████▎                                             | 51/117 [12:15<15:49, 14.38s/it]"
     ]
    },
    {
     "name": "stdout",
     "output_type": "stream",
     "text": [
      "127\n"
     ]
    },
    {
     "name": "stderr",
     "output_type": "stream",
     "text": [
      " 44%|████████████████████████████████████                                             | 52/117 [12:29<15:17, 14.11s/it]"
     ]
    },
    {
     "name": "stdout",
     "output_type": "stream",
     "text": [
      "105\n"
     ]
    },
    {
     "name": "stderr",
     "output_type": "stream",
     "text": [
      " 45%|████████████████████████████████████▋                                            | 53/117 [12:40<14:08, 13.27s/it]"
     ]
    },
    {
     "name": "stdout",
     "output_type": "stream",
     "text": [
      "116\n"
     ]
    },
    {
     "name": "stderr",
     "output_type": "stream",
     "text": [
      " 46%|█████████████████████████████████████▍                                           | 54/117 [12:52<13:40, 13.02s/it]"
     ]
    },
    {
     "name": "stdout",
     "output_type": "stream",
     "text": [
      "124\n"
     ]
    },
    {
     "name": "stderr",
     "output_type": "stream",
     "text": [
      " 47%|██████████████████████████████████████                                           | 55/117 [13:06<13:30, 13.07s/it]"
     ]
    },
    {
     "name": "stdout",
     "output_type": "stream",
     "text": [
      "136\n"
     ]
    },
    {
     "name": "stderr",
     "output_type": "stream",
     "text": [
      " 48%|██████████████████████████████████████▊                                          | 56/117 [13:20<13:43, 13.50s/it]"
     ]
    },
    {
     "name": "stdout",
     "output_type": "stream",
     "text": [
      "144\n"
     ]
    },
    {
     "name": "stderr",
     "output_type": "stream",
     "text": [
      " 49%|███████████████████████████████████████▍                                         | 57/117 [13:35<13:58, 13.98s/it]"
     ]
    },
    {
     "name": "stdout",
     "output_type": "stream",
     "text": [
      "137\n"
     ]
    },
    {
     "name": "stderr",
     "output_type": "stream",
     "text": [
      " 50%|████████████████████████████████████████▏                                        | 58/117 [13:52<14:40, 14.93s/it]"
     ]
    },
    {
     "name": "stdout",
     "output_type": "stream",
     "text": [
      "128\n"
     ]
    },
    {
     "name": "stderr",
     "output_type": "stream",
     "text": [
      " 50%|████████████████████████████████████████▊                                        | 59/117 [14:06<13:58, 14.46s/it]"
     ]
    },
    {
     "name": "stdout",
     "output_type": "stream",
     "text": [
      "139\n"
     ]
    },
    {
     "name": "stderr",
     "output_type": "stream",
     "text": [
      " 51%|█████████████████████████████████████████▌                                       | 60/117 [14:21<13:52, 14.61s/it]"
     ]
    },
    {
     "name": "stdout",
     "output_type": "stream",
     "text": [
      "253\n"
     ]
    },
    {
     "name": "stderr",
     "output_type": "stream",
     "text": [
      " 52%|██████████████████████████████████████████▏                                      | 61/117 [14:48<17:07, 18.36s/it]"
     ]
    },
    {
     "name": "stdout",
     "output_type": "stream",
     "text": [
      "144\n"
     ]
    },
    {
     "name": "stderr",
     "output_type": "stream",
     "text": [
      " 53%|██████████████████████████████████████████▉                                      | 62/117 [15:03<15:59, 17.44s/it]"
     ]
    },
    {
     "name": "stdout",
     "output_type": "stream",
     "text": [
      "122\n"
     ]
    },
    {
     "name": "stderr",
     "output_type": "stream",
     "text": [
      " 54%|███████████████████████████████████████████▌                                     | 63/117 [15:16<14:24, 16.01s/it]"
     ]
    },
    {
     "name": "stdout",
     "output_type": "stream",
     "text": [
      "122\n"
     ]
    },
    {
     "name": "stderr",
     "output_type": "stream",
     "text": [
      " 55%|████████████████████████████████████████████▎                                    | 64/117 [15:29<13:17, 15.05s/it]"
     ]
    },
    {
     "name": "stdout",
     "output_type": "stream",
     "text": [
      "108\n"
     ]
    },
    {
     "name": "stderr",
     "output_type": "stream",
     "text": [
      " 56%|█████████████████████████████████████████████                                    | 65/117 [15:40<12:07, 13.99s/it]"
     ]
    },
    {
     "name": "stdout",
     "output_type": "stream",
     "text": [
      "125\n"
     ]
    },
    {
     "name": "stderr",
     "output_type": "stream",
     "text": [
      " 56%|█████████████████████████████████████████████▋                                   | 66/117 [15:53<11:43, 13.80s/it]"
     ]
    },
    {
     "name": "stdout",
     "output_type": "stream",
     "text": [
      "131\n"
     ]
    },
    {
     "name": "stderr",
     "output_type": "stream",
     "text": [
      " 57%|██████████████████████████████████████████████▍                                  | 67/117 [16:08<11:37, 13.94s/it]"
     ]
    },
    {
     "name": "stdout",
     "output_type": "stream",
     "text": [
      "143\n"
     ]
    },
    {
     "name": "stderr",
     "output_type": "stream",
     "text": [
      " 58%|███████████████████████████████████████████████                                  | 68/117 [16:23<11:41, 14.32s/it]"
     ]
    },
    {
     "name": "stdout",
     "output_type": "stream",
     "text": [
      "133\n"
     ]
    },
    {
     "name": "stderr",
     "output_type": "stream",
     "text": [
      " 59%|███████████████████████████████████████████████▊                                 | 69/117 [16:37<11:26, 14.30s/it]"
     ]
    },
    {
     "name": "stdout",
     "output_type": "stream",
     "text": [
      "139\n"
     ]
    },
    {
     "name": "stderr",
     "output_type": "stream",
     "text": [
      " 60%|████████████████████████████████████████████████▍                                | 70/117 [16:52<11:20, 14.48s/it]"
     ]
    },
    {
     "name": "stdout",
     "output_type": "stream",
     "text": [
      "135\n"
     ]
    },
    {
     "name": "stderr",
     "output_type": "stream",
     "text": [
      " 61%|█████████████████████████████████████████████████▏                               | 71/117 [17:06<11:04, 14.44s/it]"
     ]
    },
    {
     "name": "stdout",
     "output_type": "stream",
     "text": [
      "125\n"
     ]
    },
    {
     "name": "stderr",
     "output_type": "stream",
     "text": [
      " 62%|█████████████████████████████████████████████████▊                               | 72/117 [17:20<10:33, 14.07s/it]"
     ]
    },
    {
     "name": "stdout",
     "output_type": "stream",
     "text": [
      "135\n"
     ]
    },
    {
     "name": "stderr",
     "output_type": "stream",
     "text": [
      " 62%|██████████████████████████████████████████████████▌                              | 73/117 [17:34<10:25, 14.21s/it]"
     ]
    },
    {
     "name": "stdout",
     "output_type": "stream",
     "text": [
      "143\n"
     ]
    },
    {
     "name": "stderr",
     "output_type": "stream",
     "text": [
      " 63%|███████████████████████████████████████████████████▏                             | 74/117 [17:49<10:19, 14.40s/it]"
     ]
    },
    {
     "name": "stdout",
     "output_type": "stream",
     "text": [
      "116\n"
     ]
    },
    {
     "name": "stderr",
     "output_type": "stream",
     "text": [
      " 64%|███████████████████████████████████████████████████▉                             | 75/117 [18:01<09:37, 13.75s/it]"
     ]
    },
    {
     "name": "stdout",
     "output_type": "stream",
     "text": [
      "124\n"
     ]
    },
    {
     "name": "stderr",
     "output_type": "stream",
     "text": [
      " 65%|████████████████████████████████████████████████████▌                            | 76/117 [18:15<09:18, 13.61s/it]"
     ]
    },
    {
     "name": "stdout",
     "output_type": "stream",
     "text": [
      "119\n"
     ]
    },
    {
     "name": "stderr",
     "output_type": "stream",
     "text": [
      " 66%|█████████████████████████████████████████████████████▎                           | 77/117 [18:28<09:01, 13.54s/it]"
     ]
    },
    {
     "name": "stdout",
     "output_type": "stream",
     "text": [
      "135\n"
     ]
    },
    {
     "name": "stderr",
     "output_type": "stream",
     "text": [
      " 67%|██████████████████████████████████████████████████████                           | 78/117 [18:43<09:10, 14.12s/it]"
     ]
    },
    {
     "name": "stdout",
     "output_type": "stream",
     "text": [
      "120\n"
     ]
    },
    {
     "name": "stderr",
     "output_type": "stream",
     "text": [
      " 68%|██████████████████████████████████████████████████████▋                          | 79/117 [18:57<08:49, 13.94s/it]"
     ]
    },
    {
     "name": "stdout",
     "output_type": "stream",
     "text": [
      "147\n"
     ]
    },
    {
     "name": "stderr",
     "output_type": "stream",
     "text": [
      " 68%|███████████████████████████████████████████████████████▍                         | 80/117 [19:13<09:02, 14.66s/it]"
     ]
    },
    {
     "name": "stdout",
     "output_type": "stream",
     "text": [
      "127\n"
     ]
    },
    {
     "name": "stderr",
     "output_type": "stream",
     "text": [
      " 69%|████████████████████████████████████████████████████████                         | 81/117 [19:27<08:41, 14.49s/it]"
     ]
    },
    {
     "name": "stdout",
     "output_type": "stream",
     "text": [
      "132\n"
     ]
    },
    {
     "name": "stderr",
     "output_type": "stream",
     "text": [
      " 70%|████████████████████████████████████████████████████████▊                        | 82/117 [19:42<08:24, 14.42s/it]"
     ]
    },
    {
     "name": "stdout",
     "output_type": "stream",
     "text": [
      "140\n"
     ]
    },
    {
     "name": "stderr",
     "output_type": "stream",
     "text": [
      " 71%|█████████████████████████████████████████████████████████▍                       | 83/117 [19:57<08:15, 14.58s/it]"
     ]
    },
    {
     "name": "stdout",
     "output_type": "stream",
     "text": [
      "141\n"
     ]
    },
    {
     "name": "stderr",
     "output_type": "stream",
     "text": [
      " 72%|██████████████████████████████████████████████████████████▏                      | 84/117 [20:12<08:10, 14.86s/it]"
     ]
    },
    {
     "name": "stdout",
     "output_type": "stream",
     "text": [
      "101\n"
     ]
    },
    {
     "name": "stderr",
     "output_type": "stream",
     "text": [
      " 73%|██████████████████████████████████████████████████████████▊                      | 85/117 [20:23<07:15, 13.60s/it]"
     ]
    },
    {
     "name": "stdout",
     "output_type": "stream",
     "text": [
      "121\n"
     ]
    },
    {
     "name": "stderr",
     "output_type": "stream",
     "text": [
      " 74%|███████████████████████████████████████████████████████████▌                     | 86/117 [20:36<06:55, 13.42s/it]"
     ]
    },
    {
     "name": "stdout",
     "output_type": "stream",
     "text": [
      "153\n"
     ]
    },
    {
     "name": "stderr",
     "output_type": "stream",
     "text": [
      " 74%|████████████████████████████████████████████████████████████▏                    | 87/117 [20:52<07:07, 14.26s/it]"
     ]
    },
    {
     "name": "stdout",
     "output_type": "stream",
     "text": [
      "126\n"
     ]
    },
    {
     "name": "stderr",
     "output_type": "stream",
     "text": [
      " 75%|████████████████████████████████████████████████████████████▉                    | 88/117 [21:06<06:48, 14.09s/it]"
     ]
    },
    {
     "name": "stdout",
     "output_type": "stream",
     "text": [
      "146\n"
     ]
    },
    {
     "name": "stderr",
     "output_type": "stream",
     "text": [
      " 76%|█████████████████████████████████████████████████████████████▌                   | 89/117 [21:22<06:56, 14.86s/it]"
     ]
    },
    {
     "name": "stdout",
     "output_type": "stream",
     "text": [
      "141\n"
     ]
    },
    {
     "name": "stderr",
     "output_type": "stream",
     "text": [
      " 77%|██████████████████████████████████████████████████████████████▎                  | 90/117 [21:38<06:50, 15.21s/it]"
     ]
    },
    {
     "name": "stdout",
     "output_type": "stream",
     "text": [
      "135\n"
     ]
    },
    {
     "name": "stderr",
     "output_type": "stream",
     "text": [
      " 78%|███████████████████████████████████████████████████████████████                  | 91/117 [21:54<06:38, 15.35s/it]"
     ]
    },
    {
     "name": "stdout",
     "output_type": "stream",
     "text": [
      "116\n"
     ]
    },
    {
     "name": "stderr",
     "output_type": "stream",
     "text": [
      " 79%|███████████████████████████████████████████████████████████████▋                 | 92/117 [22:06<06:00, 14.42s/it]"
     ]
    },
    {
     "name": "stdout",
     "output_type": "stream",
     "text": [
      "121\n"
     ]
    },
    {
     "name": "stderr",
     "output_type": "stream",
     "text": [
      " 79%|████████████████████████████████████████████████████████████████▍                | 93/117 [22:19<05:35, 13.97s/it]"
     ]
    },
    {
     "name": "stdout",
     "output_type": "stream",
     "text": [
      "145\n"
     ]
    },
    {
     "name": "stderr",
     "output_type": "stream",
     "text": [
      " 80%|█████████████████████████████████████████████████████████████████                | 94/117 [22:34<05:30, 14.35s/it]"
     ]
    },
    {
     "name": "stdout",
     "output_type": "stream",
     "text": [
      "124\n"
     ]
    },
    {
     "name": "stderr",
     "output_type": "stream",
     "text": [
      " 81%|█████████████████████████████████████████████████████████████████▊               | 95/117 [22:47<05:07, 13.97s/it]"
     ]
    },
    {
     "name": "stdout",
     "output_type": "stream",
     "text": [
      "136\n"
     ]
    },
    {
     "name": "stderr",
     "output_type": "stream",
     "text": [
      " 82%|██████████████████████████████████████████████████████████████████▍              | 96/117 [23:02<04:56, 14.11s/it]"
     ]
    },
    {
     "name": "stdout",
     "output_type": "stream",
     "text": [
      "106\n"
     ]
    },
    {
     "name": "stderr",
     "output_type": "stream",
     "text": [
      " 83%|███████████████████████████████████████████████████████████████████▏             | 97/117 [23:14<04:27, 13.37s/it]"
     ]
    },
    {
     "name": "stdout",
     "output_type": "stream",
     "text": [
      "128\n"
     ]
    },
    {
     "name": "stderr",
     "output_type": "stream",
     "text": [
      " 84%|███████████████████████████████████████████████████████████████████▊             | 98/117 [23:27<04:16, 13.51s/it]"
     ]
    },
    {
     "name": "stdout",
     "output_type": "stream",
     "text": [
      "130\n"
     ]
    },
    {
     "name": "stderr",
     "output_type": "stream",
     "text": [
      " 85%|████████████████████████████████████████████████████████████████████▌            | 99/117 [23:41<04:05, 13.66s/it]"
     ]
    },
    {
     "name": "stdout",
     "output_type": "stream",
     "text": [
      "122\n"
     ]
    },
    {
     "name": "stderr",
     "output_type": "stream",
     "text": [
      " 85%|████████████████████████████████████████████████████████████████████▍           | 100/117 [23:55<03:53, 13.71s/it]"
     ]
    },
    {
     "name": "stdout",
     "output_type": "stream",
     "text": [
      "138\n"
     ]
    },
    {
     "name": "stderr",
     "output_type": "stream",
     "text": [
      " 86%|█████████████████████████████████████████████████████████████████████           | 101/117 [24:10<03:44, 14.00s/it]"
     ]
    },
    {
     "name": "stdout",
     "output_type": "stream",
     "text": [
      "141\n"
     ]
    },
    {
     "name": "stderr",
     "output_type": "stream",
     "text": [
      " 87%|█████████████████████████████████████████████████████████████████████▋          | 102/117 [24:25<03:34, 14.28s/it]"
     ]
    },
    {
     "name": "stdout",
     "output_type": "stream",
     "text": [
      "149\n"
     ]
    },
    {
     "name": "stderr",
     "output_type": "stream",
     "text": [
      " 88%|██████████████████████████████████████████████████████████████████████▍         | 103/117 [24:41<03:29, 14.95s/it]"
     ]
    },
    {
     "name": "stdout",
     "output_type": "stream",
     "text": [
      "133\n"
     ]
    },
    {
     "name": "stderr",
     "output_type": "stream",
     "text": [
      " 89%|███████████████████████████████████████████████████████████████████████         | 104/117 [24:57<03:16, 15.10s/it]"
     ]
    },
    {
     "name": "stdout",
     "output_type": "stream",
     "text": [
      "141\n"
     ]
    },
    {
     "name": "stderr",
     "output_type": "stream",
     "text": [
      " 90%|███████████████████████████████████████████████████████████████████████▊        | 105/117 [25:12<03:02, 15.20s/it]"
     ]
    },
    {
     "name": "stdout",
     "output_type": "stream",
     "text": [
      "128\n"
     ]
    },
    {
     "name": "stderr",
     "output_type": "stream",
     "text": [
      " 91%|████████████████████████████████████████████████████████████████████████▍       | 106/117 [25:26<02:42, 14.81s/it]"
     ]
    },
    {
     "name": "stdout",
     "output_type": "stream",
     "text": [
      "131\n"
     ]
    },
    {
     "name": "stderr",
     "output_type": "stream",
     "text": [
      " 91%|█████████████████████████████████████████████████████████████████████████▏      | 107/117 [25:40<02:25, 14.57s/it]"
     ]
    },
    {
     "name": "stdout",
     "output_type": "stream",
     "text": [
      "118\n"
     ]
    },
    {
     "name": "stderr",
     "output_type": "stream",
     "text": [
      " 92%|█████████████████████████████████████████████████████████████████████████▊      | 108/117 [25:53<02:06, 14.01s/it]"
     ]
    },
    {
     "name": "stdout",
     "output_type": "stream",
     "text": [
      "147\n"
     ]
    },
    {
     "name": "stderr",
     "output_type": "stream",
     "text": [
      " 93%|██████████████████████████████████████████████████████████████████████████▌     | 109/117 [26:09<01:56, 14.57s/it]"
     ]
    },
    {
     "name": "stdout",
     "output_type": "stream",
     "text": [
      "137\n"
     ]
    },
    {
     "name": "stderr",
     "output_type": "stream",
     "text": [
      " 94%|███████████████████████████████████████████████████████████████████████████▏    | 110/117 [26:24<01:43, 14.75s/it]"
     ]
    },
    {
     "name": "stdout",
     "output_type": "stream",
     "text": [
      "124\n"
     ]
    },
    {
     "name": "stderr",
     "output_type": "stream",
     "text": [
      " 95%|███████████████████████████████████████████████████████████████████████████▉    | 111/117 [26:37<01:26, 14.40s/it]"
     ]
    },
    {
     "name": "stdout",
     "output_type": "stream",
     "text": [
      "125\n"
     ]
    },
    {
     "name": "stderr",
     "output_type": "stream",
     "text": [
      " 96%|████████████████████████████████████████████████████████████████████████████▌   | 112/117 [26:51<01:10, 14.15s/it]"
     ]
    },
    {
     "name": "stdout",
     "output_type": "stream",
     "text": [
      "138\n"
     ]
    },
    {
     "name": "stderr",
     "output_type": "stream",
     "text": [
      " 97%|█████████████████████████████████████████████████████████████████████████████▎  | 113/117 [27:06<00:57, 14.30s/it]"
     ]
    },
    {
     "name": "stdout",
     "output_type": "stream",
     "text": [
      "122\n"
     ]
    },
    {
     "name": "stderr",
     "output_type": "stream",
     "text": [
      " 97%|█████████████████████████████████████████████████████████████████████████████▉  | 114/117 [27:18<00:41, 13.86s/it]"
     ]
    },
    {
     "name": "stdout",
     "output_type": "stream",
     "text": [
      "124\n"
     ]
    },
    {
     "name": "stderr",
     "output_type": "stream",
     "text": [
      " 98%|██████████████████████████████████████████████████████████████████████████████▋ | 115/117 [27:32<00:27, 13.62s/it]"
     ]
    },
    {
     "name": "stdout",
     "output_type": "stream",
     "text": [
      "135\n"
     ]
    },
    {
     "name": "stderr",
     "output_type": "stream",
     "text": [
      " 99%|███████████████████████████████████████████████████████████████████████████████▎| 116/117 [27:46<00:13, 13.81s/it]"
     ]
    },
    {
     "name": "stdout",
     "output_type": "stream",
     "text": [
      "141\n"
     ]
    },
    {
     "name": "stderr",
     "output_type": "stream",
     "text": [
      "100%|████████████████████████████████████████████████████████████████████████████████| 117/117 [28:01<00:00, 14.18s/it]\n"
     ]
    },
    {
     "name": "stdout",
     "output_type": "stream",
     "text": [
      "117 117\n"
     ]
    }
   ],
   "source": [
    "y_pred_raw = []\n",
    "y_preds = []\n",
    "\n",
    "for path in tqdm(TEST_IMAGES_PATHS[:]):\n",
    "    img = np.load(path)\n",
    "    y_p = []\n",
    "    print(img.shape[-1])\n",
    "    count = img.shape[-1]\n",
    "    for i in range(count):\n",
    "        inp = img[:,:,i]\n",
    "        inp = H.normalize(inp)\n",
    "        inp = to_rgb(inp)\n",
    "        inp = np.expand_dims(inp, axis=0)\n",
    "        # Predict\n",
    "        y = model.predict(inp)\n",
    "        # Append preds of all slice to list\n",
    "        y_p.append(y[0][1])\n",
    "        #y_p.append(np.argmax(y))\n",
    "        \n",
    "    # Predict final volume\n",
    "    #if 1 in y_p:\n",
    "     #   y_preds.append(1)\n",
    "    #else:\n",
    "     #   y_preds.append(0)\n",
    "    y_pred_raw.append(y_p)    \n",
    "    y_p = np.mean(np.array(y_p))\n",
    "    y_preds.append(y_p)\n",
    "    \n",
    "print(len(y_preds), len(y_pred_raw))"
   ]
  },
  {
   "cell_type": "code",
   "execution_count": 33,
   "metadata": {},
   "outputs": [
    {
     "data": {
      "text/plain": [
       "[0.41787025,\n",
       " 0.4252903,\n",
       " 0.43017876,\n",
       " 0.4323163,\n",
       " 0.41291162,\n",
       " 0.41744927,\n",
       " 0.45139742,\n",
       " 0.41308975,\n",
       " 0.41595933,\n",
       " 0.40730506,\n",
       " 0.41329226,\n",
       " 0.4444508,\n",
       " 0.41877776,\n",
       " 0.40848035,\n",
       " 0.42276597,\n",
       " 0.43789637,\n",
       " 0.44272572,\n",
       " 0.39987358,\n",
       " 0.47942454,\n",
       " 0.41367555,\n",
       " 0.3996277,\n",
       " 0.47367898,\n",
       " 0.40731412,\n",
       " 0.41448918,\n",
       " 0.41092008,\n",
       " 0.40113524,\n",
       " 0.40914515,\n",
       " 0.42032102,\n",
       " 0.42926002,\n",
       " 0.42459947,\n",
       " 0.44217893,\n",
       " 0.41869676,\n",
       " 0.4086195,\n",
       " 0.4295692,\n",
       " 0.43121397,\n",
       " 0.42034563,\n",
       " 0.4308994,\n",
       " 0.4196402,\n",
       " 0.41728178,\n",
       " 0.41219577,\n",
       " 0.45318797,\n",
       " 0.4068514,\n",
       " 0.41817456,\n",
       " 0.403696,\n",
       " 0.41844663,\n",
       " 0.4399066,\n",
       " 0.4308789,\n",
       " 0.41179746,\n",
       " 0.42628118,\n",
       " 0.43351772,\n",
       " 0.412811,\n",
       " 0.42466578,\n",
       " 0.42696524,\n",
       " 0.41640672,\n",
       " 0.41678596,\n",
       " 0.4163899,\n",
       " 0.39701557,\n",
       " 0.4084847,\n",
       " 0.42600814,\n",
       " 0.42683613,\n",
       " 0.42477974,\n",
       " 0.44882855,\n",
       " 0.41707358,\n",
       " 0.4225166,\n",
       " 0.41697255,\n",
       " 0.5023778,\n",
       " 0.4116076,\n",
       " 0.43258175,\n",
       " 0.41034538,\n",
       " 0.4045229,\n",
       " 0.41402742,\n",
       " 0.41776893,\n",
       " 0.41837737,\n",
       " 0.41480446,\n",
       " 0.40977374,\n",
       " 0.41719094,\n",
       " 0.4075355,\n",
       " 0.42362264,\n",
       " 0.50649923,\n",
       " 0.41375306,\n",
       " 0.42560482,\n",
       " 0.45537388,\n",
       " 0.4448397,\n",
       " 0.42905155,\n",
       " 0.41585568,\n",
       " 0.43574753,\n",
       " 0.41716874,\n",
       " 0.422337,\n",
       " 0.40821266,\n",
       " 0.4198662,\n",
       " 0.4576697,\n",
       " 0.42362076,\n",
       " 0.42421508,\n",
       " 0.43454185,\n",
       " 0.41023108,\n",
       " 0.42280918,\n",
       " 0.44785792,\n",
       " 0.42870104,\n",
       " 0.42383745,\n",
       " 0.4202149,\n",
       " 0.40662023,\n",
       " 0.40641102,\n",
       " 0.4057879,\n",
       " 0.46658334,\n",
       " 0.41838306,\n",
       " 0.4435376,\n",
       " 0.41379973,\n",
       " 0.42240486,\n",
       " 0.4216084,\n",
       " 0.4009952,\n",
       " 0.4155568,\n",
       " 0.43633574,\n",
       " 0.4228102,\n",
       " 0.40750262,\n",
       " 0.4022197,\n",
       " 0.40496367,\n",
       " 0.4445963]"
      ]
     },
     "execution_count": 33,
     "metadata": {},
     "output_type": "execute_result"
    }
   ],
   "source": [
    "y_preds"
   ]
  },
  {
   "cell_type": "code",
   "execution_count": 34,
   "metadata": {},
   "outputs": [
    {
     "data": {
      "text/html": [
       "<div>\n",
       "<style scoped>\n",
       "    .dataframe tbody tr th:only-of-type {\n",
       "        vertical-align: middle;\n",
       "    }\n",
       "\n",
       "    .dataframe tbody tr th {\n",
       "        vertical-align: top;\n",
       "    }\n",
       "\n",
       "    .dataframe thead th {\n",
       "        text-align: right;\n",
       "    }\n",
       "</style>\n",
       "<table border=\"1\" class=\"dataframe\">\n",
       "  <thead>\n",
       "    <tr style=\"text-align: right;\">\n",
       "      <th></th>\n",
       "      <th>Filename</th>\n",
       "      <th>md_Disability</th>\n",
       "      <th>md_Relapse</th>\n",
       "      <th>md_SymptomsOfTB</th>\n",
       "      <th>md_Comorbidity</th>\n",
       "      <th>md_Bacillary</th>\n",
       "      <th>md_DrugResistance</th>\n",
       "      <th>md_HigherEducation</th>\n",
       "      <th>md_ExPrisoner</th>\n",
       "      <th>md_Alcoholic</th>\n",
       "      <th>md_Smoking</th>\n",
       "    </tr>\n",
       "  </thead>\n",
       "  <tbody>\n",
       "    <tr>\n",
       "      <th>0</th>\n",
       "      <td>CTR_TST_001.nii.gz</td>\n",
       "      <td>0</td>\n",
       "      <td>1</td>\n",
       "      <td>1</td>\n",
       "      <td>1</td>\n",
       "      <td>0</td>\n",
       "      <td>0</td>\n",
       "      <td>1</td>\n",
       "      <td>0</td>\n",
       "      <td>0</td>\n",
       "      <td>0</td>\n",
       "    </tr>\n",
       "    <tr>\n",
       "      <th>1</th>\n",
       "      <td>CTR_TST_002.nii.gz</td>\n",
       "      <td>0</td>\n",
       "      <td>1</td>\n",
       "      <td>0</td>\n",
       "      <td>0</td>\n",
       "      <td>1</td>\n",
       "      <td>4</td>\n",
       "      <td>0</td>\n",
       "      <td>0</td>\n",
       "      <td>0</td>\n",
       "      <td>1</td>\n",
       "    </tr>\n",
       "    <tr>\n",
       "      <th>2</th>\n",
       "      <td>CTR_TST_003.nii.gz</td>\n",
       "      <td>0</td>\n",
       "      <td>0</td>\n",
       "      <td>0</td>\n",
       "      <td>0</td>\n",
       "      <td>1</td>\n",
       "      <td>3</td>\n",
       "      <td>0</td>\n",
       "      <td>0</td>\n",
       "      <td>0</td>\n",
       "      <td>1</td>\n",
       "    </tr>\n",
       "    <tr>\n",
       "      <th>3</th>\n",
       "      <td>CTR_TST_004.nii.gz</td>\n",
       "      <td>0</td>\n",
       "      <td>1</td>\n",
       "      <td>1</td>\n",
       "      <td>0</td>\n",
       "      <td>0</td>\n",
       "      <td>0</td>\n",
       "      <td>0</td>\n",
       "      <td>0</td>\n",
       "      <td>1</td>\n",
       "      <td>1</td>\n",
       "    </tr>\n",
       "    <tr>\n",
       "      <th>4</th>\n",
       "      <td>CTR_TST_005.nii.gz</td>\n",
       "      <td>1</td>\n",
       "      <td>1</td>\n",
       "      <td>0</td>\n",
       "      <td>0</td>\n",
       "      <td>1</td>\n",
       "      <td>3</td>\n",
       "      <td>0</td>\n",
       "      <td>0</td>\n",
       "      <td>0</td>\n",
       "      <td>1</td>\n",
       "    </tr>\n",
       "  </tbody>\n",
       "</table>\n",
       "</div>"
      ],
      "text/plain": [
       "             Filename  md_Disability  md_Relapse  md_SymptomsOfTB  \\\n",
       "0  CTR_TST_001.nii.gz              0           1                1   \n",
       "1  CTR_TST_002.nii.gz              0           1                0   \n",
       "2  CTR_TST_003.nii.gz              0           0                0   \n",
       "3  CTR_TST_004.nii.gz              0           1                1   \n",
       "4  CTR_TST_005.nii.gz              1           1                0   \n",
       "\n",
       "   md_Comorbidity  md_Bacillary  md_DrugResistance  md_HigherEducation  \\\n",
       "0               1             0                  0                   1   \n",
       "1               0             1                  4                   0   \n",
       "2               0             1                  3                   0   \n",
       "3               0             0                  0                   0   \n",
       "4               0             1                  3                   0   \n",
       "\n",
       "   md_ExPrisoner  md_Alcoholic  md_Smoking  \n",
       "0              0             0           0  \n",
       "1              0             0           1  \n",
       "2              0             0           1  \n",
       "3              0             1           1  \n",
       "4              0             0           1  "
      ]
     },
     "execution_count": 34,
     "metadata": {},
     "output_type": "execute_result"
    }
   ],
   "source": [
    "import pandas as pd\n",
    "dt = pd.read_csv('TestSet_metaData.csv')\n",
    "dt.head()"
   ]
  },
  {
   "cell_type": "code",
   "execution_count": 35,
   "metadata": {},
   "outputs": [
    {
     "data": {
      "text/plain": [
       "117"
      ]
     },
     "execution_count": 35,
     "metadata": {},
     "output_type": "execute_result"
    }
   ],
   "source": [
    "patient_names = dt['Filename'].values\n",
    "len(patient_names)"
   ]
  },
  {
   "cell_type": "code",
   "execution_count": 36,
   "metadata": {},
   "outputs": [
    {
     "data": {
      "text/plain": [
       "['CTR_TST_001', 'CTR_TST_002', 'CTR_TST_003']"
      ]
     },
     "execution_count": 36,
     "metadata": {},
     "output_type": "execute_result"
    }
   ],
   "source": [
    "names = []\n",
    "\n",
    "for name in patient_names:\n",
    "    names.append(name[:-7])\n",
    "names[:3]"
   ]
  },
  {
   "cell_type": "code",
   "execution_count": 37,
   "metadata": {},
   "outputs": [
    {
     "data": {
      "text/plain": [
       "(117, 117)"
      ]
     },
     "execution_count": 37,
     "metadata": {},
     "output_type": "execute_result"
    }
   ],
   "source": [
    "len(y_preds), len(names)"
   ]
  },
  {
   "cell_type": "code",
   "execution_count": 38,
   "metadata": {},
   "outputs": [
    {
     "name": "stdout",
     "output_type": "stream",
     "text": [
      "CTR_TST_001 0.41787025\n",
      "CTR_TST_002 0.4252903\n",
      "CTR_TST_003 0.43017876\n",
      "CTR_TST_004 0.4323163\n",
      "CTR_TST_005 0.41291162\n",
      "CTR_TST_006 0.41744927\n",
      "CTR_TST_007 0.45139742\n",
      "CTR_TST_008 0.41308975\n",
      "CTR_TST_009 0.41595933\n",
      "CTR_TST_010 0.40730506\n",
      "CTR_TST_011 0.41329226\n",
      "CTR_TST_012 0.4444508\n",
      "CTR_TST_013 0.41877776\n",
      "CTR_TST_014 0.40848035\n",
      "CTR_TST_015 0.42276597\n",
      "CTR_TST_016 0.43789637\n",
      "CTR_TST_017 0.44272572\n",
      "CTR_TST_018 0.39987358\n",
      "CTR_TST_019 0.47942454\n",
      "CTR_TST_020 0.41367555\n",
      "CTR_TST_021 0.3996277\n",
      "CTR_TST_022 0.47367898\n",
      "CTR_TST_023 0.40731412\n",
      "CTR_TST_024 0.41448918\n",
      "CTR_TST_025 0.41092008\n",
      "CTR_TST_026 0.40113524\n",
      "CTR_TST_027 0.40914515\n",
      "CTR_TST_028 0.42032102\n",
      "CTR_TST_029 0.42926002\n",
      "CTR_TST_030 0.42459947\n",
      "CTR_TST_031 0.44217893\n",
      "CTR_TST_032 0.41869676\n",
      "CTR_TST_033 0.4086195\n",
      "CTR_TST_034 0.4295692\n",
      "CTR_TST_035 0.43121397\n",
      "CTR_TST_036 0.42034563\n",
      "CTR_TST_037 0.4308994\n",
      "CTR_TST_038 0.4196402\n",
      "CTR_TST_039 0.41728178\n",
      "CTR_TST_040 0.41219577\n",
      "CTR_TST_041 0.45318797\n",
      "CTR_TST_042 0.4068514\n",
      "CTR_TST_043 0.41817456\n",
      "CTR_TST_044 0.403696\n",
      "CTR_TST_045 0.41844663\n",
      "CTR_TST_046 0.4399066\n",
      "CTR_TST_047 0.4308789\n",
      "CTR_TST_048 0.41179746\n",
      "CTR_TST_049 0.42628118\n",
      "CTR_TST_050 0.43351772\n",
      "CTR_TST_051 0.412811\n",
      "CTR_TST_052 0.42466578\n",
      "CTR_TST_053 0.42696524\n",
      "CTR_TST_054 0.41640672\n",
      "CTR_TST_055 0.41678596\n",
      "CTR_TST_056 0.4163899\n",
      "CTR_TST_057 0.39701557\n",
      "CTR_TST_058 0.4084847\n",
      "CTR_TST_059 0.42600814\n",
      "CTR_TST_060 0.42683613\n",
      "CTR_TST_061 0.42477974\n",
      "CTR_TST_062 0.44882855\n",
      "CTR_TST_063 0.41707358\n",
      "CTR_TST_064 0.4225166\n",
      "CTR_TST_065 0.41697255\n",
      "CTR_TST_066 0.5023778\n",
      "CTR_TST_067 0.4116076\n",
      "CTR_TST_068 0.43258175\n",
      "CTR_TST_069 0.41034538\n",
      "CTR_TST_070 0.4045229\n",
      "CTR_TST_071 0.41402742\n",
      "CTR_TST_072 0.41776893\n",
      "CTR_TST_073 0.41837737\n",
      "CTR_TST_074 0.41480446\n",
      "CTR_TST_075 0.40977374\n",
      "CTR_TST_076 0.41719094\n",
      "CTR_TST_077 0.4075355\n",
      "CTR_TST_078 0.42362264\n",
      "CTR_TST_079 0.50649923\n",
      "CTR_TST_080 0.41375306\n",
      "CTR_TST_081 0.42560482\n",
      "CTR_TST_082 0.45537388\n",
      "CTR_TST_083 0.4448397\n",
      "CTR_TST_084 0.42905155\n",
      "CTR_TST_085 0.41585568\n",
      "CTR_TST_086 0.43574753\n",
      "CTR_TST_087 0.41716874\n",
      "CTR_TST_088 0.422337\n",
      "CTR_TST_089 0.40821266\n",
      "CTR_TST_090 0.4198662\n",
      "CTR_TST_091 0.4576697\n",
      "CTR_TST_092 0.42362076\n",
      "CTR_TST_093 0.42421508\n",
      "CTR_TST_094 0.43454185\n",
      "CTR_TST_095 0.41023108\n",
      "CTR_TST_096 0.42280918\n",
      "CTR_TST_097 0.44785792\n",
      "CTR_TST_098 0.42870104\n",
      "CTR_TST_099 0.42383745\n",
      "CTR_TST_100 0.4202149\n",
      "CTR_TST_101 0.40662023\n",
      "CTR_TST_102 0.40641102\n",
      "CTR_TST_103 0.4057879\n",
      "CTR_TST_104 0.46658334\n",
      "CTR_TST_105 0.41838306\n",
      "CTR_TST_106 0.4435376\n",
      "CTR_TST_107 0.41379973\n",
      "CTR_TST_108 0.42240486\n",
      "CTR_TST_109 0.4216084\n",
      "CTR_TST_110 0.4009952\n",
      "CTR_TST_111 0.4155568\n",
      "CTR_TST_112 0.43633574\n",
      "CTR_TST_113 0.4228102\n",
      "CTR_TST_114 0.40750262\n",
      "CTR_TST_115 0.4022197\n",
      "CTR_TST_116 0.40496367\n",
      "CTR_TST_117 0.4445963\n"
     ]
    }
   ],
   "source": [
    "for n, p in zip(names, y_preds):\n",
    "    print(n, p)"
   ]
  },
  {
   "cell_type": "code",
   "execution_count": 40,
   "metadata": {},
   "outputs": [
    {
     "name": "stdout",
     "output_type": "stream",
     "text": [
      "CTR_TST_001 , 0.41787025\n",
      "CTR_TST_002 , 0.4252903\n",
      "CTR_TST_003 , 0.43017876\n",
      "CTR_TST_004 , 0.4323163\n",
      "CTR_TST_005 , 0.41291162\n",
      "CTR_TST_006 , 0.41744927\n",
      "CTR_TST_007 , 0.45139742\n",
      "CTR_TST_008 , 0.41308975\n",
      "CTR_TST_009 , 0.41595933\n",
      "CTR_TST_010 , 0.40730506\n",
      "CTR_TST_011 , 0.41329226\n",
      "CTR_TST_012 , 0.4444508\n",
      "CTR_TST_013 , 0.41877776\n",
      "CTR_TST_014 , 0.40848035\n",
      "CTR_TST_015 , 0.42276597\n",
      "CTR_TST_016 , 0.43789637\n",
      "CTR_TST_017 , 0.44272572\n",
      "CTR_TST_018 , 0.39987358\n",
      "CTR_TST_019 , 0.47942454\n",
      "CTR_TST_020 , 0.41367555\n",
      "CTR_TST_021 , 0.3996277\n",
      "CTR_TST_022 , 0.47367898\n",
      "CTR_TST_023 , 0.40731412\n",
      "CTR_TST_024 , 0.41448918\n",
      "CTR_TST_025 , 0.41092008\n",
      "CTR_TST_026 , 0.40113524\n",
      "CTR_TST_027 , 0.40914515\n",
      "CTR_TST_028 , 0.42032102\n",
      "CTR_TST_029 , 0.42926002\n",
      "CTR_TST_030 , 0.42459947\n",
      "CTR_TST_031 , 0.44217893\n",
      "CTR_TST_032 , 0.41869676\n",
      "CTR_TST_033 , 0.4086195\n",
      "CTR_TST_034 , 0.4295692\n",
      "CTR_TST_035 , 0.43121397\n",
      "CTR_TST_036 , 0.42034563\n",
      "CTR_TST_037 , 0.4308994\n",
      "CTR_TST_038 , 0.4196402\n",
      "CTR_TST_039 , 0.41728178\n",
      "CTR_TST_040 , 0.41219577\n",
      "CTR_TST_041 , 0.45318797\n",
      "CTR_TST_042 , 0.4068514\n",
      "CTR_TST_043 , 0.41817456\n",
      "CTR_TST_044 , 0.403696\n",
      "CTR_TST_045 , 0.41844663\n",
      "CTR_TST_046 , 0.4399066\n",
      "CTR_TST_047 , 0.4308789\n",
      "CTR_TST_048 , 0.41179746\n",
      "CTR_TST_049 , 0.42628118\n",
      "CTR_TST_050 , 0.43351772\n",
      "CTR_TST_051 , 0.412811\n",
      "CTR_TST_052 , 0.42466578\n",
      "CTR_TST_053 , 0.42696524\n",
      "CTR_TST_054 , 0.41640672\n",
      "CTR_TST_055 , 0.41678596\n",
      "CTR_TST_056 , 0.4163899\n",
      "CTR_TST_057 , 0.39701557\n",
      "CTR_TST_058 , 0.4084847\n",
      "CTR_TST_059 , 0.42600814\n",
      "CTR_TST_060 , 0.42683613\n",
      "CTR_TST_061 , 0.42477974\n",
      "CTR_TST_062 , 0.44882855\n",
      "CTR_TST_063 , 0.41707358\n",
      "CTR_TST_064 , 0.4225166\n",
      "CTR_TST_065 , 0.41697255\n",
      "CTR_TST_066 , 0.5023778\n",
      "CTR_TST_067 , 0.4116076\n",
      "CTR_TST_068 , 0.43258175\n",
      "CTR_TST_069 , 0.41034538\n",
      "CTR_TST_070 , 0.4045229\n",
      "CTR_TST_071 , 0.41402742\n",
      "CTR_TST_072 , 0.41776893\n",
      "CTR_TST_073 , 0.41837737\n",
      "CTR_TST_074 , 0.41480446\n",
      "CTR_TST_075 , 0.40977374\n",
      "CTR_TST_076 , 0.41719094\n",
      "CTR_TST_077 , 0.4075355\n",
      "CTR_TST_078 , 0.42362264\n",
      "CTR_TST_079 , 0.50649923\n",
      "CTR_TST_080 , 0.41375306\n",
      "CTR_TST_081 , 0.42560482\n",
      "CTR_TST_082 , 0.45537388\n",
      "CTR_TST_083 , 0.4448397\n",
      "CTR_TST_084 , 0.42905155\n",
      "CTR_TST_085 , 0.41585568\n",
      "CTR_TST_086 , 0.43574753\n",
      "CTR_TST_087 , 0.41716874\n",
      "CTR_TST_088 , 0.422337\n",
      "CTR_TST_089 , 0.40821266\n",
      "CTR_TST_090 , 0.4198662\n",
      "CTR_TST_091 , 0.4576697\n",
      "CTR_TST_092 , 0.42362076\n",
      "CTR_TST_093 , 0.42421508\n",
      "CTR_TST_094 , 0.43454185\n",
      "CTR_TST_095 , 0.41023108\n",
      "CTR_TST_096 , 0.42280918\n",
      "CTR_TST_097 , 0.44785792\n",
      "CTR_TST_098 , 0.42870104\n",
      "CTR_TST_099 , 0.42383745\n",
      "CTR_TST_100 , 0.4202149\n",
      "CTR_TST_101 , 0.40662023\n",
      "CTR_TST_102 , 0.40641102\n",
      "CTR_TST_103 , 0.4057879\n",
      "CTR_TST_104 , 0.46658334\n",
      "CTR_TST_105 , 0.41838306\n",
      "CTR_TST_106 , 0.4435376\n",
      "CTR_TST_107 , 0.41379973\n",
      "CTR_TST_108 , 0.42240486\n",
      "CTR_TST_109 , 0.4216084\n",
      "CTR_TST_110 , 0.4009952\n",
      "CTR_TST_111 , 0.4155568\n",
      "CTR_TST_112 , 0.43633574\n",
      "CTR_TST_113 , 0.4228102\n",
      "CTR_TST_114 , 0.40750262\n",
      "CTR_TST_115 , 0.4022197\n",
      "CTR_TST_116 , 0.40496367\n",
      "CTR_TST_117 , 0.4445963\n"
     ]
    }
   ],
   "source": [
    "with open('ecir_2D_result.txt', 'w') as f:\n",
    "    for n, p in zip(names, y_preds):\n",
    "        print(n,\",\", p)\n",
    "        f.write(str(n))\n",
    "        f.write(\",\")\n",
    "        f.write(str(p))\n",
    "        f.write(\"\\n\")\n",
    "        \n",
    "f.close()\n"
   ]
  },
  {
   "cell_type": "code",
   "execution_count": null,
   "metadata": {},
   "outputs": [],
   "source": []
  },
  {
   "cell_type": "code",
   "execution_count": null,
   "metadata": {},
   "outputs": [],
   "source": []
  }
 ],
 "metadata": {
  "kernelspec": {
   "display_name": "Python 3",
   "language": "python",
   "name": "python3"
  },
  "language_info": {
   "codemirror_mode": {
    "name": "ipython",
    "version": 3
   },
   "file_extension": ".py",
   "mimetype": "text/x-python",
   "name": "python",
   "nbconvert_exporter": "python",
   "pygments_lexer": "ipython3",
   "version": "3.6.8"
  }
 },
 "nbformat": 4,
 "nbformat_minor": 2
}
