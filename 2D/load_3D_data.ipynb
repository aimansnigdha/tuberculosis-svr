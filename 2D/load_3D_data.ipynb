{
 "cells": [
  {
   "cell_type": "markdown",
   "metadata": {},
   "source": [
    "### Load 3D data, preprocess and save as numpy array"
   ]
  },
  {
   "cell_type": "code",
   "execution_count": 1,
   "metadata": {},
   "outputs": [
    {
     "name": "stdout",
     "output_type": "stream",
     "text": [
      "218\n"
     ]
    }
   ],
   "source": [
    "import os, glob\n",
    "import cv2\n",
    "import numpy as np\n",
    "import matplotlib.pyplot as plt\n",
    "import h5py\n",
    "import helpers as H\n",
    "from tqdm import tqdm\n",
    "\n",
    "#Root directory of the project\n",
    "ROOT_DIR = os.path.abspath(\".\")\n",
    "TRAIN_DATASET_PATH = os.path.join(ROOT_DIR, \"dataset\")\n",
    "train_data_paths = os.listdir(os.path.join(TRAIN_DATASET_PATH, \"img_datas_1\"))\n",
    "print(len(train_data_paths))\n"
   ]
  },
  {
   "cell_type": "code",
   "execution_count": 2,
   "metadata": {},
   "outputs": [],
   "source": [
    "def dir_test(path):\n",
    "    return len(os.listdir(path))\n",
    "\n",
    "w, h = 128, 128\n",
    "def rs_img(img):\n",
    "    '''W and H is 128 now\n",
    "    '''\n",
    "    flatten = [H.normalize(cv2.resize(img[:,:,i], (w, h), interpolation=cv2.INTER_CUBIC)) for i in range(img.shape[-1])]\n",
    "    img = np.array(np.dstack(flatten)) \n",
    "    return img\n",
    "\n",
    "def change_depth(img):\n",
    "    '''Depth is 32 now\n",
    "    '''\n",
    "    img_start = img[:,:,:8]\n",
    "    \n",
    "    mid = int(img.shape[-1]/2)\n",
    "    img_middle = img[:,:,mid-8:mid+8]\n",
    "    \n",
    "    img_end = img[:,:,-8:]\n",
    "    img = np.concatenate((img_start, img_middle, img_end), axis=2)\n",
    "    return img\n",
    "\n",
    "def get_number(filename):\n",
    "    return int(filename[:filename.find('.')])\n",
    "\n",
    "def sort_paths(paths):\n",
    "    paths.sort(key = get_number)\n",
    "    return paths\n",
    "\n",
    "def load_numpy(path):\n",
    "    val = np.load(path)\n",
    "    print(val.shape)\n",
    "    return val\n",
    "\n",
    "def expand_dims(val):\n",
    "    val_exp = np.expand_dims(val, axis=4)\n",
    "    return val_exp\n",
    "\n",
    "def plot_slice(img, sl_num):\n",
    "    plt.imshow(img[:,:,sl_num])\n",
    "\n",
    "\n",
    "def to_3D(arr, resize_dim=None):\n",
    "    '''Stack 2D slice to add dummy 3-channel dimension'''\n",
    "    img = np.asarray(np.dstack((arr, arr, arr)), dtype=np.float64)\n",
    "    if resize_dim is not None:\n",
    "        img=cv2.resize(img,(resize_dim, resize_dim),interpolation=cv2.INTER_AREA)    \n",
    "    else:\n",
    "        pass\n",
    "    return img"
   ]
  },
  {
   "cell_type": "code",
   "execution_count": 3,
   "metadata": {},
   "outputs": [
    {
     "data": {
      "text/plain": [
       "['75.npy', '160.npy', '44.npy', '216.npy']"
      ]
     },
     "execution_count": 3,
     "metadata": {},
     "output_type": "execute_result"
    }
   ],
   "source": [
    "train_data_paths[:4]"
   ]
  },
  {
   "cell_type": "code",
   "execution_count": 4,
   "metadata": {},
   "outputs": [
    {
     "data": {
      "text/plain": [
       "['1.npy', '2.npy', '3.npy', '4.npy', '5.npy']"
      ]
     },
     "execution_count": 4,
     "metadata": {},
     "output_type": "execute_result"
    }
   ],
   "source": [
    "sort_paths(train_data_paths)[:5]"
   ]
  },
  {
   "cell_type": "code",
   "execution_count": 5,
   "metadata": {},
   "outputs": [
    {
     "data": {
      "text/plain": [
       "(218, 2)"
      ]
     },
     "execution_count": 5,
     "metadata": {},
     "output_type": "execute_result"
    }
   ],
   "source": [
    "y_train = np.load(\"y_train_clef.npy\")\n",
    "y_train.shape"
   ]
  },
  {
   "cell_type": "code",
   "execution_count": 6,
   "metadata": {},
   "outputs": [
    {
     "data": {
      "text/plain": [
       "(218,)"
      ]
     },
     "execution_count": 6,
     "metadata": {},
     "output_type": "execute_result"
    }
   ],
   "source": [
    "y_train_flat = np.array([np.argmax(x) for x in y_train])\n",
    "y_train_flat.shape"
   ]
  },
  {
   "cell_type": "code",
   "execution_count": 7,
   "metadata": {},
   "outputs": [
    {
     "data": {
      "text/plain": [
       "array([0, 0, 0, 0, 1, 0, 0, 1, 1, 0, 0, 1, 1, 0, 0, 1, 1, 0, 0, 0, 0, 0,\n",
       "       1, 0, 0, 1, 0, 1, 1, 0, 0, 1, 0, 1, 1, 0, 1, 1, 1, 0, 0, 1, 0, 0,\n",
       "       0, 0, 0, 0, 0, 1, 1, 0, 1, 0, 1, 1, 1, 0, 0, 1, 1, 1, 1, 1, 1, 0,\n",
       "       1, 1, 0, 1, 0, 0, 1, 0, 1, 1, 0, 1, 1, 0, 0, 0, 0, 0, 0, 0, 1, 0,\n",
       "       1, 0, 1, 1, 0, 1, 1, 1, 1, 0, 1, 1, 0, 0, 1, 0, 1, 0, 0, 1, 0, 0,\n",
       "       1, 1, 0, 0, 0, 1, 0, 1, 1, 0, 1, 1, 0, 1, 1, 0, 0, 1, 1, 1, 0, 0,\n",
       "       0, 0, 0, 1, 1, 1, 0, 1, 1, 0, 0, 0, 0, 0, 0, 0, 0, 1, 0, 0, 1, 1,\n",
       "       1, 0, 1, 1, 0, 1, 1, 0, 1, 1, 0, 0, 1, 1, 0, 0, 0, 1, 1, 1, 1, 1,\n",
       "       0, 1, 1, 0, 0, 0, 1, 1, 0, 0, 0, 0, 0, 1, 1, 1, 1, 1, 1, 1, 0, 0,\n",
       "       0, 1, 1, 0, 1, 0, 0, 1, 1, 1, 0, 0, 0, 1, 1, 0, 1, 1, 1, 0])"
      ]
     },
     "execution_count": 7,
     "metadata": {},
     "output_type": "execute_result"
    }
   ],
   "source": [
    "y_train_flat"
   ]
  },
  {
   "cell_type": "code",
   "execution_count": 8,
   "metadata": {},
   "outputs": [],
   "source": [
    "#x = cv2.imread(\"test.png\", 0)\n",
    "#x = x/255.0\n",
    "#x[250:252, 300:305]"
   ]
  },
  {
   "cell_type": "markdown",
   "metadata": {},
   "source": [
    "### Random data from raw dataset"
   ]
  },
  {
   "cell_type": "code",
   "execution_count": 9,
   "metadata": {},
   "outputs": [
    {
     "data": {
      "text/plain": [
       "(512, 512, 128)"
      ]
     },
     "execution_count": 9,
     "metadata": {},
     "output_type": "execute_result"
    }
   ],
   "source": [
    "img = np.load(\"{}/img_datas_1/{}\".format(TRAIN_DATASET_PATH, \"1.npy\"))\n",
    "img.shape"
   ]
  },
  {
   "cell_type": "code",
   "execution_count": 10,
   "metadata": {},
   "outputs": [
    {
     "data": {
      "text/plain": [
       "(512, 512, 128)"
      ]
     },
     "execution_count": 10,
     "metadata": {},
     "output_type": "execute_result"
    }
   ],
   "source": [
    "img = H.normalize(img)\n",
    "img.shape"
   ]
  },
  {
   "cell_type": "code",
   "execution_count": 11,
   "metadata": {},
   "outputs": [
    {
     "data": {
      "text/plain": [
       "<matplotlib.image.AxesImage at 0x7f8ddee1a128>"
      ]
     },
     "execution_count": 11,
     "metadata": {},
     "output_type": "execute_result"
    },
    {
     "data": {
      "image/png": "[encoded data removed]",
      "text/plain": [
       "<Figure size 432x288 with 1 Axes>"
      ]
     },
     "metadata": {
      "needs_background": "light"
     },
     "output_type": "display_data"
    }
   ],
   "source": [
    "plt.imshow(img[:,:,10], cmap='gray')"
   ]
  },
  {
   "cell_type": "code",
   "execution_count": 12,
   "metadata": {},
   "outputs": [
    {
     "name": "stdout",
     "output_type": "stream",
     "text": [
      "0.0 1.0\n"
     ]
    },
    {
     "data": {
      "image/png": "[encoded data removed]",
      "text/plain": [
       "<Figure size 432x288 with 1 Axes>"
      ]
     },
     "metadata": {
      "needs_background": "light"
     },
     "output_type": "display_data"
    }
   ],
   "source": [
    "img_flat = img.flatten()\n",
    "print(min(img_flat), max(img_flat))\n",
    "plt.hist(img_flat, bins=20, color='c')\n",
    "plt.title(\"After normalization\")\n",
    "plt.xlabel(\"Hounsfield Units (HU)\")\n",
    "plt.grid(True)\n",
    "plt.ylabel(\"Frequency\")\n",
    "plt.show()"
   ]
  },
  {
   "cell_type": "code",
   "execution_count": 13,
   "metadata": {},
   "outputs": [
    {
     "data": {
      "text/plain": [
       "'/home/hasib/ecir2020/2D/dataset/3D_images_normalized'"
      ]
     },
     "execution_count": 13,
     "metadata": {},
     "output_type": "execute_result"
    }
   ],
   "source": [
    "norm_path = os.path.join(TRAIN_DATASET_PATH, \"3D_images_normalized\")\n",
    "norm_path"
   ]
  },
  {
   "cell_type": "code",
   "execution_count": 14,
   "metadata": {},
   "outputs": [],
   "source": [
    "H.create_directory(os.path.join(norm_path))"
   ]
  },
  {
   "cell_type": "code",
   "execution_count": 15,
   "metadata": {},
   "outputs": [
    {
     "name": "stdout",
     "output_type": "stream",
     "text": [
      "1 -- 1.npy ----- (128, 128, 128) ------- (128, 128, 32)\n",
      "2 -- 2.npy ----- (128, 128, 122) ------- (128, 128, 32)\n",
      "3 -- 3.npy ----- (128, 128, 113) ------- (128, 128, 32)\n",
      "4 -- 4.npy ----- (128, 128, 120) ------- (128, 128, 32)\n",
      "5 -- 5.npy ----- (128, 128, 116) ------- (128, 128, 32)\n",
      "6 -- 6.npy ----- (128, 128, 131) ------- (128, 128, 32)\n",
      "7 -- 7.npy ----- (128, 128, 123) ------- (128, 128, 32)\n",
      "8 -- 8.npy ----- (128, 128, 132) ------- (128, 128, 32)\n",
      "9 -- 9.npy ----- (128, 128, 144) ------- (128, 128, 32)\n",
      "10 -- 10.npy ----- (128, 128, 131) ------- (128, 128, 32)\n",
      "Done\n"
     ]
    }
   ],
   "source": [
    "c = 0\n",
    "for path in train_data_paths[:10]:\n",
    "    \n",
    "    # Load data\n",
    "    img = np.load(TRAIN_DATASET_PATH + \"{}/{}\".format(\"/img_datas_1/\", path))\n",
    "    \n",
    "    # Resize w, h and normalize\n",
    "    img = rs_img(img)\n",
    "    \n",
    "    # Resize depth\n",
    "    img_rs = change_depth(img)\n",
    "    \n",
    "    c+=1\n",
    "    print(c, \"--\", path, \"-----\", img.shape, \"-------\", img_rs.shape)\n",
    "    # Save\n",
    "    np.save(norm_path + \"/{}.npy\".format(c), img_rs)\n",
    "    img = None\n",
    "    \n",
    "print(\"Done\")"
   ]
  },
  {
   "cell_type": "code",
   "execution_count": 16,
   "metadata": {},
   "outputs": [
    {
     "data": {
      "text/plain": [
       "10"
      ]
     },
     "execution_count": 16,
     "metadata": {},
     "output_type": "execute_result"
    }
   ],
   "source": [
    "len(os.listdir(norm_path))"
   ]
  },
  {
   "cell_type": "markdown",
   "metadata": {},
   "source": [
    "### Check saved image distribution"
   ]
  },
  {
   "cell_type": "code",
   "execution_count": 17,
   "metadata": {},
   "outputs": [
    {
     "data": {
      "text/plain": [
       "(128, 128, 32)"
      ]
     },
     "execution_count": 17,
     "metadata": {},
     "output_type": "execute_result"
    }
   ],
   "source": [
    "img = np.load(norm_path + \"/1.npy\")\n",
    "img.shape"
   ]
  },
  {
   "cell_type": "code",
   "execution_count": 18,
   "metadata": {},
   "outputs": [
    {
     "name": "stdout",
     "output_type": "stream",
     "text": [
      "0.0 1.0\n"
     ]
    },
    {
     "data": {
      "image/png": "[encoded data removed]",
      "text/plain": [
       "<Figure size 432x288 with 1 Axes>"
      ]
     },
     "metadata": {
      "needs_background": "light"
     },
     "output_type": "display_data"
    }
   ],
   "source": [
    "img_flat = img.flatten()\n",
    "print(min(img_flat), max(img_flat))\n",
    "plt.hist(img_flat, bins=20, color='c')\n",
    "plt.title(\"After normalization\")\n",
    "plt.xlabel(\"Hounsfield Units (HU)\")\n",
    "plt.grid(True)\n",
    "plt.ylabel(\"Frequency\")\n",
    "plt.show()"
   ]
  },
  {
   "cell_type": "code",
   "execution_count": 19,
   "metadata": {},
   "outputs": [
    {
     "data": {
      "text/plain": [
       "<matplotlib.image.AxesImage at 0x7f8ddec5bcf8>"
      ]
     },
     "execution_count": 19,
     "metadata": {},
     "output_type": "execute_result"
    },
    {
     "data": {
      "image/png": "[encoded data removed]",
      "text/plain": [
       "<Figure size 432x288 with 1 Axes>"
      ]
     },
     "metadata": {
      "needs_background": "light"
     },
     "output_type": "display_data"
    }
   ],
   "source": [
    "plt.imshow(img[:,:,10], cmap='gray')"
   ]
  },
  {
   "cell_type": "code",
   "execution_count": 20,
   "metadata": {},
   "outputs": [
    {
     "data": {
      "text/plain": [
       "'/home/hasib/ecir2020/2D/dataset/3D_images_normalized'"
      ]
     },
     "execution_count": 20,
     "metadata": {},
     "output_type": "execute_result"
    }
   ],
   "source": [
    "norm_path"
   ]
  },
  {
   "cell_type": "code",
   "execution_count": 21,
   "metadata": {},
   "outputs": [
    {
     "data": {
      "text/plain": [
       "['1.npy', '2.npy', '3.npy', '4.npy']"
      ]
     },
     "execution_count": 21,
     "metadata": {},
     "output_type": "execute_result"
    }
   ],
   "source": [
    "sort_paths(os.listdir(norm_path))[:4]"
   ]
  },
  {
   "cell_type": "code",
   "execution_count": 22,
   "metadata": {},
   "outputs": [
    {
     "name": "stdout",
     "output_type": "stream",
     "text": [
      "1 ---- /home/hasib/ecir2020/2D/dataset/3D_images_normalized/1.npy (128, 128, 32)\n",
      "2 ---- /home/hasib/ecir2020/2D/dataset/3D_images_normalized/2.npy (128, 128, 32)\n",
      "3 ---- /home/hasib/ecir2020/2D/dataset/3D_images_normalized/3.npy (128, 128, 32)\n",
      "4 ---- /home/hasib/ecir2020/2D/dataset/3D_images_normalized/4.npy (128, 128, 32)\n",
      "5 ---- /home/hasib/ecir2020/2D/dataset/3D_images_normalized/5.npy (128, 128, 32)\n",
      "6 ---- /home/hasib/ecir2020/2D/dataset/3D_images_normalized/6.npy (128, 128, 32)\n",
      "7 ---- /home/hasib/ecir2020/2D/dataset/3D_images_normalized/7.npy (128, 128, 32)\n",
      "8 ---- /home/hasib/ecir2020/2D/dataset/3D_images_normalized/8.npy (128, 128, 32)\n",
      "9 ---- /home/hasib/ecir2020/2D/dataset/3D_images_normalized/9.npy (128, 128, 32)\n",
      "10 ---- /home/hasib/ecir2020/2D/dataset/3D_images_normalized/10.npy (128, 128, 32)\n"
     ]
    },
    {
     "data": {
      "text/plain": [
       "(10, 128, 128, 32)"
      ]
     },
     "execution_count": 22,
     "metadata": {},
     "output_type": "execute_result"
    }
   ],
   "source": [
    "x_train = []\n",
    "c = 0\n",
    "for path in sort_paths(os.listdir(norm_path))[:]:\n",
    "    img = None\n",
    "    img = np.load(norm_path+ \"/{}\".format(path))\n",
    "    \n",
    "    # slice and dice\n",
    "    x_train.append(img)\n",
    "    c+=1\n",
    "    print(c, \"----\", norm_path + \"/\" + path, img.shape)\n",
    "\n",
    "x_train = np.array(x_train)\n",
    "x_train.shape"
   ]
  },
  {
   "cell_type": "code",
   "execution_count": 23,
   "metadata": {},
   "outputs": [
    {
     "data": {
      "text/plain": [
       "(10, 128, 128, 32, 1)"
      ]
     },
     "execution_count": 23,
     "metadata": {},
     "output_type": "execute_result"
    }
   ],
   "source": [
    "x_train = expand_dims(x_train)\n",
    "x_train.shape"
   ]
  },
  {
   "cell_type": "code",
   "execution_count": 23,
   "metadata": {},
   "outputs": [],
   "source": [
    "np.save(\"{}/x_train_3D.npy\".format(TRAIN_DATASET_PATH), x_train)"
   ]
  },
  {
   "cell_type": "code",
   "execution_count": null,
   "metadata": {},
   "outputs": [],
   "source": []
  }
 ],
 "metadata": {
  "kernelspec": {
   "display_name": "Python 3",
   "language": "python",
   "name": "python3"
  },
  "language_info": {
   "codemirror_mode": {
    "name": "ipython",
    "version": 3
   },
   "file_extension": ".py",
   "mimetype": "text/x-python",
   "name": "python",
   "nbconvert_exporter": "python",
   "pygments_lexer": "ipython3",
   "version": "3.6.8"
  }
 },
 "nbformat": 4,
 "nbformat_minor": 2
}
