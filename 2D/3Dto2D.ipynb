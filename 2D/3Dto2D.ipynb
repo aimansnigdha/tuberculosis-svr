{
 "cells": [
  {
   "cell_type": "markdown",
   "metadata": {},
   "source": [
    "### Convert 3D volumetric data to 2D images"
   ]
  },
  {
   "cell_type": "code",
   "execution_count": 1,
   "metadata": {},
   "outputs": [
    {
     "name": "stdout",
     "output_type": "stream",
     "text": [
      "218\n"
     ]
    }
   ],
   "source": [
    "import os, glob\n",
    "import cv2\n",
    "import numpy as np\n",
    "import matplotlib.pyplot as plt\n",
    "import h5py\n",
    "import helpers as H\n",
    "from tqdm import tqdm\n",
    "\n",
    "#Root directory of the project\n",
    "ROOT_DIR = os.path.abspath(\".\")\n",
    "TRAIN_DATASET_PATH = os.path.join(ROOT_DIR, \"dataset\")\n",
    "#train_data_paths = glob.glob(os.path.join(TRAIN_DATASET_PATH,'img_datas_1','*.npy'))\n",
    "train_data_paths = os.listdir(os.path.join(TRAIN_DATASET_PATH, \"img_datas_1\"))\n",
    "print(len(train_data_paths))"
   ]
  },
  {
   "cell_type": "code",
   "execution_count": 2,
   "metadata": {},
   "outputs": [],
   "source": [
    "def to_3D(arr, resize_dim=None):\n",
    "    img = np.asarray(np.dstack((arr, arr, arr)), dtype=np.float64)\n",
    "    if resize_dim is not None:\n",
    "        img=cv2.resize(img,(resize_dim, resize_dim),interpolation=cv2.INTER_AREA)    \n",
    "    else:\n",
    "        pass\n",
    "    return img"
   ]
  },
  {
   "cell_type": "code",
   "execution_count": 3,
   "metadata": {},
   "outputs": [],
   "source": [
    "def get_number(filename):\n",
    "    return int(filename[:filename.find('.')])\n",
    "\n",
    "def sort_paths(paths):\n",
    "    paths.sort(key = get_number)\n",
    "    return paths"
   ]
  },
  {
   "cell_type": "code",
   "execution_count": 4,
   "metadata": {},
   "outputs": [
    {
     "data": {
      "text/plain": [
       "['1.npy', '10.npy', '100.npy', '101.npy']"
      ]
     },
     "execution_count": 4,
     "metadata": {},
     "output_type": "execute_result"
    }
   ],
   "source": [
    "train_data_paths[:4]"
   ]
  },
  {
   "cell_type": "code",
   "execution_count": 5,
   "metadata": {},
   "outputs": [
    {
     "data": {
      "text/plain": [
       "['1.npy', '2.npy', '3.npy', '4.npy', '5.npy']"
      ]
     },
     "execution_count": 5,
     "metadata": {},
     "output_type": "execute_result"
    }
   ],
   "source": [
    "sort_paths(train_data_paths)[:5]"
   ]
  },
  {
   "cell_type": "code",
   "execution_count": 6,
   "metadata": {},
   "outputs": [
    {
     "data": {
      "text/plain": [
       "(218, 2)"
      ]
     },
     "execution_count": 6,
     "metadata": {},
     "output_type": "execute_result"
    }
   ],
   "source": [
    "y_train = np.load(\"y_train_clef.npy\")\n",
    "y_train.shape"
   ]
  },
  {
   "cell_type": "code",
   "execution_count": 7,
   "metadata": {},
   "outputs": [
    {
     "data": {
      "text/plain": [
       "(218,)"
      ]
     },
     "execution_count": 7,
     "metadata": {},
     "output_type": "execute_result"
    }
   ],
   "source": [
    "y_train_flat = np.array([np.argmax(x) for x in y_train])\n",
    "y_train_flat.shape"
   ]
  },
  {
   "cell_type": "code",
   "execution_count": 8,
   "metadata": {},
   "outputs": [
    {
     "data": {
      "text/plain": [
       "array([0, 0, 0, 0, 1, 0, 0, 1, 1, 0, 0, 1, 1, 0, 0, 1, 1, 0, 0, 0, 0, 0,\n",
       "       1, 0, 0, 1, 0, 1, 1, 0, 0, 1, 0, 1, 1, 0, 1, 1, 1, 0, 0, 1, 0, 0,\n",
       "       0, 0, 0, 0, 0, 1, 1, 0, 1, 0, 1, 1, 1, 0, 0, 1, 1, 1, 1, 1, 1, 0,\n",
       "       1, 1, 0, 1, 0, 0, 1, 0, 1, 1, 0, 1, 1, 0, 0, 0, 0, 0, 0, 0, 1, 0,\n",
       "       1, 0, 1, 1, 0, 1, 1, 1, 1, 0, 1, 1, 0, 0, 1, 0, 1, 0, 0, 1, 0, 0,\n",
       "       1, 1, 0, 0, 0, 1, 0, 1, 1, 0, 1, 1, 0, 1, 1, 0, 0, 1, 1, 1, 0, 0,\n",
       "       0, 0, 0, 1, 1, 1, 0, 1, 1, 0, 0, 0, 0, 0, 0, 0, 0, 1, 0, 0, 1, 1,\n",
       "       1, 0, 1, 1, 0, 1, 1, 0, 1, 1, 0, 0, 1, 1, 0, 0, 0, 1, 1, 1, 1, 1,\n",
       "       0, 1, 1, 0, 0, 0, 1, 1, 0, 0, 0, 0, 0, 1, 1, 1, 1, 1, 1, 1, 0, 0,\n",
       "       0, 1, 1, 0, 1, 0, 0, 1, 1, 1, 0, 0, 0, 1, 1, 0, 1, 1, 1, 0],\n",
       "      dtype=int64)"
      ]
     },
     "execution_count": 8,
     "metadata": {},
     "output_type": "execute_result"
    }
   ],
   "source": [
    "y_train_flat"
   ]
  },
  {
   "cell_type": "code",
   "execution_count": 14,
   "metadata": {},
   "outputs": [
    {
     "data": {
      "text/plain": [
       "('E:\\\\ECIR_2020\\\\ecir2020\\\\2D\\\\dataset\\\\2D_images/0',\n",
       " 'E:\\\\ECIR_2020\\\\ecir2020\\\\2D\\\\dataset\\\\2D_images/1')"
      ]
     },
     "execution_count": 14,
     "metadata": {},
     "output_type": "execute_result"
    }
   ],
   "source": [
    "low_paths = os.path.join(TRAIN_DATASET_PATH, \"2D_images/0\")\n",
    "high_paths = os.path.join(TRAIN_DATASET_PATH, \"2D_images/1\")\n",
    "low_paths, high_paths"
   ]
  },
  {
   "cell_type": "code",
   "execution_count": 15,
   "metadata": {},
   "outputs": [],
   "source": [
    "H.create_directory(os.path.join(low_paths))\n",
    "H.create_directory(os.path.join(high_paths))"
   ]
  },
  {
   "cell_type": "code",
   "execution_count": 16,
   "metadata": {},
   "outputs": [
    {
     "name": "stdout",
     "output_type": "stream",
     "text": [
      "1.npy ----- (512, 512, 128) --- 0\n",
      "2.npy ----- (512, 512, 122) --- 0\n",
      "3.npy ----- (512, 512, 113) --- 0\n",
      "4.npy ----- (512, 512, 120) --- 0\n",
      "5.npy ----- (512, 512, 116) --- 1\n",
      "6.npy ----- (512, 512, 131) --- 0\n",
      "7.npy ----- (512, 512, 123) --- 0\n",
      "8.npy ----- (512, 512, 132) --- 1\n",
      "9.npy ----- (512, 512, 144) --- 1\n",
      "10.npy ----- (512, 512, 131) --- 0\n",
      "11.npy ----- (512, 512, 133) --- 0\n",
      "12.npy ----- (512, 512, 132) --- 1\n",
      "13.npy ----- (512, 512, 129) --- 1\n",
      "14.npy ----- (512, 512, 116) --- 0\n",
      "15.npy ----- (512, 512, 130) --- 0\n",
      "16.npy ----- (512, 512, 125) --- 1\n",
      "17.npy ----- (512, 512, 104) --- 1\n",
      "18.npy ----- (512, 512, 114) --- 0\n",
      "19.npy ----- (512, 512, 132) --- 0\n",
      "20.npy ----- (512, 512, 112) --- 0\n",
      "21.npy ----- (512, 512, 112) --- 0\n",
      "22.npy ----- (512, 512, 133) --- 0\n",
      "23.npy ----- (512, 512, 104) --- 1\n",
      "24.npy ----- (512, 512, 122) --- 0\n",
      "25.npy ----- (512, 512, 129) --- 0\n",
      "26.npy ----- (512, 512, 100) --- 1\n",
      "27.npy ----- (512, 512, 131) --- 0\n",
      "28.npy ----- (512, 512, 129) --- 1\n",
      "29.npy ----- (512, 512, 102) --- 1\n",
      "30.npy ----- (512, 512, 123) --- 0\n",
      "31.npy ----- (512, 512, 114) --- 0\n",
      "32.npy ----- (512, 512, 119) --- 1\n",
      "33.npy ----- (512, 512, 103) --- 0\n",
      "34.npy ----- (512, 512, 127) --- 1\n",
      "35.npy ----- (512, 512, 112) --- 1\n",
      "36.npy ----- (512, 512, 125) --- 0\n",
      "37.npy ----- (512, 512, 124) --- 1\n",
      "38.npy ----- (512, 512, 155) --- 1\n",
      "39.npy ----- (512, 512, 119) --- 1\n",
      "40.npy ----- (512, 512, 123) --- 0\n",
      "41.npy ----- (512, 512, 127) --- 0\n",
      "42.npy ----- (512, 512, 106) --- 1\n",
      "43.npy ----- (512, 512, 126) --- 0\n",
      "44.npy ----- (512, 512, 132) --- 0\n",
      "45.npy ----- (512, 512, 133) --- 0\n",
      "46.npy ----- (512, 512, 135) --- 0\n",
      "47.npy ----- (512, 512, 114) --- 0\n",
      "48.npy ----- (512, 512, 134) --- 0\n",
      "49.npy ----- (512, 512, 126) --- 0\n",
      "50.npy ----- (512, 512, 114) --- 1\n",
      "51.npy ----- (512, 512, 115) --- 1\n",
      "52.npy ----- (512, 512, 138) --- 0\n",
      "53.npy ----- (512, 512, 121) --- 1\n",
      "54.npy ----- (512, 512, 110) --- 0\n",
      "55.npy ----- (512, 512, 125) --- 1\n",
      "56.npy ----- (512, 512, 239) --- 1\n",
      "57.npy ----- (512, 512, 118) --- 1\n",
      "58.npy ----- (512, 512, 115) --- 0\n",
      "59.npy ----- (512, 512, 61) --- 0\n",
      "60.npy ----- (512, 512, 135) --- 1\n",
      "61.npy ----- (512, 512, 136) --- 1\n",
      "62.npy ----- (512, 512, 139) --- 1\n",
      "63.npy ----- (512, 512, 104) --- 1\n",
      "64.npy ----- (512, 512, 123) --- 1\n",
      "65.npy ----- (512, 512, 61) --- 1\n",
      "66.npy ----- (512, 512, 126) --- 0\n",
      "67.npy ----- (512, 512, 259) --- 1\n",
      "68.npy ----- (512, 512, 131) --- 1\n",
      "69.npy ----- (512, 512, 128) --- 0\n",
      "70.npy ----- (512, 512, 135) --- 1\n",
      "71.npy ----- (512, 512, 108) --- 0\n",
      "72.npy ----- (512, 512, 53) --- 0\n",
      "73.npy ----- (512, 512, 122) --- 1\n",
      "74.npy ----- (512, 512, 116) --- 0\n",
      "75.npy ----- (512, 512, 122) --- 1\n",
      "76.npy ----- (512, 512, 130) --- 1\n",
      "77.npy ----- (512, 512, 135) --- 0\n",
      "78.npy ----- (512, 512, 118) --- 1\n",
      "79.npy ----- (512, 512, 263) --- 1\n",
      "80.npy ----- (512, 512, 126) --- 0\n",
      "81.npy ----- (512, 512, 119) --- 0\n",
      "82.npy ----- (512, 512, 125) --- 0\n",
      "83.npy ----- (512, 512, 131) --- 0\n",
      "84.npy ----- (512, 512, 103) --- 0\n",
      "85.npy ----- (512, 512, 116) --- 0\n",
      "86.npy ----- (512, 512, 131) --- 0\n",
      "87.npy ----- (512, 512, 214) --- 1\n",
      "88.npy ----- (512, 512, 120) --- 0\n",
      "89.npy ----- (512, 512, 125) --- 1\n",
      "90.npy ----- (512, 512, 128) --- 0\n",
      "91.npy ----- (512, 512, 115) --- 1\n",
      "92.npy ----- (512, 512, 133) --- 1\n",
      "93.npy ----- (512, 512, 128) --- 0\n",
      "94.npy ----- (512, 512, 153) --- 1\n",
      "95.npy ----- (512, 512, 135) --- 1\n",
      "96.npy ----- (512, 512, 124) --- 1\n",
      "97.npy ----- (512, 512, 123) --- 1\n",
      "98.npy ----- (512, 512, 116) --- 0\n",
      "99.npy ----- (512, 512, 149) --- 1\n",
      "100.npy ----- (512, 512, 118) --- 1\n",
      "101.npy ----- (512, 512, 84) --- 0\n",
      "102.npy ----- (512, 512, 121) --- 0\n",
      "103.npy ----- (512, 512, 133) --- 1\n",
      "104.npy ----- (512, 512, 114) --- 0\n",
      "105.npy ----- (512, 512, 136) --- 1\n",
      "106.npy ----- (512, 512, 69) --- 0\n",
      "107.npy ----- (512, 512, 139) --- 0\n",
      "108.npy ----- (512, 512, 132) --- 1\n",
      "109.npy ----- (512, 512, 136) --- 0\n",
      "110.npy ----- (512, 512, 133) --- 0\n",
      "111.npy ----- (512, 512, 136) --- 1\n",
      "112.npy ----- (512, 512, 134) --- 1\n",
      "113.npy ----- (512, 512, 134) --- 0\n",
      "114.npy ----- (512, 512, 132) --- 0\n",
      "115.npy ----- (512, 512, 137) --- 0\n",
      "116.npy ----- (512, 512, 71) --- 1\n",
      "117.npy ----- (512, 512, 127) --- 0\n",
      "118.npy ----- (512, 512, 103) --- 1\n",
      "119.npy ----- (512, 512, 150) --- 1\n",
      "120.npy ----- (512, 512, 122) --- 0\n",
      "121.npy ----- (512, 512, 108) --- 1\n",
      "122.npy ----- (512, 512, 116) --- 1\n",
      "123.npy ----- (512, 512, 125) --- 0\n",
      "124.npy ----- (512, 512, 137) --- 1\n",
      "125.npy ----- (512, 512, 151) --- 1\n",
      "126.npy ----- (512, 512, 130) --- 0\n",
      "127.npy ----- (512, 512, 140) --- 0\n",
      "128.npy ----- (512, 512, 110) --- 1\n",
      "129.npy ----- (512, 512, 123) --- 1\n",
      "130.npy ----- (512, 512, 134) --- 1\n",
      "131.npy ----- (512, 512, 131) --- 0\n",
      "132.npy ----- (512, 512, 120) --- 0\n",
      "133.npy ----- (512, 512, 115) --- 0\n",
      "134.npy ----- (512, 512, 129) --- 0\n",
      "135.npy ----- (512, 512, 132) --- 0\n",
      "136.npy ----- (512, 512, 141) --- 1\n",
      "137.npy ----- (512, 512, 121) --- 1\n",
      "138.npy ----- (512, 512, 140) --- 1\n",
      "139.npy ----- (512, 512, 121) --- 0\n",
      "140.npy ----- (512, 512, 137) --- 1\n",
      "141.npy ----- (512, 512, 137) --- 1\n",
      "142.npy ----- (512, 512, 132) --- 0\n",
      "143.npy ----- (512, 512, 119) --- 0\n",
      "144.npy ----- (512, 512, 138) --- 0\n",
      "145.npy ----- (512, 512, 124) --- 0\n",
      "146.npy ----- (512, 512, 138) --- 0\n",
      "147.npy ----- (512, 512, 136) --- 0\n",
      "148.npy ----- (512, 512, 119) --- 0\n",
      "149.npy ----- (512, 512, 134) --- 0\n",
      "150.npy ----- (512, 512, 134) --- 1\n",
      "151.npy ----- (512, 512, 139) --- 0\n",
      "152.npy ----- (512, 512, 125) --- 0\n",
      "153.npy ----- (512, 512, 134) --- 1\n",
      "154.npy ----- (512, 512, 121) --- 1\n",
      "155.npy ----- (512, 512, 127) --- 1\n",
      "156.npy ----- (512, 512, 121) --- 0\n",
      "157.npy ----- (512, 512, 120) --- 1\n",
      "158.npy ----- (512, 512, 123) --- 1\n",
      "159.npy ----- (512, 512, 115) --- 0\n",
      "160.npy ----- (512, 512, 141) --- 1\n",
      "161.npy ----- (512, 512, 125) --- 1\n",
      "162.npy ----- (512, 512, 130) --- 0\n",
      "163.npy ----- (512, 512, 142) --- 1\n",
      "164.npy ----- (512, 512, 132) --- 1\n",
      "165.npy ----- (512, 512, 128) --- 0\n",
      "166.npy ----- (512, 512, 138) --- 0\n",
      "167.npy ----- (512, 512, 126) --- 1\n",
      "168.npy ----- (512, 512, 125) --- 1\n",
      "169.npy ----- (512, 512, 122) --- 0\n",
      "170.npy ----- (512, 512, 134) --- 0\n",
      "171.npy ----- (512, 512, 144) --- 0\n",
      "172.npy ----- (512, 512, 86) --- 1\n",
      "173.npy ----- (512, 512, 124) --- 1\n",
      "174.npy ----- (512, 512, 130) --- 1\n",
      "175.npy ----- (512, 512, 141) --- 1\n",
      "176.npy ----- (512, 512, 126) --- 1\n",
      "177.npy ----- (512, 512, 130) --- 0\n",
      "178.npy ----- (512, 512, 126) --- 1\n",
      "179.npy ----- (512, 512, 111) --- 1\n",
      "180.npy ----- (512, 512, 137) --- 0\n",
      "181.npy ----- (512, 512, 136) --- 0\n",
      "182.npy ----- (512, 512, 146) --- 0\n",
      "183.npy ----- (512, 512, 136) --- 1\n",
      "184.npy ----- (512, 512, 142) --- 1\n",
      "185.npy ----- (512, 512, 142) --- 0\n",
      "186.npy ----- (512, 512, 130) --- 0\n",
      "187.npy ----- (512, 512, 131) --- 0\n",
      "188.npy ----- (512, 512, 144) --- 0\n",
      "189.npy ----- (512, 512, 120) --- 0\n",
      "190.npy ----- (512, 512, 102) --- 1\n",
      "191.npy ----- (512, 512, 141) --- 1\n",
      "192.npy ----- (512, 512, 153) --- 1\n",
      "193.npy ----- (512, 512, 119) --- 1\n",
      "194.npy ----- (512, 512, 114) --- 1\n",
      "195.npy ----- (512, 512, 124) --- 1\n",
      "196.npy ----- (512, 512, 140) --- 1\n",
      "197.npy ----- (512, 512, 124) --- 0\n"
     ]
    }
   ],
   "source": [
    "x_train_2D = []\n",
    "y_train_2D = []\n",
    "\n",
    "img_number = 1\n",
    "for array_path, label in zip(sort_paths(train_data_paths)[:197], y_train_flat):\n",
    "    img = np.load(\"{}/img_datas_1/{}\".format(TRAIN_DATASET_PATH, array_path))\n",
    "    print(array_path, \"-----\", img.shape, \"---\", label)\n",
    "    \n",
    "    slice_number = img.shape[-1]\n",
    "    if label == 0:\n",
    "        for slc in range(slice_number):\n",
    "            \n",
    "            # Save as numpy array\n",
    "            #x_train_2D.append(img[:,:,slc])\n",
    "            #y_train_2D.append(0)\n",
    "            \n",
    "            # 0 folder\n",
    "            np.save(\"{}/{}_{}.npy\".format(low_paths, img_number, slc), img[:,:,slc])\n",
    "            \n",
    "    else:\n",
    "        for slc in range(slice_number):\n",
    "            \n",
    "            #x_train_2D.append(img[:,:,slc])\n",
    "            #y_train_2D.append(1)\n",
    "            \n",
    "            # 1 folder\n",
    "            np.save(\"{}/{}_{}.npy\".format(high_paths, img_number, slc), img[:,:,slc])\n",
    "            \n",
    "    img_number+=1"
   ]
  },
  {
   "cell_type": "code",
   "execution_count": 12,
   "metadata": {},
   "outputs": [
    {
     "data": {
      "text/plain": [
       "(868, 392)"
      ]
     },
     "execution_count": 12,
     "metadata": {},
     "output_type": "execute_result"
    }
   ],
   "source": [
    "len(os.listdir(low_paths)), len(os.listdir(high_paths))"
   ]
  },
  {
   "cell_type": "code",
   "execution_count": 1,
   "metadata": {},
   "outputs": [],
   "source": [
    "#x_train_2D = np.array(x_train_2D)\n",
    "#y_train_2D = np.array(y_train_2D)\n",
    "#x_train_2D.shape, y_train_2D.shape"
   ]
  },
  {
   "cell_type": "code",
   "execution_count": 22,
   "metadata": {},
   "outputs": [],
   "source": [
    "#a = np.load(\"{}/img_datas_1/{}\".format(TRAIN_DATASET_PATH, \"3.npy\"))\n",
    "#a.shape"
   ]
  },
  {
   "cell_type": "code",
   "execution_count": 21,
   "metadata": {},
   "outputs": [],
   "source": [
    "#x = a[:,:,50]\n",
    "#plt.imshow(x, cmap='gray')"
   ]
  },
  {
   "cell_type": "code",
   "execution_count": 29,
   "metadata": {},
   "outputs": [
    {
     "data": {
      "text/plain": [
       "(392, 868)"
      ]
     },
     "execution_count": 29,
     "metadata": {},
     "output_type": "execute_result"
    }
   ],
   "source": [
    "np.count_nonzero(y_train_2D == 1), np.count_nonzero(y_train_2D == 0)"
   ]
  },
  {
   "cell_type": "code",
   "execution_count": null,
   "metadata": {},
   "outputs": [],
   "source": []
  }
 ],
 "metadata": {
  "kernelspec": {
   "display_name": "Python 3",
   "language": "python",
   "name": "python3"
  },
  "language_info": {
   "codemirror_mode": {
    "name": "ipython",
    "version": 3
   },
   "file_extension": ".py",
   "mimetype": "text/x-python",
   "name": "python",
   "nbconvert_exporter": "python",
   "pygments_lexer": "ipython3",
   "version": "3.6.8"
  }
 },
 "nbformat": 4,
 "nbformat_minor": 2
}
