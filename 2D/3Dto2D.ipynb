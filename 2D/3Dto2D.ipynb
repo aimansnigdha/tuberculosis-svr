{
 "cells": [
  {
   "cell_type": "markdown",
   "metadata": {},
   "source": [
    "### Convert 3D volumetric data to 2D images"
   ]
  },
  {
   "cell_type": "code",
   "execution_count": 1,
   "metadata": {},
   "outputs": [
    {
     "name": "stdout",
     "output_type": "stream",
     "text": [
      "218\n"
     ]
    }
   ],
   "source": [
    "import os, glob\n",
    "import cv2\n",
    "import numpy as np\n",
    "import matplotlib.pyplot as plt\n",
    "import h5py\n",
    "import helpers as H\n",
    "from tqdm import tqdm\n",
    "\n",
    "#Root directory of the project\n",
    "ROOT_DIR = os.path.abspath(\".\")\n",
    "TRAIN_DATASET_PATH = os.path.join(ROOT_DIR, \"dataset\")\n",
    "#train_data_paths = glob.glob(os.path.join(TRAIN_DATASET_PATH,'img_datas_1','*.npy'))\n",
    "train_data_paths = os.listdir(os.path.join(TRAIN_DATASET_PATH, \"img_datas_1\"))\n",
    "print(len(train_data_paths))\n"
   ]
  },
  {
   "cell_type": "code",
   "execution_count": 2,
   "metadata": {},
   "outputs": [],
   "source": [
    "def to_3D(arr, resize_dim=None):\n",
    "    img = np.asarray(np.dstack((arr, arr, arr)), dtype=np.float64)\n",
    "    if resize_dim is not None:\n",
    "        img=cv2.resize(img,(resize_dim, resize_dim),interpolation=cv2.INTER_AREA)    \n",
    "    else:\n",
    "        pass\n",
    "    return img"
   ]
  },
  {
   "cell_type": "code",
   "execution_count": 3,
   "metadata": {},
   "outputs": [],
   "source": [
    "def get_number(filename):\n",
    "    return int(filename[:filename.find('.')])\n",
    "\n",
    "def sort_paths(paths):\n",
    "    paths.sort(key = get_number)\n",
    "    return paths"
   ]
  },
  {
   "cell_type": "code",
   "execution_count": 4,
   "metadata": {},
   "outputs": [
    {
     "data": {
      "text/plain": [
       "['75.npy', '160.npy', '44.npy', '216.npy']"
      ]
     },
     "execution_count": 4,
     "metadata": {},
     "output_type": "execute_result"
    }
   ],
   "source": [
    "train_data_paths[:4]"
   ]
  },
  {
   "cell_type": "code",
   "execution_count": 5,
   "metadata": {},
   "outputs": [
    {
     "data": {
      "text/plain": [
       "['1.npy', '2.npy', '3.npy', '4.npy', '5.npy']"
      ]
     },
     "execution_count": 5,
     "metadata": {},
     "output_type": "execute_result"
    }
   ],
   "source": [
    "sort_paths(train_data_paths)[:5]"
   ]
  },
  {
   "cell_type": "code",
   "execution_count": 6,
   "metadata": {},
   "outputs": [
    {
     "data": {
      "text/plain": [
       "(218, 2)"
      ]
     },
     "execution_count": 6,
     "metadata": {},
     "output_type": "execute_result"
    }
   ],
   "source": [
    "y_train = np.load(\"y_train_clef.npy\")\n",
    "y_train.shape"
   ]
  },
  {
   "cell_type": "code",
   "execution_count": 7,
   "metadata": {},
   "outputs": [
    {
     "data": {
      "text/plain": [
       "(218,)"
      ]
     },
     "execution_count": 7,
     "metadata": {},
     "output_type": "execute_result"
    }
   ],
   "source": [
    "y_train_flat = np.array([np.argmax(x) for x in y_train])\n",
    "y_train_flat.shape"
   ]
  },
  {
   "cell_type": "code",
   "execution_count": 8,
   "metadata": {},
   "outputs": [
    {
     "data": {
      "text/plain": [
       "array([0, 0, 0, 0, 1, 0, 0, 1, 1, 0, 0, 1, 1, 0, 0, 1, 1, 0, 0, 0, 0, 0,\n",
       "       1, 0, 0, 1, 0, 1, 1, 0, 0, 1, 0, 1, 1, 0, 1, 1, 1, 0, 0, 1, 0, 0,\n",
       "       0, 0, 0, 0, 0, 1, 1, 0, 1, 0, 1, 1, 1, 0, 0, 1, 1, 1, 1, 1, 1, 0,\n",
       "       1, 1, 0, 1, 0, 0, 1, 0, 1, 1, 0, 1, 1, 0, 0, 0, 0, 0, 0, 0, 1, 0,\n",
       "       1, 0, 1, 1, 0, 1, 1, 1, 1, 0, 1, 1, 0, 0, 1, 0, 1, 0, 0, 1, 0, 0,\n",
       "       1, 1, 0, 0, 0, 1, 0, 1, 1, 0, 1, 1, 0, 1, 1, 0, 0, 1, 1, 1, 0, 0,\n",
       "       0, 0, 0, 1, 1, 1, 0, 1, 1, 0, 0, 0, 0, 0, 0, 0, 0, 1, 0, 0, 1, 1,\n",
       "       1, 0, 1, 1, 0, 1, 1, 0, 1, 1, 0, 0, 1, 1, 0, 0, 0, 1, 1, 1, 1, 1,\n",
       "       0, 1, 1, 0, 0, 0, 1, 1, 0, 0, 0, 0, 0, 1, 1, 1, 1, 1, 1, 1, 0, 0,\n",
       "       0, 1, 1, 0, 1, 0, 0, 1, 1, 1, 0, 0, 0, 1, 1, 0, 1, 1, 1, 0])"
      ]
     },
     "execution_count": 8,
     "metadata": {},
     "output_type": "execute_result"
    }
   ],
   "source": [
    "y_train_flat"
   ]
  },
  {
   "cell_type": "code",
   "execution_count": 9,
   "metadata": {},
   "outputs": [
    {
     "data": {
      "text/plain": [
       "('/home/hasib/ecir2020/2D/dataset/2D_images/0',\n",
       " '/home/hasib/ecir2020/2D/dataset/2D_images/1')"
      ]
     },
     "execution_count": 9,
     "metadata": {},
     "output_type": "execute_result"
    }
   ],
   "source": [
    "low_paths = os.path.join(TRAIN_DATASET_PATH, \"2D_images/0\")\n",
    "high_paths = os.path.join(TRAIN_DATASET_PATH, \"2D_images/1\")\n",
    "low_paths, high_paths"
   ]
  },
  {
   "cell_type": "code",
   "execution_count": 10,
   "metadata": {},
   "outputs": [],
   "source": [
    "H.create_directory(os.path.join(low_paths))\n",
    "H.create_directory(os.path.join(high_paths))"
   ]
  },
  {
   "cell_type": "code",
   "execution_count": 11,
   "metadata": {},
   "outputs": [
    {
     "name": "stdout",
     "output_type": "stream",
     "text": [
      "1.npy ----- (512, 512, 128) --- 0\n",
      "2.npy ----- (512, 512, 122) --- 0\n",
      "3.npy ----- (512, 512, 113) --- 0\n",
      "4.npy ----- (512, 512, 120) --- 0\n",
      "5.npy ----- (512, 512, 116) --- 1\n",
      "6.npy ----- (512, 512, 131) --- 0\n",
      "7.npy ----- (512, 512, 123) --- 0\n",
      "8.npy ----- (512, 512, 132) --- 1\n",
      "9.npy ----- (512, 512, 144) --- 1\n",
      "10.npy ----- (512, 512, 131) --- 0\n"
     ]
    }
   ],
   "source": [
    "x_train_2D = []\n",
    "y_train_2D = []\n",
    "\n",
    "img_number = 1\n",
    "for array_path, label in zip(sort_paths(train_data_paths)[:10], y_train_flat):\n",
    "    img = np.load(\"{}/img_datas_1/{}\".format(TRAIN_DATASET_PATH, array_path))\n",
    "    print(array_path, \"-----\", img.shape, \"---\", label)\n",
    "    \n",
    "    slice_number = img.shape[-1]\n",
    "    if label == 0:\n",
    "        for slc in range(slice_number):\n",
    "            \n",
    "            # Save as numpy array\n",
    "            #x_train_2D.append(img[:,:,slc])\n",
    "            #y_train_2D.append(0)\n",
    "            \n",
    "            # 0 folder\n",
    "            np.save(\"{}/{}_{}.npy\".format(low_paths, img_number, slc), img[:,:,slc])\n",
    "            \n",
    "    else:\n",
    "        for slc in range(slice_number):\n",
    "            \n",
    "            #x_train_2D.append(img[:,:,slc])\n",
    "            #y_train_2D.append(1)\n",
    "            \n",
    "            # 1 folder\n",
    "            np.save(\"{}/{}_{}.npy\".format(high_paths, img_number, slc), img[:,:,slc])\n",
    "            \n",
    "    img_number+=1"
   ]
  },
  {
   "cell_type": "code",
   "execution_count": 12,
   "metadata": {},
   "outputs": [
    {
     "data": {
      "text/plain": [
       "(868, 392)"
      ]
     },
     "execution_count": 12,
     "metadata": {},
     "output_type": "execute_result"
    }
   ],
   "source": [
    "len(os.listdir(low_paths)), len(os.listdir(high_paths))"
   ]
  },
  {
   "cell_type": "code",
   "execution_count": 1,
   "metadata": {},
   "outputs": [],
   "source": [
    "#x_train_2D = np.array(x_train_2D)\n",
    "#y_train_2D = np.array(y_train_2D)\n",
    "#x_train_2D.shape, y_train_2D.shape"
   ]
  },
  {
   "cell_type": "code",
   "execution_count": 22,
   "metadata": {},
   "outputs": [],
   "source": [
    "#a = np.load(\"{}/img_datas_1/{}\".format(TRAIN_DATASET_PATH, \"3.npy\"))\n",
    "#a.shape"
   ]
  },
  {
   "cell_type": "code",
   "execution_count": 21,
   "metadata": {},
   "outputs": [],
   "source": [
    "#x = a[:,:,50]\n",
    "#plt.imshow(x, cmap='gray')"
   ]
  },
  {
   "cell_type": "code",
   "execution_count": 29,
   "metadata": {},
   "outputs": [
    {
     "data": {
      "text/plain": [
       "(392, 868)"
      ]
     },
     "execution_count": 29,
     "metadata": {},
     "output_type": "execute_result"
    }
   ],
   "source": [
    "np.count_nonzero(y_train_2D == 1), np.count_nonzero(y_train_2D == 0)"
   ]
  },
  {
   "cell_type": "code",
   "execution_count": null,
   "metadata": {},
   "outputs": [],
   "source": []
  }
 ],
 "metadata": {
  "kernelspec": {
   "display_name": "Python 3",
   "language": "python",
   "name": "python3"
  },
  "language_info": {
   "codemirror_mode": {
    "name": "ipython",
    "version": 3
   },
   "file_extension": ".py",
   "mimetype": "text/x-python",
   "name": "python",
   "nbconvert_exporter": "python",
   "pygments_lexer": "ipython3",
   "version": "3.6.8"
  }
 },
 "nbformat": 4,
 "nbformat_minor": 2
}
