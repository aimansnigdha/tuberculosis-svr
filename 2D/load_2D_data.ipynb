{
 "cells": [
  {
   "cell_type": "code",
   "execution_count": 1,
   "metadata": {},
   "outputs": [],
   "source": [
    "import os, glob\n",
    "import cv2\n",
    "import numpy as np\n",
    "import matplotlib.pyplot as plt\n",
    "import h5py\n",
    "import helpers as H\n",
    "from tqdm import tqdm\n",
    "\n",
    "#Root directory of the project\n",
    "ROOT_DIR = os.path.abspath(\".\")\n",
    "TRAIN_DATASET_PATH = os.path.join(ROOT_DIR, \"dataset\")"
   ]
  },
  {
   "cell_type": "code",
   "execution_count": 2,
   "metadata": {},
   "outputs": [],
   "source": [
    "# helper to get images\n",
    "def get_data(path, resize_dim=None):\n",
    "    \n",
    "    img = np.load(path)\n",
    "    img = np.asarray(np.dstack((img, img, img)), dtype=np.float64)\n",
    "    \n",
    "    if resize_dim is not None:\n",
    "        img=cv2.resize(img,(resize_dim, resize_dim),interpolation=cv2.INTER_AREA)    \n",
    "    else:\n",
    "        pass\n",
    "    return img"
   ]
  },
  {
   "cell_type": "code",
   "execution_count": 3,
   "metadata": {},
   "outputs": [
    {
     "data": {
      "text/plain": [
       "('/home/hasib/ecir2020/2D/dataset/2D_images/0',\n",
       " '/home/hasib/ecir2020/2D/dataset/2D_images/1')"
      ]
     },
     "execution_count": 3,
     "metadata": {},
     "output_type": "execute_result"
    }
   ],
   "source": [
    "low_paths = os.path.join(TRAIN_DATASET_PATH, \"2D_images/0\")\n",
    "high_paths = os.path.join(TRAIN_DATASET_PATH, \"2D_images/1\")\n",
    "low_paths, high_paths"
   ]
  },
  {
   "cell_type": "code",
   "execution_count": 4,
   "metadata": {},
   "outputs": [
    {
     "data": {
      "text/plain": [
       "(868, 392)"
      ]
     },
     "execution_count": 4,
     "metadata": {},
     "output_type": "execute_result"
    }
   ],
   "source": [
    "len(os.listdir(low_paths)), len(os.listdir(high_paths))"
   ]
  },
  {
   "cell_type": "code",
   "execution_count": 5,
   "metadata": {},
   "outputs": [
    {
     "data": {
      "text/plain": [
       "(868, 392)"
      ]
     },
     "execution_count": 5,
     "metadata": {},
     "output_type": "execute_result"
    }
   ],
   "source": [
    "low_images = [os.path.join(low_paths, x) for x in os.listdir(low_paths)]\n",
    "high_images = [os.path.join(high_paths, x) for x in os.listdir(high_paths)]\n",
    "\n",
    "len(low_images), len(high_images)"
   ]
  },
  {
   "cell_type": "code",
   "execution_count": 6,
   "metadata": {},
   "outputs": [
    {
     "data": {
      "text/plain": [
       "('/home/hasib/ecir2020/2D/dataset/2D_images/0/4_83.npy',\n",
       " '/home/hasib/ecir2020/2D/dataset/2D_images/1/8_47.npy')"
      ]
     },
     "execution_count": 6,
     "metadata": {},
     "output_type": "execute_result"
    }
   ],
   "source": [
    "low_images[0], high_images[0]"
   ]
  },
  {
   "cell_type": "code",
   "execution_count": 7,
   "metadata": {},
   "outputs": [
    {
     "name": "stderr",
     "output_type": "stream",
     "text": [
      "100%|██████████| 20/20 [00:00<00:00, 202.73it/s]\n"
     ]
    },
    {
     "data": {
      "text/plain": [
       "(20, 512, 512, 3)"
      ]
     },
     "execution_count": 7,
     "metadata": {},
     "output_type": "execute_result"
    }
   ],
   "source": [
    "low_2D_images=np.array([get_data(path) for path in tqdm(low_images[:20])])\n",
    "low_2D_images.shape"
   ]
  },
  {
   "cell_type": "code",
   "execution_count": 8,
   "metadata": {},
   "outputs": [],
   "source": [
    "#plt.imshow(low_2D_images[0])"
   ]
  },
  {
   "cell_type": "code",
   "execution_count": 9,
   "metadata": {},
   "outputs": [
    {
     "data": {
      "text/plain": [
       "(2211.0, -3024.0)"
      ]
     },
     "execution_count": 9,
     "metadata": {},
     "output_type": "execute_result"
    }
   ],
   "source": [
    "max(low_2D_images[0].flatten()), min(low_2D_images[0].flatten())"
   ]
  },
  {
   "cell_type": "code",
   "execution_count": 10,
   "metadata": {},
   "outputs": [
    {
     "name": "stderr",
     "output_type": "stream",
     "text": [
      "100%|██████████| 20/20 [00:00<00:00, 203.60it/s]\n"
     ]
    },
    {
     "data": {
      "text/plain": [
       "(20, 512, 512, 3)"
      ]
     },
     "execution_count": 10,
     "metadata": {},
     "output_type": "execute_result"
    }
   ],
   "source": [
    "high_2D_images=np.array([get_data(path) for path in tqdm(high_images[:20])])\n",
    "high_2D_images.shape"
   ]
  },
  {
   "cell_type": "code",
   "execution_count": 11,
   "metadata": {},
   "outputs": [
    {
     "data": {
      "text/plain": [
       "((20,), (20,))"
      ]
     },
     "execution_count": 11,
     "metadata": {},
     "output_type": "execute_result"
    }
   ],
   "source": [
    "high = np.array([1 for _ in range(len(high_2D_images))])\n",
    "low = np.array([0 for _ in range(len(low_2D_images))])\n",
    "\n",
    "high.shape, low.shape"
   ]
  },
  {
   "cell_type": "code",
   "execution_count": 16,
   "metadata": {},
   "outputs": [
    {
     "name": "stdout",
     "output_type": "stream",
     "text": [
      "(40, 512, 512, 3) (40,)\n"
     ]
    }
   ],
   "source": [
    "x_all = np.concatenate((high_2D_images, low_2D_images), axis=0)\n",
    "y_all = np.concatenate((high, low), axis=0)\n",
    "print(x_all.shape, y_all.shape)"
   ]
  },
  {
   "cell_type": "code",
   "execution_count": 17,
   "metadata": {},
   "outputs": [
    {
     "data": {
      "text/plain": [
       "array([1, 1, 1, 1, 1, 1, 1, 1, 1, 1, 1, 1, 1, 1, 1, 1, 1, 1, 1, 1, 0, 0,\n",
       "       0, 0, 0, 0, 0, 0, 0, 0, 0, 0, 0, 0, 0, 0, 0, 0, 0, 0])"
      ]
     },
     "execution_count": 17,
     "metadata": {},
     "output_type": "execute_result"
    }
   ],
   "source": [
    "y_all"
   ]
  },
  {
   "cell_type": "code",
   "execution_count": 22,
   "metadata": {},
   "outputs": [],
   "source": [
    "np.save(\"{}/x_train.npy\".format(TRAIN_DATASET_PATH), x_all)\n",
    "np.save(\"{}/y_train.npy\".format(TRAIN_DATASET_PATH), y_all)"
   ]
  },
  {
   "cell_type": "code",
   "execution_count": null,
   "metadata": {},
   "outputs": [],
   "source": []
  }
 ],
 "metadata": {
  "kernelspec": {
   "display_name": "Python 3",
   "language": "python",
   "name": "python3"
  },
  "language_info": {
   "codemirror_mode": {
    "name": "ipython",
    "version": 3
   },
   "file_extension": ".py",
   "mimetype": "text/x-python",
   "name": "python",
   "nbconvert_exporter": "python",
   "pygments_lexer": "ipython3",
   "version": "3.6.8"
  }
 },
 "nbformat": 4,
 "nbformat_minor": 2
}
